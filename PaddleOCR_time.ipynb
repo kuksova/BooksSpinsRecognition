{
  "cells": [
    {
      "cell_type": "code",
      "execution_count": null,
      "metadata": {
        "id": "MMDJ2Nn4NCTb"
      },
      "outputs": [],
      "source": [
        "import torch"
      ]
    },
    {
      "cell_type": "code",
      "execution_count": null,
      "metadata": {
        "colab": {
          "base_uri": "https://localhost:8080/"
        },
        "id": "PSg-NOaOsTBo",
        "outputId": "9e7aee19-52a1-4da0-8755-35bbadf7b894"
      },
      "outputs": [
        {
          "output_type": "stream",
          "name": "stdout",
          "text": [
            "Mounted at /content/drive\n"
          ]
        }
      ],
      "source": [
        "from google.colab import drive\n",
        "drive.mount('/content/drive')\n",
        "\n",
        "#%cd /content/drive/MyDrive/OCRBooks/\n",
        "#!pwd"
      ]
    },
    {
      "cell_type": "code",
      "execution_count": null,
      "metadata": {
        "colab": {
          "base_uri": "https://localhost:8080/"
        },
        "id": "tzc5syO8sZNW",
        "outputId": "27f963bd-e178-4ce2-b8fe-d2fc62bfbb4e"
      },
      "outputs": [
        {
          "output_type": "stream",
          "name": "stdout",
          "text": [
            "--2023-07-31 23:47:06--  https://paddleocr.bj.bcebos.com/PP-OCRv3/chinese/ch_PP-OCRv3_rec_infer.tar\n",
            "Resolving paddleocr.bj.bcebos.com (paddleocr.bj.bcebos.com)... 103.235.46.61, 2409:8c04:1001:1002:0:ff:b001:368a\n",
            "Connecting to paddleocr.bj.bcebos.com (paddleocr.bj.bcebos.com)|103.235.46.61|:443... connected.\n",
            "HTTP request sent, awaiting response... 200 OK\n",
            "Length: 11909120 (11M) [application/x-tar]\n",
            "Saving to: ‘ch_PP-OCRv3_rec_infer.tar’\n",
            "\n",
            "ch_PP-OCRv3_rec_inf 100%[===================>]  11.36M  1.65MB/s    in 11s     \n",
            "\n",
            "2023-07-31 23:47:20 (1.01 MB/s) - ‘ch_PP-OCRv3_rec_infer.tar’ saved [11909120/11909120]\n",
            "\n"
          ]
        }
      ],
      "source": [
        "\n",
        "!wget  https://paddleocr.bj.bcebos.com/PP-OCRv3/chinese/ch_PP-OCRv3_rec_infer.tar"
      ]
    },
    {
      "cell_type": "code",
      "execution_count": null,
      "metadata": {
        "id": "OS9N93nJstQe"
      },
      "outputs": [],
      "source": [
        "!tar xf ch_PP-OCRv3_rec_infer.tar"
      ]
    },
    {
      "cell_type": "code",
      "execution_count": null,
      "metadata": {
        "colab": {
          "base_uri": "https://localhost:8080/"
        },
        "id": "9P-9wjDQtWgV",
        "outputId": "1f79445a-d8ca-4815-8272-f3cc7775a1ff"
      },
      "outputs": [
        {
          "output_type": "stream",
          "name": "stdout",
          "text": [
            "Cloning into 'PaddleOCR'...\n",
            "remote: Enumerating objects: 46761, done.\u001b[K\n",
            "remote: Counting objects: 100% (7/7), done.\u001b[K\n",
            "remote: Compressing objects: 100% (7/7), done.\u001b[K\n",
            "remote: Total 46761 (delta 2), reused 0 (delta 0), pack-reused 46754\u001b[K\n",
            "Receiving objects: 100% (46761/46761), 342.92 MiB | 11.86 MiB/s, done.\n",
            "Resolving deltas: 100% (32866/32866), done.\n",
            "Updating files: 100% (1622/1622), done.\n"
          ]
        }
      ],
      "source": [
        "!git clone https://github.com/PaddlePaddle/PaddleOCR.git"
      ]
    },
    {
      "cell_type": "code",
      "source": [
        "%cd PaddleOCR"
      ],
      "metadata": {
        "colab": {
          "base_uri": "https://localhost:8080/"
        },
        "id": "3zGPC3GTa6qN",
        "outputId": "d14f1bcb-4231-40d7-85aa-24ee6aa12159"
      },
      "execution_count": null,
      "outputs": [
        {
          "output_type": "stream",
          "name": "stdout",
          "text": [
            "/content/PaddleOCR\n"
          ]
        }
      ]
    },
    {
      "cell_type": "code",
      "execution_count": null,
      "metadata": {
        "id": "EphHur0Js3l_",
        "colab": {
          "base_uri": "https://localhost:8080/"
        },
        "outputId": "069c6390-a3ea-4979-d54f-ac9cb7a70404"
      },
      "outputs": [
        {
          "output_type": "stream",
          "name": "stdout",
          "text": [
            "E0801 00:16:33.262672 10522 analysis_config.cc:121] Please use PaddlePaddle with GPU version.\n",
            "[2023/08/01 00:16:33] ppocr INFO: In PP-OCRv3, rec_image_shape parameter defaults to '3, 48, 320', if you are using recognition model with PP-OCRv2 or an older version, please set --rec_image_shape='3,32,320\n",
            "[2023/08/01 00:16:36] ppocr INFO: Predicts of /content/drive/MyDrive/rotated_SpinsOnly5/IMG_1850.JPG:('', 0.0)\n",
            "[2023/08/01 00:16:36] ppocr INFO: Predicts of /content/drive/MyDrive/rotated_SpinsOnly5/IMG_1851.JPG:('山', 0.09891606122255325)\n",
            "[2023/08/01 00:16:36] ppocr INFO: Predicts of /content/drive/MyDrive/rotated_SpinsOnly5/IMG_1852.JPG:('', 0.0)\n",
            "[2023/08/01 00:16:36] ppocr INFO: Predicts of /content/drive/MyDrive/rotated_SpinsOnly5/IMG_1853.JPG:('', 0.0)\n",
            "[2023/08/01 00:16:36] ppocr INFO: Predicts of /content/drive/MyDrive/rotated_SpinsOnly5/IMG_1854.JPG:('一', 0.8832973837852478)\n"
          ]
        }
      ],
      "source": [
        "# run inference\n",
        "!python3 tools/infer/predict_rec.py --image_dir=\"/content/drive/MyDrive/rotated_SpinsOnly5/\" --rec_model_dir=\"/content/ch_PP-OCRv3_rec_infer/\" --rec_image_shape=3,48,320"
      ]
    },
    {
      "cell_type": "markdown",
      "metadata": {
        "id": "NzWX_JcXzqXV"
      },
      "source": [
        "## Install PaddleOcr gpu\n"
      ]
    },
    {
      "cell_type": "code",
      "execution_count": null,
      "metadata": {
        "colab": {
          "base_uri": "https://localhost:8080/"
        },
        "id": "oZShv6-fudF_",
        "outputId": "821d0d3a-8766-4c3a-b9d5-176b51bad185"
      },
      "outputs": [
        {
          "output_type": "stream",
          "name": "stdout",
          "text": [
            "Looking in indexes: https://pypi.tuna.tsinghua.edu.cn/simple\n",
            "Collecting paddlepaddle-gpu\n",
            "  Downloading https://pypi.tuna.tsinghua.edu.cn/packages/25/5b/d960656d00d027b1c3241091639ff51f70fe796e93b1f8efc6168f705585/paddlepaddle_gpu-2.5.1-cp310-cp310-manylinux1_x86_64.whl (541.0 MB)\n",
            "\u001b[2K     \u001b[90m━━━━━━━━━━━━━━━━━━━━━━━━━━━━━━━━━━━━━━━\u001b[0m \u001b[32m541.0/541.0 MB\u001b[0m \u001b[31m1.2 MB/s\u001b[0m eta \u001b[36m0:00:00\u001b[0m\n",
            "\u001b[?25hCollecting httpx (from paddlepaddle-gpu)\n",
            "  Downloading https://pypi.tuna.tsinghua.edu.cn/packages/ec/91/e41f64f03d2a13aee7e8c819d82ee3aa7cdc484d18c0ae859742597d5aa0/httpx-0.24.1-py3-none-any.whl (75 kB)\n",
            "\u001b[2K     \u001b[90m━━━━━━━━━━━━━━━━━━━━━━━━━━━━━━━━━━━━━━━━\u001b[0m \u001b[32m75.4/75.4 kB\u001b[0m \u001b[31m9.4 MB/s\u001b[0m eta \u001b[36m0:00:00\u001b[0m\n",
            "\u001b[?25hRequirement already satisfied: numpy>=1.13 in /usr/local/lib/python3.10/dist-packages (from paddlepaddle-gpu) (1.22.4)\n",
            "Requirement already satisfied: Pillow in /usr/local/lib/python3.10/dist-packages (from paddlepaddle-gpu) (9.4.0)\n",
            "Requirement already satisfied: decorator in /usr/local/lib/python3.10/dist-packages (from paddlepaddle-gpu) (4.4.2)\n",
            "Collecting astor (from paddlepaddle-gpu)\n",
            "  Downloading https://pypi.tuna.tsinghua.edu.cn/packages/c3/88/97eef84f48fa04fbd6750e62dcceafba6c63c81b7ac1420856c8dcc0a3f9/astor-0.8.1-py2.py3-none-any.whl (27 kB)\n",
            "Collecting paddle-bfloat==0.1.7 (from paddlepaddle-gpu)\n",
            "  Downloading https://pypi.tuna.tsinghua.edu.cn/packages/72/cc/4e6149a9a94f0e1449686f2e5152b734bbc7ddce18ea3b240995d39fc642/paddle_bfloat-0.1.7-cp310-cp310-manylinux_2_17_x86_64.manylinux2014_x86_64.whl (383 kB)\n",
            "\u001b[2K     \u001b[90m━━━━━━━━━━━━━━━━━━━━━━━━━━━━━━━━━━━━━━\u001b[0m \u001b[32m383.2/383.2 kB\u001b[0m \u001b[31m41.2 MB/s\u001b[0m eta \u001b[36m0:00:00\u001b[0m\n",
            "\u001b[?25hRequirement already satisfied: opt-einsum==3.3.0 in /usr/local/lib/python3.10/dist-packages (from paddlepaddle-gpu) (3.3.0)\n",
            "Requirement already satisfied: protobuf>=3.20.2 in /usr/local/lib/python3.10/dist-packages (from paddlepaddle-gpu) (3.20.3)\n",
            "Requirement already satisfied: certifi in /usr/local/lib/python3.10/dist-packages (from httpx->paddlepaddle-gpu) (2023.7.22)\n",
            "Collecting httpcore<0.18.0,>=0.15.0 (from httpx->paddlepaddle-gpu)\n",
            "  Downloading https://pypi.tuna.tsinghua.edu.cn/packages/94/2c/2bde7ff8dd2064395555220cbf7cba79991172bf5315a07eb3ac7688d9f1/httpcore-0.17.3-py3-none-any.whl (74 kB)\n",
            "\u001b[2K     \u001b[90m━━━━━━━━━━━━━━━━━━━━━━━━━━━━━━━━━━━━━━━━\u001b[0m \u001b[32m74.5/74.5 kB\u001b[0m \u001b[31m9.8 MB/s\u001b[0m eta \u001b[36m0:00:00\u001b[0m\n",
            "\u001b[?25hRequirement already satisfied: idna in /usr/local/lib/python3.10/dist-packages (from httpx->paddlepaddle-gpu) (3.4)\n",
            "Requirement already satisfied: sniffio in /usr/local/lib/python3.10/dist-packages (from httpx->paddlepaddle-gpu) (1.3.0)\n",
            "Collecting h11<0.15,>=0.13 (from httpcore<0.18.0,>=0.15.0->httpx->paddlepaddle-gpu)\n",
            "  Downloading https://pypi.tuna.tsinghua.edu.cn/packages/95/04/ff642e65ad6b90db43e668d70ffb6736436c7ce41fcc549f4e9472234127/h11-0.14.0-py3-none-any.whl (58 kB)\n",
            "\u001b[2K     \u001b[90m━━━━━━━━━━━━━━━━━━━━━━━━━━━━━━━━━━━━━━━━\u001b[0m \u001b[32m58.3/58.3 kB\u001b[0m \u001b[31m8.2 MB/s\u001b[0m eta \u001b[36m0:00:00\u001b[0m\n",
            "\u001b[?25hRequirement already satisfied: anyio<5.0,>=3.0 in /usr/local/lib/python3.10/dist-packages (from httpcore<0.18.0,>=0.15.0->httpx->paddlepaddle-gpu) (3.7.1)\n",
            "Requirement already satisfied: exceptiongroup in /usr/local/lib/python3.10/dist-packages (from anyio<5.0,>=3.0->httpcore<0.18.0,>=0.15.0->httpx->paddlepaddle-gpu) (1.1.2)\n",
            "Installing collected packages: paddle-bfloat, h11, astor, httpcore, httpx, paddlepaddle-gpu\n",
            "Successfully installed astor-0.8.1 h11-0.14.0 httpcore-0.17.3 httpx-0.24.1 paddle-bfloat-0.1.7 paddlepaddle-gpu-2.5.1\n"
          ]
        }
      ],
      "source": [
        "!python -m pip install paddlepaddle-gpu -i https://pypi.tuna.tsinghua.edu.cn/simple"
      ]
    },
    {
      "cell_type": "code",
      "execution_count": null,
      "metadata": {
        "colab": {
          "base_uri": "https://localhost:8080/"
        },
        "id": "msPl1ap6vIu0",
        "outputId": "8a4835e0-9d05-437d-8bdb-a37d00cdd8cc"
      },
      "outputs": [
        {
          "output_type": "stream",
          "name": "stdout",
          "text": [
            "Collecting paddleocr>=2.0.1\n",
            "  Downloading paddleocr-2.6.1.3-py3-none-any.whl (445 kB)\n",
            "\u001b[?25l     \u001b[90m━━━━━━━━━━━━━━━━━━━━━━━━━━━━━━━━━━━━━━━━\u001b[0m \u001b[32m0.0/445.9 kB\u001b[0m \u001b[31m?\u001b[0m eta \u001b[36m-:--:--\u001b[0m\r\u001b[2K     \u001b[91m━━━━━━━━━\u001b[0m\u001b[91m╸\u001b[0m\u001b[90m━━━━━━━━━━━━━━━━━━━━━━━━━━━━━\u001b[0m \u001b[32m112.6/445.9 kB\u001b[0m \u001b[31m3.1 MB/s\u001b[0m eta \u001b[36m0:00:01\u001b[0m\r\u001b[2K     \u001b[90m━━━━━━━━━━━━━━━━━━━━━━━━━━━━━━━━━━━━━━━\u001b[0m \u001b[32m445.9/445.9 kB\u001b[0m \u001b[31m8.0 MB/s\u001b[0m eta \u001b[36m0:00:00\u001b[0m\n",
            "\u001b[?25hRequirement already satisfied: shapely in /usr/local/lib/python3.10/dist-packages (from paddleocr>=2.0.1) (2.0.1)\n",
            "Requirement already satisfied: scikit-image in /usr/local/lib/python3.10/dist-packages (from paddleocr>=2.0.1) (0.19.3)\n",
            "Requirement already satisfied: imgaug in /usr/local/lib/python3.10/dist-packages (from paddleocr>=2.0.1) (0.4.0)\n",
            "Collecting pyclipper (from paddleocr>=2.0.1)\n",
            "  Downloading pyclipper-1.3.0.post4-cp310-cp310-manylinux_2_12_x86_64.manylinux2010_x86_64.whl (813 kB)\n",
            "\u001b[2K     \u001b[90m━━━━━━━━━━━━━━━━━━━━━━━━━━━━━━━━━━━━━━\u001b[0m \u001b[32m813.9/813.9 kB\u001b[0m \u001b[31m59.6 MB/s\u001b[0m eta \u001b[36m0:00:00\u001b[0m\n",
            "\u001b[?25hCollecting lmdb (from paddleocr>=2.0.1)\n",
            "  Downloading lmdb-1.4.1-cp310-cp310-manylinux_2_17_x86_64.manylinux2014_x86_64.whl (299 kB)\n",
            "\u001b[2K     \u001b[90m━━━━━━━━━━━━━━━━━━━━━━━━━━━━━━━━━━━━━━\u001b[0m \u001b[32m299.2/299.2 kB\u001b[0m \u001b[31m36.2 MB/s\u001b[0m eta \u001b[36m0:00:00\u001b[0m\n",
            "\u001b[?25hRequirement already satisfied: tqdm in /usr/local/lib/python3.10/dist-packages (from paddleocr>=2.0.1) (4.65.0)\n",
            "Requirement already satisfied: numpy in /usr/local/lib/python3.10/dist-packages (from paddleocr>=2.0.1) (1.22.4)\n",
            "Collecting visualdl (from paddleocr>=2.0.1)\n",
            "  Downloading visualdl-2.5.3-py3-none-any.whl (6.3 MB)\n",
            "\u001b[2K     \u001b[90m━━━━━━━━━━━━━━━━━━━━━━━━━━━━━━━━━━━━━━━━\u001b[0m \u001b[32m6.3/6.3 MB\u001b[0m \u001b[31m96.3 MB/s\u001b[0m eta \u001b[36m0:00:00\u001b[0m\n",
            "\u001b[?25hCollecting rapidfuzz (from paddleocr>=2.0.1)\n",
            "  Downloading rapidfuzz-3.1.2-cp310-cp310-manylinux_2_17_x86_64.manylinux2014_x86_64.whl (3.1 MB)\n",
            "\u001b[2K     \u001b[90m━━━━━━━━━━━━━━━━━━━━━━━━━━━━━━━━━━━━━━━━\u001b[0m \u001b[32m3.1/3.1 MB\u001b[0m \u001b[31m77.9 MB/s\u001b[0m eta \u001b[36m0:00:00\u001b[0m\n",
            "\u001b[?25hCollecting opencv-python<=4.6.0.66 (from paddleocr>=2.0.1)\n",
            "  Downloading opencv_python-4.6.0.66-cp36-abi3-manylinux_2_17_x86_64.manylinux2014_x86_64.whl (60.9 MB)\n",
            "\u001b[2K     \u001b[90m━━━━━━━━━━━━━━━━━━━━━━━━━━━━━━━━━━━━━━━━\u001b[0m \u001b[32m60.9/60.9 MB\u001b[0m \u001b[31m6.9 MB/s\u001b[0m eta \u001b[36m0:00:00\u001b[0m\n",
            "\u001b[?25hCollecting opencv-contrib-python<=4.6.0.66 (from paddleocr>=2.0.1)\n",
            "  Downloading opencv_contrib_python-4.6.0.66-cp36-abi3-manylinux_2_17_x86_64.manylinux2014_x86_64.whl (67.1 MB)\n",
            "\u001b[2K     \u001b[90m━━━━━━━━━━━━━━━━━━━━━━━━━━━━━━━━━━━━━━━━\u001b[0m \u001b[32m67.1/67.1 MB\u001b[0m \u001b[31m6.8 MB/s\u001b[0m eta \u001b[36m0:00:00\u001b[0m\n",
            "\u001b[?25hRequirement already satisfied: cython in /usr/local/lib/python3.10/dist-packages (from paddleocr>=2.0.1) (0.29.36)\n",
            "Requirement already satisfied: lxml in /usr/local/lib/python3.10/dist-packages (from paddleocr>=2.0.1) (4.9.3)\n",
            "Collecting premailer (from paddleocr>=2.0.1)\n",
            "  Downloading premailer-3.10.0-py2.py3-none-any.whl (19 kB)\n",
            "Requirement already satisfied: openpyxl in /usr/local/lib/python3.10/dist-packages (from paddleocr>=2.0.1) (3.0.10)\n",
            "Collecting attrdict (from paddleocr>=2.0.1)\n",
            "  Downloading attrdict-2.0.1-py2.py3-none-any.whl (9.9 kB)\n",
            "Collecting PyMuPDF<1.21.0 (from paddleocr>=2.0.1)\n",
            "  Downloading PyMuPDF-1.20.2-cp310-cp310-manylinux_2_17_x86_64.manylinux2014_x86_64.whl (8.9 MB)\n",
            "\u001b[2K     \u001b[90m━━━━━━━━━━━━━━━━━━━━━━━━━━━━━━━━━━━━━━━━\u001b[0m \u001b[32m8.9/8.9 MB\u001b[0m \u001b[31m56.9 MB/s\u001b[0m eta \u001b[36m0:00:00\u001b[0m\n",
            "\u001b[?25hCollecting python-docx (from paddleocr>=2.0.1)\n",
            "  Downloading python-docx-0.8.11.tar.gz (5.6 MB)\n",
            "\u001b[2K     \u001b[90m━━━━━━━━━━━━━━━━━━━━━━━━━━━━━━━━━━━━━━━━\u001b[0m \u001b[32m5.6/5.6 MB\u001b[0m \u001b[31m78.0 MB/s\u001b[0m eta \u001b[36m0:00:00\u001b[0m\n",
            "\u001b[?25h  Preparing metadata (setup.py) ... \u001b[?25l\u001b[?25hdone\n",
            "Requirement already satisfied: beautifulsoup4 in /usr/local/lib/python3.10/dist-packages (from paddleocr>=2.0.1) (4.11.2)\n",
            "Requirement already satisfied: fonttools>=4.24.0 in /usr/local/lib/python3.10/dist-packages (from paddleocr>=2.0.1) (4.41.1)\n",
            "Collecting fire>=0.3.0 (from paddleocr>=2.0.1)\n",
            "  Downloading fire-0.5.0.tar.gz (88 kB)\n",
            "\u001b[2K     \u001b[90m━━━━━━━━━━━━━━━━━━━━━━━━━━━━━━━━━━━━━━━━\u001b[0m \u001b[32m88.3/88.3 kB\u001b[0m \u001b[31m11.6 MB/s\u001b[0m eta \u001b[36m0:00:00\u001b[0m\n",
            "\u001b[?25h  Preparing metadata (setup.py) ... \u001b[?25l\u001b[?25hdone\n",
            "Collecting pdf2docx (from paddleocr>=2.0.1)\n",
            "  Downloading pdf2docx-0.5.6-py3-none-any.whl (148 kB)\n",
            "\u001b[2K     \u001b[90m━━━━━━━━━━━━━━━━━━━━━━━━━━━━━━━━━━━━━━\u001b[0m \u001b[32m148.4/148.4 kB\u001b[0m \u001b[31m18.1 MB/s\u001b[0m eta \u001b[36m0:00:00\u001b[0m\n",
            "\u001b[?25hRequirement already satisfied: six in /usr/local/lib/python3.10/dist-packages (from fire>=0.3.0->paddleocr>=2.0.1) (1.16.0)\n",
            "Requirement already satisfied: termcolor in /usr/local/lib/python3.10/dist-packages (from fire>=0.3.0->paddleocr>=2.0.1) (2.3.0)\n",
            "Requirement already satisfied: soupsieve>1.2 in /usr/local/lib/python3.10/dist-packages (from beautifulsoup4->paddleocr>=2.0.1) (2.4.1)\n",
            "Requirement already satisfied: scipy in /usr/local/lib/python3.10/dist-packages (from imgaug->paddleocr>=2.0.1) (1.10.1)\n",
            "Requirement already satisfied: Pillow in /usr/local/lib/python3.10/dist-packages (from imgaug->paddleocr>=2.0.1) (9.4.0)\n",
            "Requirement already satisfied: matplotlib in /usr/local/lib/python3.10/dist-packages (from imgaug->paddleocr>=2.0.1) (3.7.1)\n",
            "Requirement already satisfied: imageio in /usr/local/lib/python3.10/dist-packages (from imgaug->paddleocr>=2.0.1) (2.25.1)\n",
            "Requirement already satisfied: networkx>=2.2 in /usr/local/lib/python3.10/dist-packages (from scikit-image->paddleocr>=2.0.1) (3.1)\n",
            "Requirement already satisfied: tifffile>=2019.7.26 in /usr/local/lib/python3.10/dist-packages (from scikit-image->paddleocr>=2.0.1) (2023.7.18)\n",
            "Requirement already satisfied: PyWavelets>=1.1.1 in /usr/local/lib/python3.10/dist-packages (from scikit-image->paddleocr>=2.0.1) (1.4.1)\n",
            "Requirement already satisfied: packaging>=20.0 in /usr/local/lib/python3.10/dist-packages (from scikit-image->paddleocr>=2.0.1) (23.1)\n",
            "Requirement already satisfied: et-xmlfile in /usr/local/lib/python3.10/dist-packages (from openpyxl->paddleocr>=2.0.1) (1.1.0)\n",
            "Collecting cssselect (from premailer->paddleocr>=2.0.1)\n",
            "  Downloading cssselect-1.2.0-py2.py3-none-any.whl (18 kB)\n",
            "Collecting cssutils (from premailer->paddleocr>=2.0.1)\n",
            "  Downloading cssutils-2.7.1-py3-none-any.whl (399 kB)\n",
            "\u001b[2K     \u001b[90m━━━━━━━━━━━━━━━━━━━━━━━━━━━━━━━━━━━━━━\u001b[0m \u001b[32m399.7/399.7 kB\u001b[0m \u001b[31m38.7 MB/s\u001b[0m eta \u001b[36m0:00:00\u001b[0m\n",
            "\u001b[?25hRequirement already satisfied: requests in /usr/local/lib/python3.10/dist-packages (from premailer->paddleocr>=2.0.1) (2.27.1)\n",
            "Requirement already satisfied: cachetools in /usr/local/lib/python3.10/dist-packages (from premailer->paddleocr>=2.0.1) (5.3.1)\n",
            "Collecting bce-python-sdk (from visualdl->paddleocr>=2.0.1)\n",
            "  Downloading bce_python_sdk-0.8.87-py3-none-any.whl (231 kB)\n",
            "\u001b[2K     \u001b[90m━━━━━━━━━━━━━━━━━━━━━━━━━━━━━━━━━━━━━━\u001b[0m \u001b[32m231.3/231.3 kB\u001b[0m \u001b[31m25.1 MB/s\u001b[0m eta \u001b[36m0:00:00\u001b[0m\n",
            "\u001b[?25hRequirement already satisfied: flask>=1.1.1 in /usr/local/lib/python3.10/dist-packages (from visualdl->paddleocr>=2.0.1) (2.2.5)\n",
            "Collecting Flask-Babel>=3.0.0 (from visualdl->paddleocr>=2.0.1)\n",
            "  Downloading flask_babel-3.1.0-py3-none-any.whl (9.6 kB)\n",
            "Requirement already satisfied: protobuf>=3.20.0 in /usr/local/lib/python3.10/dist-packages (from visualdl->paddleocr>=2.0.1) (3.20.3)\n",
            "Requirement already satisfied: pandas in /usr/local/lib/python3.10/dist-packages (from visualdl->paddleocr>=2.0.1) (1.5.3)\n",
            "Collecting rarfile (from visualdl->paddleocr>=2.0.1)\n",
            "  Downloading rarfile-4.0-py3-none-any.whl (28 kB)\n",
            "Requirement already satisfied: psutil in /usr/local/lib/python3.10/dist-packages (from visualdl->paddleocr>=2.0.1) (5.9.5)\n",
            "Requirement already satisfied: Werkzeug>=2.2.2 in /usr/local/lib/python3.10/dist-packages (from flask>=1.1.1->visualdl->paddleocr>=2.0.1) (2.3.6)\n",
            "Requirement already satisfied: Jinja2>=3.0 in /usr/local/lib/python3.10/dist-packages (from flask>=1.1.1->visualdl->paddleocr>=2.0.1) (3.1.2)\n",
            "Requirement already satisfied: itsdangerous>=2.0 in /usr/local/lib/python3.10/dist-packages (from flask>=1.1.1->visualdl->paddleocr>=2.0.1) (2.1.2)\n",
            "Requirement already satisfied: click>=8.0 in /usr/local/lib/python3.10/dist-packages (from flask>=1.1.1->visualdl->paddleocr>=2.0.1) (8.1.6)\n",
            "Requirement already satisfied: Babel>=2.12 in /usr/local/lib/python3.10/dist-packages (from Flask-Babel>=3.0.0->visualdl->paddleocr>=2.0.1) (2.12.1)\n",
            "Requirement already satisfied: pytz>=2022.7 in /usr/local/lib/python3.10/dist-packages (from Flask-Babel>=3.0.0->visualdl->paddleocr>=2.0.1) (2022.7.1)\n",
            "Collecting pycryptodome>=3.8.0 (from bce-python-sdk->visualdl->paddleocr>=2.0.1)\n",
            "  Downloading pycryptodome-3.18.0-cp35-abi3-manylinux_2_17_x86_64.manylinux2014_x86_64.whl (2.1 MB)\n",
            "\u001b[2K     \u001b[90m━━━━━━━━━━━━━━━━━━━━━━━━━━━━━━━━━━━━━━━━\u001b[0m \u001b[32m2.1/2.1 MB\u001b[0m \u001b[31m73.0 MB/s\u001b[0m eta \u001b[36m0:00:00\u001b[0m\n",
            "\u001b[?25hRequirement already satisfied: future>=0.6.0 in /usr/local/lib/python3.10/dist-packages (from bce-python-sdk->visualdl->paddleocr>=2.0.1) (0.18.3)\n",
            "Requirement already satisfied: contourpy>=1.0.1 in /usr/local/lib/python3.10/dist-packages (from matplotlib->imgaug->paddleocr>=2.0.1) (1.1.0)\n",
            "Requirement already satisfied: cycler>=0.10 in /usr/local/lib/python3.10/dist-packages (from matplotlib->imgaug->paddleocr>=2.0.1) (0.11.0)\n",
            "Requirement already satisfied: kiwisolver>=1.0.1 in /usr/local/lib/python3.10/dist-packages (from matplotlib->imgaug->paddleocr>=2.0.1) (1.4.4)\n",
            "Requirement already satisfied: pyparsing>=2.3.1 in /usr/local/lib/python3.10/dist-packages (from matplotlib->imgaug->paddleocr>=2.0.1) (3.1.0)\n",
            "Requirement already satisfied: python-dateutil>=2.7 in /usr/local/lib/python3.10/dist-packages (from matplotlib->imgaug->paddleocr>=2.0.1) (2.8.2)\n",
            "Requirement already satisfied: urllib3<1.27,>=1.21.1 in /usr/local/lib/python3.10/dist-packages (from requests->premailer->paddleocr>=2.0.1) (1.26.16)\n",
            "Requirement already satisfied: certifi>=2017.4.17 in /usr/local/lib/python3.10/dist-packages (from requests->premailer->paddleocr>=2.0.1) (2023.7.22)\n",
            "Requirement already satisfied: charset-normalizer~=2.0.0 in /usr/local/lib/python3.10/dist-packages (from requests->premailer->paddleocr>=2.0.1) (2.0.12)\n",
            "Requirement already satisfied: idna<4,>=2.5 in /usr/local/lib/python3.10/dist-packages (from requests->premailer->paddleocr>=2.0.1) (3.4)\n",
            "Requirement already satisfied: MarkupSafe>=2.0 in /usr/local/lib/python3.10/dist-packages (from Jinja2>=3.0->flask>=1.1.1->visualdl->paddleocr>=2.0.1) (2.1.3)\n",
            "Building wheels for collected packages: fire, python-docx\n",
            "  Building wheel for fire (setup.py) ... \u001b[?25l\u001b[?25hdone\n",
            "  Created wheel for fire: filename=fire-0.5.0-py2.py3-none-any.whl size=116932 sha256=86bf6a7e3cb15bb9819bdab7797b0c1bdc8c69b5bec4cd0b0f9ac6ad281d9934\n",
            "  Stored in directory: /root/.cache/pip/wheels/90/d4/f7/9404e5db0116bd4d43e5666eaa3e70ab53723e1e3ea40c9a95\n",
            "  Building wheel for python-docx (setup.py) ... \u001b[?25l\u001b[?25hdone\n",
            "  Created wheel for python-docx: filename=python_docx-0.8.11-py3-none-any.whl size=184489 sha256=6031190642328b12125629761091a039257f0ac31d8fba25942d9daf0cf863f5\n",
            "  Stored in directory: /root/.cache/pip/wheels/80/27/06/837436d4c3bd989b957a91679966f207bfd71d358d63a8194d\n",
            "Successfully built fire python-docx\n",
            "Installing collected packages: rarfile, pyclipper, lmdb, rapidfuzz, python-docx, PyMuPDF, pycryptodome, opencv-python, opencv-contrib-python, fire, cssutils, cssselect, attrdict, premailer, pdf2docx, bce-python-sdk, Flask-Babel, visualdl, paddleocr\n",
            "  Attempting uninstall: opencv-python\n",
            "    Found existing installation: opencv-python 4.7.0.72\n",
            "    Uninstalling opencv-python-4.7.0.72:\n",
            "      Successfully uninstalled opencv-python-4.7.0.72\n",
            "  Attempting uninstall: opencv-contrib-python\n",
            "    Found existing installation: opencv-contrib-python 4.7.0.72\n",
            "    Uninstalling opencv-contrib-python-4.7.0.72:\n",
            "      Successfully uninstalled opencv-contrib-python-4.7.0.72\n",
            "Successfully installed Flask-Babel-3.1.0 PyMuPDF-1.20.2 attrdict-2.0.1 bce-python-sdk-0.8.87 cssselect-1.2.0 cssutils-2.7.1 fire-0.5.0 lmdb-1.4.1 opencv-contrib-python-4.6.0.66 opencv-python-4.6.0.66 paddleocr-2.6.1.3 pdf2docx-0.5.6 premailer-3.10.0 pyclipper-1.3.0.post4 pycryptodome-3.18.0 python-docx-0.8.11 rapidfuzz-3.1.2 rarfile-4.0 visualdl-2.5.3\n"
          ]
        }
      ],
      "source": [
        "!pip install \"paddleocr>=2.0.1\" # Recommend to use version 2.0.1+"
      ]
    },
    {
      "cell_type": "code",
      "source": [
        "!wget http://nz2.archive.ubuntu.com/ubuntu/pool/main/o/openssl/libssl1.1_1.1.1f-1ubuntu2.19_amd64.deb\n",
        "!sudo dpkg -i libssl1.1_1.1.1f-1ubuntu2.19_amd64.deb"
      ],
      "metadata": {
        "colab": {
          "base_uri": "https://localhost:8080/"
        },
        "id": "RBlg34l8ST5g",
        "outputId": "85530545-743c-41d6-a702-a7e93edbd092"
      },
      "execution_count": null,
      "outputs": [
        {
          "output_type": "stream",
          "name": "stdout",
          "text": [
            "--2023-08-01 00:15:40--  http://nz2.archive.ubuntu.com/ubuntu/pool/main/o/openssl/libssl1.1_1.1.1f-1ubuntu2.19_amd64.deb\n",
            "Resolving nz2.archive.ubuntu.com (nz2.archive.ubuntu.com)... 91.189.91.81, 91.189.91.82, 185.125.190.36, ...\n",
            "Connecting to nz2.archive.ubuntu.com (nz2.archive.ubuntu.com)|91.189.91.81|:80... connected.\n",
            "HTTP request sent, awaiting response... 200 OK\n",
            "Length: 1321244 (1.3M) [application/vnd.debian.binary-package]\n",
            "Saving to: ‘libssl1.1_1.1.1f-1ubuntu2.19_amd64.deb’\n",
            "\n",
            "libssl1.1_1.1.1f-1u 100%[===================>]   1.26M  6.21MB/s    in 0.2s    \n",
            "\n",
            "2023-08-01 00:15:40 (6.21 MB/s) - ‘libssl1.1_1.1.1f-1ubuntu2.19_amd64.deb’ saved [1321244/1321244]\n",
            "\n",
            "Selecting previously unselected package libssl1.1:amd64.\n",
            "(Reading database ... 120493 files and directories currently installed.)\n",
            "Preparing to unpack libssl1.1_1.1.1f-1ubuntu2.19_amd64.deb ...\n",
            "Unpacking libssl1.1:amd64 (1.1.1f-1ubuntu2.19) ...\n",
            "Setting up libssl1.1:amd64 (1.1.1f-1ubuntu2.19) ...\n",
            "debconf: unable to initialize frontend: Dialog\n",
            "debconf: (No usable dialog-like program is installed, so the dialog based frontend cannot be used. at /usr/share/perl5/Debconf/FrontEnd/Dialog.pm line 78.)\n",
            "debconf: falling back to frontend: Readline\n",
            "debconf: unable to initialize frontend: Readline\n",
            "debconf: (This frontend requires a controlling tty.)\n",
            "debconf: falling back to frontend: Teletype\n",
            "Processing triggers for libc-bin (2.35-0ubuntu3.1) ...\n"
          ]
        }
      ]
    },
    {
      "cell_type": "code",
      "execution_count": null,
      "metadata": {
        "id": "LylBivUSuWZj"
      },
      "outputs": [],
      "source": [
        "#!paddleocr --image_dir ./imgs_en/img_12.jpg --use_angle_cls true --lang en --use_gpu false"
      ]
    },
    {
      "cell_type": "code",
      "execution_count": null,
      "metadata": {
        "colab": {
          "base_uri": "https://localhost:8080/"
        },
        "id": "0YzAqbHpydt4",
        "outputId": "4e1eff37-db8e-406c-c38d-f3bb2cccc44c"
      },
      "outputs": [
        {
          "output_type": "stream",
          "name": "stdout",
          "text": [
            "usage: paddleocr\n",
            "       [-h]\n",
            "       [--use_gpu USE_GPU]\n",
            "       [--use_xpu USE_XPU]\n",
            "       [--use_npu USE_NPU]\n",
            "       [--ir_optim IR_OPTIM]\n",
            "       [--use_tensorrt USE_TENSORRT]\n",
            "       [--min_subgraph_size MIN_SUBGRAPH_SIZE]\n",
            "       [--precision PRECISION]\n",
            "       [--gpu_mem GPU_MEM]\n",
            "       [--image_dir IMAGE_DIR]\n",
            "       [--page_num PAGE_NUM]\n",
            "       [--det_algorithm DET_ALGORITHM]\n",
            "       [--det_model_dir DET_MODEL_DIR]\n",
            "       [--det_limit_side_len DET_LIMIT_SIDE_LEN]\n",
            "       [--det_limit_type DET_LIMIT_TYPE]\n",
            "       [--det_box_type DET_BOX_TYPE]\n",
            "       [--det_db_thresh DET_DB_THRESH]\n",
            "       [--det_db_box_thresh DET_DB_BOX_THRESH]\n",
            "       [--det_db_unclip_ratio DET_DB_UNCLIP_RATIO]\n",
            "       [--max_batch_size MAX_BATCH_SIZE]\n",
            "       [--use_dilation USE_DILATION]\n",
            "       [--det_db_score_mode DET_DB_SCORE_MODE]\n",
            "       [--det_east_score_thresh DET_EAST_SCORE_THRESH]\n",
            "       [--det_east_cover_thresh DET_EAST_COVER_THRESH]\n",
            "       [--det_east_nms_thresh DET_EAST_NMS_THRESH]\n",
            "       [--det_sast_score_thresh DET_SAST_SCORE_THRESH]\n",
            "       [--det_sast_nms_thresh DET_SAST_NMS_THRESH]\n",
            "       [--det_pse_thresh DET_PSE_THRESH]\n",
            "       [--det_pse_box_thresh DET_PSE_BOX_THRESH]\n",
            "       [--det_pse_min_area DET_PSE_MIN_AREA]\n",
            "       [--det_pse_scale DET_PSE_SCALE]\n",
            "       [--scales SCALES]\n",
            "       [--alpha ALPHA]\n",
            "       [--beta BETA]\n",
            "       [--fourier_degree FOURIER_DEGREE]\n",
            "       [--rec_algorithm REC_ALGORITHM]\n",
            "       [--rec_model_dir REC_MODEL_DIR]\n",
            "       [--rec_image_inverse REC_IMAGE_INVERSE]\n",
            "       [--rec_image_shape REC_IMAGE_SHAPE]\n",
            "       [--rec_batch_num REC_BATCH_NUM]\n",
            "       [--max_text_length MAX_TEXT_LENGTH]\n",
            "       [--rec_char_dict_path REC_CHAR_DICT_PATH]\n",
            "       [--use_space_char USE_SPACE_CHAR]\n",
            "       [--vis_font_path VIS_FONT_PATH]\n",
            "       [--drop_score DROP_SCORE]\n",
            "       [--e2e_algorithm E2E_ALGORITHM]\n",
            "       [--e2e_model_dir E2E_MODEL_DIR]\n",
            "       [--e2e_limit_side_len E2E_LIMIT_SIDE_LEN]\n",
            "       [--e2e_limit_type E2E_LIMIT_TYPE]\n",
            "       [--e2e_pgnet_score_thresh E2E_PGNET_SCORE_THRESH]\n",
            "       [--e2e_char_dict_path E2E_CHAR_DICT_PATH]\n",
            "       [--e2e_pgnet_valid_set E2E_PGNET_VALID_SET]\n",
            "       [--e2e_pgnet_mode E2E_PGNET_MODE]\n",
            "       [--use_angle_cls USE_ANGLE_CLS]\n",
            "       [--cls_model_dir CLS_MODEL_DIR]\n",
            "       [--cls_image_shape CLS_IMAGE_SHAPE]\n",
            "       [--label_list LABEL_LIST]\n",
            "       [--cls_batch_num CLS_BATCH_NUM]\n",
            "       [--cls_thresh CLS_THRESH]\n",
            "       [--enable_mkldnn ENABLE_MKLDNN]\n",
            "       [--cpu_threads CPU_THREADS]\n",
            "       [--use_pdserving USE_PDSERVING]\n",
            "       [--warmup WARMUP]\n",
            "       [--sr_model_dir SR_MODEL_DIR]\n",
            "       [--sr_image_shape SR_IMAGE_SHAPE]\n",
            "       [--sr_batch_num SR_BATCH_NUM]\n",
            "       [--draw_img_save_dir DRAW_IMG_SAVE_DIR]\n",
            "       [--save_crop_res SAVE_CROP_RES]\n",
            "       [--crop_res_save_dir CROP_RES_SAVE_DIR]\n",
            "       [--use_mp USE_MP]\n",
            "       [--total_process_num TOTAL_PROCESS_NUM]\n",
            "       [--process_id PROCESS_ID]\n",
            "       [--benchmark BENCHMARK]\n",
            "       [--save_log_path SAVE_LOG_PATH]\n",
            "       [--show_log SHOW_LOG]\n",
            "       [--use_onnx USE_ONNX]\n",
            "       [--output OUTPUT]\n",
            "       [--table_max_len TABLE_MAX_LEN]\n",
            "       [--table_algorithm TABLE_ALGORITHM]\n",
            "       [--table_model_dir TABLE_MODEL_DIR]\n",
            "       [--merge_no_span_structure MERGE_NO_SPAN_STRUCTURE]\n",
            "       [--table_char_dict_path TABLE_CHAR_DICT_PATH]\n",
            "       [--layout_model_dir LAYOUT_MODEL_DIR]\n",
            "       [--layout_dict_path LAYOUT_DICT_PATH]\n",
            "       [--layout_score_threshold LAYOUT_SCORE_THRESHOLD]\n",
            "       [--layout_nms_threshold LAYOUT_NMS_THRESHOLD]\n",
            "       [--kie_algorithm KIE_ALGORITHM]\n",
            "       [--ser_model_dir SER_MODEL_DIR]\n",
            "       [--re_model_dir RE_MODEL_DIR]\n",
            "       [--use_visual_backbone USE_VISUAL_BACKBONE]\n",
            "       [--ser_dict_path SER_DICT_PATH]\n",
            "       [--ocr_order_method OCR_ORDER_METHOD]\n",
            "       [--mode {structure,kie}]\n",
            "       [--image_orientation IMAGE_ORIENTATION]\n",
            "       [--layout LAYOUT]\n",
            "       [--table TABLE]\n",
            "       [--ocr OCR]\n",
            "       [--recovery RECOVERY]\n",
            "       [--use_pdf2docx_api USE_PDF2DOCX_API]\n",
            "       [--lang LANG]\n",
            "       [--det DET]\n",
            "       [--rec REC]\n",
            "       [--type TYPE]\n",
            "       [--ocr_version {PP-OCR,PP-OCRv2,PP-OCRv3}]\n",
            "       [--structure_version {PP-Structure,PP-StructureV2}]\n",
            "\n",
            "options:\n",
            "  -h, --help\n",
            "    show this\n",
            "    help\n",
            "    message and\n",
            "    exit\n",
            "  --use_gpu USE_GPU\n",
            "  --use_xpu USE_XPU\n",
            "  --use_npu USE_NPU\n",
            "  --ir_optim IR_OPTIM\n",
            "  --use_tensorrt USE_TENSORRT\n",
            "  --min_subgraph_size MIN_SUBGRAPH_SIZE\n",
            "  --precision PRECISION\n",
            "  --gpu_mem GPU_MEM\n",
            "  --image_dir IMAGE_DIR\n",
            "  --page_num PAGE_NUM\n",
            "  --det_algorithm DET_ALGORITHM\n",
            "  --det_model_dir DET_MODEL_DIR\n",
            "  --det_limit_side_len DET_LIMIT_SIDE_LEN\n",
            "  --det_limit_type DET_LIMIT_TYPE\n",
            "  --det_box_type DET_BOX_TYPE\n",
            "  --det_db_thresh DET_DB_THRESH\n",
            "  --det_db_box_thresh DET_DB_BOX_THRESH\n",
            "  --det_db_unclip_ratio DET_DB_UNCLIP_RATIO\n",
            "  --max_batch_size MAX_BATCH_SIZE\n",
            "  --use_dilation USE_DILATION\n",
            "  --det_db_score_mode DET_DB_SCORE_MODE\n",
            "  --det_east_score_thresh DET_EAST_SCORE_THRESH\n",
            "  --det_east_cover_thresh DET_EAST_COVER_THRESH\n",
            "  --det_east_nms_thresh DET_EAST_NMS_THRESH\n",
            "  --det_sast_score_thresh DET_SAST_SCORE_THRESH\n",
            "  --det_sast_nms_thresh DET_SAST_NMS_THRESH\n",
            "  --det_pse_thresh DET_PSE_THRESH\n",
            "  --det_pse_box_thresh DET_PSE_BOX_THRESH\n",
            "  --det_pse_min_area DET_PSE_MIN_AREA\n",
            "  --det_pse_scale DET_PSE_SCALE\n",
            "  --scales SCALES\n",
            "  --alpha ALPHA\n",
            "  --beta BETA\n",
            "  --fourier_degree FOURIER_DEGREE\n",
            "  --rec_algorithm REC_ALGORITHM\n",
            "  --rec_model_dir REC_MODEL_DIR\n",
            "  --rec_image_inverse REC_IMAGE_INVERSE\n",
            "  --rec_image_shape REC_IMAGE_SHAPE\n",
            "  --rec_batch_num REC_BATCH_NUM\n",
            "  --max_text_length MAX_TEXT_LENGTH\n",
            "  --rec_char_dict_path REC_CHAR_DICT_PATH\n",
            "  --use_space_char USE_SPACE_CHAR\n",
            "  --vis_font_path VIS_FONT_PATH\n",
            "  --drop_score DROP_SCORE\n",
            "  --e2e_algorithm E2E_ALGORITHM\n",
            "  --e2e_model_dir E2E_MODEL_DIR\n",
            "  --e2e_limit_side_len E2E_LIMIT_SIDE_LEN\n",
            "  --e2e_limit_type E2E_LIMIT_TYPE\n",
            "  --e2e_pgnet_score_thresh E2E_PGNET_SCORE_THRESH\n",
            "  --e2e_char_dict_path E2E_CHAR_DICT_PATH\n",
            "  --e2e_pgnet_valid_set E2E_PGNET_VALID_SET\n",
            "  --e2e_pgnet_mode E2E_PGNET_MODE\n",
            "  --use_angle_cls USE_ANGLE_CLS\n",
            "  --cls_model_dir CLS_MODEL_DIR\n",
            "  --cls_image_shape CLS_IMAGE_SHAPE\n",
            "  --label_list LABEL_LIST\n",
            "  --cls_batch_num CLS_BATCH_NUM\n",
            "  --cls_thresh CLS_THRESH\n",
            "  --enable_mkldnn ENABLE_MKLDNN\n",
            "  --cpu_threads CPU_THREADS\n",
            "  --use_pdserving USE_PDSERVING\n",
            "  --warmup WARMUP\n",
            "  --sr_model_dir SR_MODEL_DIR\n",
            "  --sr_image_shape SR_IMAGE_SHAPE\n",
            "  --sr_batch_num SR_BATCH_NUM\n",
            "  --draw_img_save_dir DRAW_IMG_SAVE_DIR\n",
            "  --save_crop_res SAVE_CROP_RES\n",
            "  --crop_res_save_dir CROP_RES_SAVE_DIR\n",
            "  --use_mp USE_MP\n",
            "  --total_process_num TOTAL_PROCESS_NUM\n",
            "  --process_id PROCESS_ID\n",
            "  --benchmark BENCHMARK\n",
            "  --save_log_path SAVE_LOG_PATH\n",
            "  --show_log SHOW_LOG\n",
            "  --use_onnx USE_ONNX\n",
            "  --output OUTPUT\n",
            "  --table_max_len TABLE_MAX_LEN\n",
            "  --table_algorithm TABLE_ALGORITHM\n",
            "  --table_model_dir TABLE_MODEL_DIR\n",
            "  --merge_no_span_structure MERGE_NO_SPAN_STRUCTURE\n",
            "  --table_char_dict_path TABLE_CHAR_DICT_PATH\n",
            "  --layout_model_dir LAYOUT_MODEL_DIR\n",
            "  --layout_dict_path LAYOUT_DICT_PATH\n",
            "  --layout_score_threshold LAYOUT_SCORE_THRESHOLD\n",
            "    Threshold\n",
            "    of score.\n",
            "  --layout_nms_threshold LAYOUT_NMS_THRESHOLD\n",
            "    Threshold\n",
            "    of nms.\n",
            "  --kie_algorithm KIE_ALGORITHM\n",
            "  --ser_model_dir SER_MODEL_DIR\n",
            "  --re_model_dir RE_MODEL_DIR\n",
            "  --use_visual_backbone USE_VISUAL_BACKBONE\n",
            "  --ser_dict_path SER_DICT_PATH\n",
            "  --ocr_order_method OCR_ORDER_METHOD\n",
            "  --mode {structure,kie}\n",
            "    structure\n",
            "    and kie is\n",
            "    supported\n",
            "  --image_orientation IMAGE_ORIENTATION\n",
            "    Whether to\n",
            "    enable\n",
            "    image\n",
            "    orientation\n",
            "    recognition\n",
            "  --layout LAYOUT\n",
            "    Whether to\n",
            "    enable\n",
            "    layout\n",
            "    analysis\n",
            "  --table TABLE\n",
            "    In the\n",
            "    forward,\n",
            "    whether the\n",
            "    table area\n",
            "    uses table\n",
            "    recognition\n",
            "  --ocr OCR\n",
            "    In the\n",
            "    forward,\n",
            "    whether the\n",
            "    non-table\n",
            "    area is\n",
            "    recognition\n",
            "    by ocr\n",
            "  --recovery RECOVERY\n",
            "    Whether to\n",
            "    enable\n",
            "    layout of\n",
            "    recovery\n",
            "  --use_pdf2docx_api USE_PDF2DOCX_API\n",
            "    Whether to\n",
            "    use\n",
            "    pdf2docx\n",
            "    api\n",
            "  --lang LANG\n",
            "  --det DET\n",
            "  --rec REC\n",
            "  --type TYPE\n",
            "  --ocr_version {PP-OCR,PP-OCRv2,PP-OCRv3}\n",
            "    OCR Model\n",
            "    version,\n",
            "    the current\n",
            "    model\n",
            "    support\n",
            "    list is as\n",
            "    follows: 1.\n",
            "    PP-OCRv3\n",
            "    Support\n",
            "    Chinese and\n",
            "    English\n",
            "    detection\n",
            "    and\n",
            "    recognition\n",
            "    model, and\n",
            "    direction\n",
            "    classifier\n",
            "    model2. PP-\n",
            "    OCRv2\n",
            "    Support\n",
            "    Chinese\n",
            "    detection\n",
            "    and\n",
            "    recognition\n",
            "    model. 3.\n",
            "    PP-OCR\n",
            "    support\n",
            "    Chinese\n",
            "    detection,\n",
            "    recognition\n",
            "    and\n",
            "    direction\n",
            "    classifier\n",
            "    and multili\n",
            "    ngual\n",
            "    recognition\n",
            "    model.\n",
            "  --structure_version {PP-Structure,PP-StructureV2}\n",
            "    Model\n",
            "    version,\n",
            "    the current\n",
            "    model\n",
            "    support\n",
            "    list is as\n",
            "    follows: 1.\n",
            "    PP-\n",
            "    Structure\n",
            "    Support en\n",
            "    table\n",
            "    structure\n",
            "    model. 2.\n",
            "    PP-\n",
            "    StructureV2\n",
            "    Support ch\n",
            "    and en\n",
            "    table\n",
            "    structure\n",
            "    model.\n"
          ]
        }
      ],
      "source": [
        "!paddleocr --help"
      ]
    },
    {
      "cell_type": "code",
      "execution_count": null,
      "metadata": {
        "id": "XEQxubezzvws"
      },
      "outputs": [],
      "source": [
        "# download en model：\n",
        "wget https://paddleocr.bj.bcebos.com/PP-OCRv3/english/en_PP-OCRv3_rec_infer.tar\n",
        "tar xf en_PP-OCRv3_rec_infer.tar\n",
        "python3 tools/infer/predict_rec.py --image_dir=\"./doc/imgs_words/en/word_1.png\" --rec_model_dir=\"./en_PP-OCRv3_rec_infer/\" --rec_char_dict_path=\"ppocr/utils/en_dict.txt\""
      ]
    },
    {
      "cell_type": "code",
      "execution_count": null,
      "metadata": {
        "colab": {
          "base_uri": "https://localhost:8080/"
        },
        "id": "IMGWN7k_vW5p",
        "outputId": "b4baba5d-be9e-46f4-a208-cc738adf2494"
      },
      "outputs": [
        {
          "name": "stdout",
          "output_type": "stream",
          "text": [
            "[2023/07/10 17:39:55] ppocr DEBUG: Namespace(help='==SUPPRESS==', use_gpu=True, use_xpu=False, use_npu=False, ir_optim=True, use_tensorrt=False, min_subgraph_size=15, precision='fp32', gpu_mem=500, image_dir=None, page_num=0, det_algorithm='DB', det_model_dir='/root/.paddleocr/whl/det/en/en_PP-OCRv3_det_infer', det_limit_side_len=960, det_limit_type='max', det_box_type='quad', det_db_thresh=0.3, det_db_box_thresh=0.6, det_db_unclip_ratio=1.5, max_batch_size=10, use_dilation=False, det_db_score_mode='fast', det_east_score_thresh=0.8, det_east_cover_thresh=0.1, det_east_nms_thresh=0.2, det_sast_score_thresh=0.5, det_sast_nms_thresh=0.2, det_pse_thresh=0, det_pse_box_thresh=0.85, det_pse_min_area=16, det_pse_scale=1, scales=[8, 16, 32], alpha=1.0, beta=1.0, fourier_degree=5, rec_algorithm='SVTR_LCNet', rec_model_dir='/root/.paddleocr/whl/rec/en/en_PP-OCRv3_rec_infer', rec_image_inverse=True, rec_image_shape='3, 48, 320', rec_batch_num=6, max_text_length=25, rec_char_dict_path='/usr/local/lib/python3.10/dist-packages/paddleocr/ppocr/utils/en_dict.txt', use_space_char=True, vis_font_path='./doc/fonts/simfang.ttf', drop_score=0.5, e2e_algorithm='PGNet', e2e_model_dir=None, e2e_limit_side_len=768, e2e_limit_type='max', e2e_pgnet_score_thresh=0.5, e2e_char_dict_path='./ppocr/utils/ic15_dict.txt', e2e_pgnet_valid_set='totaltext', e2e_pgnet_mode='fast', use_angle_cls=True, cls_model_dir='/root/.paddleocr/whl/cls/ch_ppocr_mobile_v2.0_cls_infer', cls_image_shape='3, 48, 192', label_list=['0', '180'], cls_batch_num=6, cls_thresh=0.9, enable_mkldnn=False, cpu_threads=10, use_pdserving=False, warmup=False, sr_model_dir=None, sr_image_shape='3, 32, 128', sr_batch_num=1, draw_img_save_dir='./inference_results', save_crop_res=False, crop_res_save_dir='./output', use_mp=False, total_process_num=1, process_id=0, benchmark=False, save_log_path='./log_output/', show_log=True, use_onnx=False, output='./output', table_max_len=488, table_algorithm='TableAttn', table_model_dir=None, merge_no_span_structure=True, table_char_dict_path=None, layout_model_dir=None, layout_dict_path=None, layout_score_threshold=0.5, layout_nms_threshold=0.5, kie_algorithm='LayoutXLM', ser_model_dir=None, re_model_dir=None, use_visual_backbone=True, ser_dict_path='../train_data/XFUND/class_list_xfun.txt', ocr_order_method=None, mode='structure', image_orientation=False, layout=True, table=True, ocr=True, recovery=False, use_pdf2docx_api=False, lang='en', det=True, rec=True, type='ocr', ocr_version='PP-OCRv3', structure_version='PP-StructureV2')\n"
          ]
        }
      ],
      "source": [
        "#from paddleocr import PaddleOCR\n",
        "# PP-OCR: en_ppocr_mobile_v2.0_det_infer.tar\n",
        "#ocr = PaddleOCR(use_angle_cls=True, lang='en', use_gpu=True, ocr_version='PP-OCRv3', ) # need to run only once to download and load model into memory"
      ]
    },
    {
      "cell_type": "markdown",
      "metadata": {
        "id": "wVcwD11e_Rb8"
      },
      "source": [
        "cls: use angle classifier or not. Default is True. If true, the text with rotation of 180 degrees can be recognized. If no text is rotated by 180 degrees, use cls=False to get better performance. Text with rotation of 90 or 270 degrees can be recognized even if cls=False.\n",
        "\n"
      ]
    },
    {
      "cell_type": "code",
      "execution_count": null,
      "metadata": {
        "colab": {
          "base_uri": "https://localhost:8080/"
        },
        "id": "B26jDlSuaYAQ",
        "outputId": "a068031f-b020-4c86-e586-96092c26d097"
      },
      "outputs": [
        {
          "output_type": "stream",
          "name": "stdout",
          "text": [
            "Looking in indexes: https://pypi.tuna.tsinghua.edu.cn/simple\n",
            "Requirement already satisfied: paddlepaddle in /usr/local/lib/python3.10/dist-packages (2.5.1)\n",
            "Requirement already satisfied: httpx in /usr/local/lib/python3.10/dist-packages (from paddlepaddle) (0.24.1)\n",
            "Requirement already satisfied: numpy>=1.13 in /usr/local/lib/python3.10/dist-packages (from paddlepaddle) (1.22.4)\n",
            "Requirement already satisfied: Pillow in /usr/local/lib/python3.10/dist-packages (from paddlepaddle) (9.4.0)\n",
            "Requirement already satisfied: decorator in /usr/local/lib/python3.10/dist-packages (from paddlepaddle) (4.4.2)\n",
            "Requirement already satisfied: astor in /usr/local/lib/python3.10/dist-packages (from paddlepaddle) (0.8.1)\n",
            "Requirement already satisfied: paddle-bfloat==0.1.7 in /usr/local/lib/python3.10/dist-packages (from paddlepaddle) (0.1.7)\n",
            "Requirement already satisfied: opt-einsum==3.3.0 in /usr/local/lib/python3.10/dist-packages (from paddlepaddle) (3.3.0)\n",
            "Requirement already satisfied: protobuf>=3.20.2 in /usr/local/lib/python3.10/dist-packages (from paddlepaddle) (3.20.3)\n",
            "Requirement already satisfied: certifi in /usr/local/lib/python3.10/dist-packages (from httpx->paddlepaddle) (2023.7.22)\n",
            "Requirement already satisfied: httpcore<0.18.0,>=0.15.0 in /usr/local/lib/python3.10/dist-packages (from httpx->paddlepaddle) (0.17.3)\n",
            "Requirement already satisfied: idna in /usr/local/lib/python3.10/dist-packages (from httpx->paddlepaddle) (3.4)\n",
            "Requirement already satisfied: sniffio in /usr/local/lib/python3.10/dist-packages (from httpx->paddlepaddle) (1.3.0)\n",
            "Requirement already satisfied: h11<0.15,>=0.13 in /usr/local/lib/python3.10/dist-packages (from httpcore<0.18.0,>=0.15.0->httpx->paddlepaddle) (0.14.0)\n",
            "Requirement already satisfied: anyio<5.0,>=3.0 in /usr/local/lib/python3.10/dist-packages (from httpcore<0.18.0,>=0.15.0->httpx->paddlepaddle) (3.7.1)\n",
            "Requirement already satisfied: exceptiongroup in /usr/local/lib/python3.10/dist-packages (from anyio<5.0,>=3.0->httpcore<0.18.0,>=0.15.0->httpx->paddlepaddle) (1.1.2)\n"
          ]
        }
      ],
      "source": [
        "# Paddle cpu\n",
        "!python -m pip install paddlepaddle -i https://pypi.tuna.tsinghua.edu.cn/simple"
      ]
    },
    {
      "cell_type": "code",
      "execution_count": null,
      "metadata": {
        "colab": {
          "base_uri": "https://localhost:8080/"
        },
        "id": "Er0o8e0eappP",
        "outputId": "ae4e781e-6cf3-4a04-9e63-ec46ddaa4095"
      },
      "outputs": [
        {
          "output_type": "stream",
          "name": "stdout",
          "text": [
            "Requirement already satisfied: paddleocr>=2.0.1 in /usr/local/lib/python3.10/dist-packages (2.6.1.3)\n",
            "Requirement already satisfied: shapely in /usr/local/lib/python3.10/dist-packages (from paddleocr>=2.0.1) (2.0.1)\n",
            "Requirement already satisfied: scikit-image in /usr/local/lib/python3.10/dist-packages (from paddleocr>=2.0.1) (0.19.3)\n",
            "Requirement already satisfied: imgaug in /usr/local/lib/python3.10/dist-packages (from paddleocr>=2.0.1) (0.4.0)\n",
            "Requirement already satisfied: pyclipper in /usr/local/lib/python3.10/dist-packages (from paddleocr>=2.0.1) (1.3.0.post4)\n",
            "Requirement already satisfied: lmdb in /usr/local/lib/python3.10/dist-packages (from paddleocr>=2.0.1) (1.4.1)\n",
            "Requirement already satisfied: tqdm in /usr/local/lib/python3.10/dist-packages (from paddleocr>=2.0.1) (4.65.0)\n",
            "Requirement already satisfied: numpy in /usr/local/lib/python3.10/dist-packages (from paddleocr>=2.0.1) (1.22.4)\n",
            "Requirement already satisfied: visualdl in /usr/local/lib/python3.10/dist-packages (from paddleocr>=2.0.1) (2.5.3)\n",
            "Requirement already satisfied: rapidfuzz in /usr/local/lib/python3.10/dist-packages (from paddleocr>=2.0.1) (3.1.2)\n",
            "Requirement already satisfied: opencv-python<=4.6.0.66 in /usr/local/lib/python3.10/dist-packages (from paddleocr>=2.0.1) (4.6.0.66)\n",
            "Requirement already satisfied: opencv-contrib-python<=4.6.0.66 in /usr/local/lib/python3.10/dist-packages (from paddleocr>=2.0.1) (4.6.0.66)\n",
            "Requirement already satisfied: cython in /usr/local/lib/python3.10/dist-packages (from paddleocr>=2.0.1) (0.29.36)\n",
            "Requirement already satisfied: lxml in /usr/local/lib/python3.10/dist-packages (from paddleocr>=2.0.1) (4.9.3)\n",
            "Requirement already satisfied: premailer in /usr/local/lib/python3.10/dist-packages (from paddleocr>=2.0.1) (3.10.0)\n",
            "Requirement already satisfied: openpyxl in /usr/local/lib/python3.10/dist-packages (from paddleocr>=2.0.1) (3.0.10)\n",
            "Requirement already satisfied: attrdict in /usr/local/lib/python3.10/dist-packages (from paddleocr>=2.0.1) (2.0.1)\n",
            "Requirement already satisfied: PyMuPDF<1.21.0 in /usr/local/lib/python3.10/dist-packages (from paddleocr>=2.0.1) (1.20.2)\n",
            "Requirement already satisfied: python-docx in /usr/local/lib/python3.10/dist-packages (from paddleocr>=2.0.1) (0.8.11)\n",
            "Requirement already satisfied: beautifulsoup4 in /usr/local/lib/python3.10/dist-packages (from paddleocr>=2.0.1) (4.11.2)\n",
            "Requirement already satisfied: fonttools>=4.24.0 in /usr/local/lib/python3.10/dist-packages (from paddleocr>=2.0.1) (4.41.1)\n",
            "Requirement already satisfied: fire>=0.3.0 in /usr/local/lib/python3.10/dist-packages (from paddleocr>=2.0.1) (0.5.0)\n",
            "Requirement already satisfied: pdf2docx in /usr/local/lib/python3.10/dist-packages (from paddleocr>=2.0.1) (0.5.6)\n",
            "Requirement already satisfied: six in /usr/local/lib/python3.10/dist-packages (from fire>=0.3.0->paddleocr>=2.0.1) (1.16.0)\n",
            "Requirement already satisfied: termcolor in /usr/local/lib/python3.10/dist-packages (from fire>=0.3.0->paddleocr>=2.0.1) (2.3.0)\n",
            "Requirement already satisfied: soupsieve>1.2 in /usr/local/lib/python3.10/dist-packages (from beautifulsoup4->paddleocr>=2.0.1) (2.4.1)\n",
            "Requirement already satisfied: scipy in /usr/local/lib/python3.10/dist-packages (from imgaug->paddleocr>=2.0.1) (1.10.1)\n",
            "Requirement already satisfied: Pillow in /usr/local/lib/python3.10/dist-packages (from imgaug->paddleocr>=2.0.1) (9.4.0)\n",
            "Requirement already satisfied: matplotlib in /usr/local/lib/python3.10/dist-packages (from imgaug->paddleocr>=2.0.1) (3.7.1)\n",
            "Requirement already satisfied: imageio in /usr/local/lib/python3.10/dist-packages (from imgaug->paddleocr>=2.0.1) (2.25.1)\n",
            "Requirement already satisfied: networkx>=2.2 in /usr/local/lib/python3.10/dist-packages (from scikit-image->paddleocr>=2.0.1) (3.1)\n",
            "Requirement already satisfied: tifffile>=2019.7.26 in /usr/local/lib/python3.10/dist-packages (from scikit-image->paddleocr>=2.0.1) (2023.7.18)\n",
            "Requirement already satisfied: PyWavelets>=1.1.1 in /usr/local/lib/python3.10/dist-packages (from scikit-image->paddleocr>=2.0.1) (1.4.1)\n",
            "Requirement already satisfied: packaging>=20.0 in /usr/local/lib/python3.10/dist-packages (from scikit-image->paddleocr>=2.0.1) (23.1)\n",
            "Requirement already satisfied: et-xmlfile in /usr/local/lib/python3.10/dist-packages (from openpyxl->paddleocr>=2.0.1) (1.1.0)\n",
            "Requirement already satisfied: cssselect in /usr/local/lib/python3.10/dist-packages (from premailer->paddleocr>=2.0.1) (1.2.0)\n",
            "Requirement already satisfied: cssutils in /usr/local/lib/python3.10/dist-packages (from premailer->paddleocr>=2.0.1) (2.7.1)\n",
            "Requirement already satisfied: requests in /usr/local/lib/python3.10/dist-packages (from premailer->paddleocr>=2.0.1) (2.27.1)\n",
            "Requirement already satisfied: cachetools in /usr/local/lib/python3.10/dist-packages (from premailer->paddleocr>=2.0.1) (5.3.1)\n",
            "Requirement already satisfied: bce-python-sdk in /usr/local/lib/python3.10/dist-packages (from visualdl->paddleocr>=2.0.1) (0.8.87)\n",
            "Requirement already satisfied: flask>=1.1.1 in /usr/local/lib/python3.10/dist-packages (from visualdl->paddleocr>=2.0.1) (2.2.5)\n",
            "Requirement already satisfied: Flask-Babel>=3.0.0 in /usr/local/lib/python3.10/dist-packages (from visualdl->paddleocr>=2.0.1) (3.1.0)\n",
            "Requirement already satisfied: protobuf>=3.20.0 in /usr/local/lib/python3.10/dist-packages (from visualdl->paddleocr>=2.0.1) (3.20.3)\n",
            "Requirement already satisfied: pandas in /usr/local/lib/python3.10/dist-packages (from visualdl->paddleocr>=2.0.1) (1.5.3)\n",
            "Requirement already satisfied: rarfile in /usr/local/lib/python3.10/dist-packages (from visualdl->paddleocr>=2.0.1) (4.0)\n",
            "Requirement already satisfied: psutil in /usr/local/lib/python3.10/dist-packages (from visualdl->paddleocr>=2.0.1) (5.9.5)\n",
            "Requirement already satisfied: Werkzeug>=2.2.2 in /usr/local/lib/python3.10/dist-packages (from flask>=1.1.1->visualdl->paddleocr>=2.0.1) (2.3.6)\n",
            "Requirement already satisfied: Jinja2>=3.0 in /usr/local/lib/python3.10/dist-packages (from flask>=1.1.1->visualdl->paddleocr>=2.0.1) (3.1.2)\n",
            "Requirement already satisfied: itsdangerous>=2.0 in /usr/local/lib/python3.10/dist-packages (from flask>=1.1.1->visualdl->paddleocr>=2.0.1) (2.1.2)\n",
            "Requirement already satisfied: click>=8.0 in /usr/local/lib/python3.10/dist-packages (from flask>=1.1.1->visualdl->paddleocr>=2.0.1) (8.1.6)\n",
            "Requirement already satisfied: Babel>=2.12 in /usr/local/lib/python3.10/dist-packages (from Flask-Babel>=3.0.0->visualdl->paddleocr>=2.0.1) (2.12.1)\n",
            "Requirement already satisfied: pytz>=2022.7 in /usr/local/lib/python3.10/dist-packages (from Flask-Babel>=3.0.0->visualdl->paddleocr>=2.0.1) (2022.7.1)\n",
            "Requirement already satisfied: pycryptodome>=3.8.0 in /usr/local/lib/python3.10/dist-packages (from bce-python-sdk->visualdl->paddleocr>=2.0.1) (3.18.0)\n",
            "Requirement already satisfied: future>=0.6.0 in /usr/local/lib/python3.10/dist-packages (from bce-python-sdk->visualdl->paddleocr>=2.0.1) (0.18.3)\n",
            "Requirement already satisfied: contourpy>=1.0.1 in /usr/local/lib/python3.10/dist-packages (from matplotlib->imgaug->paddleocr>=2.0.1) (1.1.0)\n",
            "Requirement already satisfied: cycler>=0.10 in /usr/local/lib/python3.10/dist-packages (from matplotlib->imgaug->paddleocr>=2.0.1) (0.11.0)\n",
            "Requirement already satisfied: kiwisolver>=1.0.1 in /usr/local/lib/python3.10/dist-packages (from matplotlib->imgaug->paddleocr>=2.0.1) (1.4.4)\n",
            "Requirement already satisfied: pyparsing>=2.3.1 in /usr/local/lib/python3.10/dist-packages (from matplotlib->imgaug->paddleocr>=2.0.1) (3.1.0)\n",
            "Requirement already satisfied: python-dateutil>=2.7 in /usr/local/lib/python3.10/dist-packages (from matplotlib->imgaug->paddleocr>=2.0.1) (2.8.2)\n",
            "Requirement already satisfied: urllib3<1.27,>=1.21.1 in /usr/local/lib/python3.10/dist-packages (from requests->premailer->paddleocr>=2.0.1) (1.26.16)\n",
            "Requirement already satisfied: certifi>=2017.4.17 in /usr/local/lib/python3.10/dist-packages (from requests->premailer->paddleocr>=2.0.1) (2023.7.22)\n",
            "Requirement already satisfied: charset-normalizer~=2.0.0 in /usr/local/lib/python3.10/dist-packages (from requests->premailer->paddleocr>=2.0.1) (2.0.12)\n",
            "Requirement already satisfied: idna<4,>=2.5 in /usr/local/lib/python3.10/dist-packages (from requests->premailer->paddleocr>=2.0.1) (3.4)\n",
            "Requirement already satisfied: MarkupSafe>=2.0 in /usr/local/lib/python3.10/dist-packages (from Jinja2>=3.0->flask>=1.1.1->visualdl->paddleocr>=2.0.1) (2.1.3)\n"
          ]
        }
      ],
      "source": [
        "!pip install \"paddleocr>=2.0.1\" # Recommend to use version 2.0.1+"
      ]
    },
    {
      "cell_type": "code",
      "execution_count": null,
      "metadata": {
        "id": "-umuluamccb_"
      },
      "outputs": [],
      "source": [
        "import cv2\n",
        "from matplotlib import pyplot as plt\n",
        "import csv\n",
        "from pathlib import Path\n",
        "\n",
        "def show_boxe(img_path, result, label_book):\n",
        "  font = cv2.FONT_HERSHEY_SIMPLEX\n",
        "  result = result[0]\n",
        "\n",
        "  #image = Image.open(img_path).convert('RGB')\n",
        "  boxes = [line[0] for line in result]\n",
        "  txts = [line[1][0] for line in result]\n",
        "  scores = [line[1][1] for line in result]\n",
        "\n",
        "  #img = cv2.imread(img_path)\n",
        "  img = cv2.imread(img_path)#, cv2.IMREAD_GRAYSCALE)\n",
        "  imagefile = Path(img_path).stem\n",
        "  #spacer = 100\n",
        "  i = 0\n",
        "\n",
        "\n",
        "  label_data = []\n",
        "  for coor in boxes:\n",
        "      #print(coor)\n",
        "      c0 = coor[0]\n",
        "      c1 = coor[1]\n",
        "      c2 = coor[2]\n",
        "      c3 = coor[3]\n",
        "\n",
        "      top_left = tuple([int(c0[0]), int(c0[1])])\n",
        "      bottom_right = tuple([int(c2[0]), int(c2[1])])\n",
        "\n",
        "      top_left_start = top_left\n",
        "\n",
        "\n",
        "      #text = detection[1]\n",
        "      img = cv2.rectangle(img,top_left,bottom_right,(0,255,0),3)\n",
        "      #img = cv2.putText(img,text,(20,spacer), font, 0.5,(0,255,0),2,cv2.LINE_AA)\n",
        "      #spacer+=15\n",
        "\n",
        "      #img2 = img.crop((int(c0[0]), int(c0[1]), int(c2[0]), int(c2[1])))\n",
        "      #print(int(c0[0]), int(c2[0]))\n",
        "      #print(int(c0[1]),int(c2[1]))\n",
        "      cropped_image = img[int(c0[1]):int(c2[1]), int(c0[0]):int(c2[0]) ]\n",
        "      #img2.save(\"croped.jpg\")\n",
        "      name_crop_img = str(imagefile)+\"_\"+str(i)+\".jpg\"\n",
        "      print(name_crop_img)\n",
        "      #cv2.imwrite(\"/content/drive/MyDrive/OCRBooks/Spines_Only_cropped/\"+str(imagefile)+\"_\"+str(i)+\".jpg\", cropped_image)\n",
        "      cv2.imwrite(\"/content/drive/MyDrive/OCRBooks/Spines_Only_cropped/\"+str(name_crop_img), cropped_image)\n",
        "      #cv2.imwrite(\"/content/drive/MyDrive/OCRBooks/Spines_Only_cropped/\"+str(label_book[i])+\".jpg\", cropped_image)\n",
        "\n",
        "      #label_data.append([name_crop_img, label_book[i]])\n",
        "      label_data.append(name_crop_img)\n",
        "      i = i+1\n",
        "  #plt.imshow(cropped_image)\n",
        "  #plt.imshow(img, 'gray')\n",
        "  #plt.show()\n",
        "  return label_data\n"
      ]
    },
    {
      "cell_type": "code",
      "source": [
        "a = [[\"Janet\", \"Evanovich\", \"Wicked Business\", \"Bantam\"],\n",
        "     [\"Light of hope\", \"Robert Vaughan\"],\n",
        "     [\"CASS\", \"The HEIR\", \"HARPER TEEN\"],\n",
        "     [\"Once Upon a Time\", \"J.Randy Jaraborelly\", \"Warner Books\"],\n",
        "     [\"Baum/Furstenberg, Denslow\", \"The Wizard of oz\", \"Weekly Reader Books\"],\n",
        "     [\"A Fawcett Premier Book\", \"A thousand days\", \"Arthur M.Schlensinger, Jr\", \"449-00731-250\"],\n",
        "     [\"Mystery\", \"Ministers wife\", \"To have and hold\", \"Jeffers\", \"Guideposts\"],\n",
        "     [\"Boynton\", \"Snuggle puppy\"],\n",
        "     [\"Comrades\", \"Stephen E. Ambrose\", \"Simon&Schuster\"],\n",
        "     [\"Shelly\", \"Frankenstein\", \"Norton\", \"Critical Editions\"],\n",
        "     [\"It gets dark sometimes\", \"Jeffrey Marx\"],\n",
        "     [\"J.D.Mackie\", \"A history of Scotland\", \"Dorset\"],\n",
        "     [\"Mystery\", \"Ministers wife\", \"Funny Money\", \"Depree\", \"Guideposts\"],\n",
        "     [\"Is God to blame?\", \"BOYD\"],\n",
        "     [\"Lord, Change Me\", \"Christenson\"],\n",
        "     [\"To let\", \"Galsworthy\", \"SL 207\"],\n",
        "     [\"Wit and Wisdom of kids\"],\n",
        "     [\"Houghton Miflin & Co\", \"Cabinet Edition\", \"Longfellows Poems\"],\n",
        "     [\"Signet\", \"9989\", \"Today we choose Faces bridge of ashes\", \"Roger Zelazny\", \"0-451-09989-3\", \"295\", \"double science fiction\"],\n",
        "     [\"What not to wear\", \"Trinny Woodall & Susanna\", \"Riverhead books\"],\n",
        "     [\"Pocket books health\", \"the healty heart food counter\", \"Natow and heslin\"],\n",
        "     [\"The power of a praying parent\", \"Omartian\", \"Harvest House\"],\n",
        "     [\"Michael Vey\", \"Richard Paul Evans\"],\n",
        "     [\"Messiah\", \"War in the middle east\", \"Grant R.Jeff\"],\n",
        "     [\"Those gay Middle Ages\", \"Kershner\", \"Willett, Clark & Company\"]\n",
        "     ]\n",
        "\n",
        "img_folder = '/content/drive/MyDrive/OCRBooks/SpinesOnly/'\n",
        "\n",
        "paddleocr_data = []\n",
        "can_recog_img = []\n",
        "\n",
        "ocr = PaddleOCR(use_angle_cls=False, lang='en', use_gpu=True, ocr_version='PP-OCRv3' )\n"
      ],
      "metadata": {
        "colab": {
          "base_uri": "https://localhost:8080/"
        },
        "id": "c_kzS44eYrUs",
        "outputId": "5ae8a1b6-ea78-4897-a7a9-b614dcb6bc37"
      },
      "execution_count": null,
      "outputs": [
        {
          "output_type": "stream",
          "name": "stdout",
          "text": [
            "[2023/07/31 19:41:55] ppocr DEBUG: Namespace(help='==SUPPRESS==', use_gpu=True, use_xpu=False, use_npu=False, ir_optim=True, use_tensorrt=False, min_subgraph_size=15, precision='fp32', gpu_mem=500, image_dir=None, page_num=0, det_algorithm='DB', det_model_dir='/root/.paddleocr/whl/det/en/en_PP-OCRv3_det_infer', det_limit_side_len=960, det_limit_type='max', det_box_type='quad', det_db_thresh=0.3, det_db_box_thresh=0.6, det_db_unclip_ratio=1.5, max_batch_size=10, use_dilation=False, det_db_score_mode='fast', det_east_score_thresh=0.8, det_east_cover_thresh=0.1, det_east_nms_thresh=0.2, det_sast_score_thresh=0.5, det_sast_nms_thresh=0.2, det_pse_thresh=0, det_pse_box_thresh=0.85, det_pse_min_area=16, det_pse_scale=1, scales=[8, 16, 32], alpha=1.0, beta=1.0, fourier_degree=5, rec_algorithm='SVTR_LCNet', rec_model_dir='/root/.paddleocr/whl/rec/en/en_PP-OCRv3_rec_infer', rec_image_inverse=True, rec_image_shape='3, 48, 320', rec_batch_num=6, max_text_length=25, rec_char_dict_path='/usr/local/lib/python3.10/dist-packages/paddleocr/ppocr/utils/en_dict.txt', use_space_char=True, vis_font_path='./doc/fonts/simfang.ttf', drop_score=0.5, e2e_algorithm='PGNet', e2e_model_dir=None, e2e_limit_side_len=768, e2e_limit_type='max', e2e_pgnet_score_thresh=0.5, e2e_char_dict_path='./ppocr/utils/ic15_dict.txt', e2e_pgnet_valid_set='totaltext', e2e_pgnet_mode='fast', use_angle_cls=False, cls_model_dir='/root/.paddleocr/whl/cls/ch_ppocr_mobile_v2.0_cls_infer', cls_image_shape='3, 48, 192', label_list=['0', '180'], cls_batch_num=6, cls_thresh=0.9, enable_mkldnn=False, cpu_threads=10, use_pdserving=False, warmup=False, sr_model_dir=None, sr_image_shape='3, 32, 128', sr_batch_num=1, draw_img_save_dir='./inference_results', save_crop_res=False, crop_res_save_dir='./output', use_mp=False, total_process_num=1, process_id=0, benchmark=False, save_log_path='./log_output/', show_log=True, use_onnx=False, output='./output', table_max_len=488, table_algorithm='TableAttn', table_model_dir=None, merge_no_span_structure=True, table_char_dict_path=None, layout_model_dir=None, layout_dict_path=None, layout_score_threshold=0.5, layout_nms_threshold=0.5, kie_algorithm='LayoutXLM', ser_model_dir=None, re_model_dir=None, use_visual_backbone=True, ser_dict_path='../train_data/XFUND/class_list_xfun.txt', ocr_order_method=None, mode='structure', image_orientation=False, layout=True, table=True, ocr=True, recovery=False, use_pdf2docx_api=False, lang='en', det=True, rec=True, type='ocr', ocr_version='PP-OCRv3', structure_version='PP-StructureV2')\n"
          ]
        }
      ]
    },
    {
      "cell_type": "code",
      "source": [
        "#for i, name in tqdm_notebook(enumerate(sorted(os.listdir(img_folder)))):\n",
        "data_label = []\n",
        "for i, name in enumerate(sorted(os.listdir(img_folder))):\n",
        "  #print(\" \")\n",
        "  #if i== 1:\n",
        "  #  break\n",
        "  img_path = os.path.join(img_folder, name)\n",
        "  img = cv2.imread(img_path)#, cv2.IMREAD_GRAYSCALE)\n",
        "  #plt.imshow(img, 'gray')\n",
        "  #plt.show()\n",
        "\n",
        "  #break\n",
        "\n",
        "  t0 = time.time()\n",
        "  result = ocr.ocr(img, det=True, rec=True, cls=False)\n",
        "\n",
        "  boxes = [line[0] for line in result[0]]\n",
        "  print(\"gr_number_words \", len(a[i]),\"boxes \", len(boxes))\n",
        "  if len(boxes) != 0:\n",
        "\n",
        "    label_data = show_boxe(img_path, result, a[i])\n",
        "    for item in label_data:\n",
        "      data_label.append(item)\n",
        "  #break"
      ],
      "metadata": {
        "colab": {
          "base_uri": "https://localhost:8080/"
        },
        "id": "yy3FAa7NbmAR",
        "outputId": "1905812f-e12e-467f-eabd-c56a40d6834d"
      },
      "execution_count": null,
      "outputs": [
        {
          "output_type": "stream",
          "name": "stdout",
          "text": [
            "[2023/07/31 20:12:35] ppocr DEBUG: dt_boxes num : 4, elapse : 0.03890371322631836\n",
            "[2023/07/31 20:12:35] ppocr DEBUG: rec_res num  : 4, elapse : 0.019489288330078125\n",
            "gr_number_words  4 boxes  4\n",
            "IMG_1849_0.jpg\n",
            "IMG_1849_1.jpg\n",
            "IMG_1849_2.jpg\n",
            "IMG_1849_3.jpg\n",
            "[2023/07/31 20:12:36] ppocr DEBUG: dt_boxes num : 0, elapse : 0.03433561325073242\n",
            "[2023/07/31 20:12:36] ppocr DEBUG: rec_res num  : 0, elapse : 2.1457672119140625e-06\n",
            "gr_number_words  2 boxes  0\n",
            "[2023/07/31 20:12:36] ppocr DEBUG: dt_boxes num : 4, elapse : 0.03568744659423828\n",
            "[2023/07/31 20:12:36] ppocr DEBUG: rec_res num  : 4, elapse : 0.01521444320678711\n",
            "gr_number_words  3 boxes  4\n",
            "IMG_1851_0.jpg\n",
            "IMG_1851_1.jpg\n",
            "IMG_1851_2.jpg\n",
            "IMG_1851_3.jpg\n",
            "[2023/07/31 20:12:37] ppocr DEBUG: dt_boxes num : 3, elapse : 0.037235260009765625\n",
            "[2023/07/31 20:12:37] ppocr DEBUG: rec_res num  : 3, elapse : 0.022690534591674805\n",
            "gr_number_words  3 boxes  3\n",
            "IMG_1852_0.jpg\n",
            "IMG_1852_1.jpg\n",
            "IMG_1852_2.jpg\n",
            "[2023/07/31 20:12:39] ppocr DEBUG: dt_boxes num : 9, elapse : 0.03898310661315918\n",
            "[2023/07/31 20:12:39] ppocr DEBUG: rec_res num  : 9, elapse : 0.04107022285461426\n",
            "gr_number_words  3 boxes  6\n",
            "IMG_1853_0.jpg\n",
            "IMG_1853_1.jpg\n",
            "IMG_1853_2.jpg\n",
            "IMG_1853_3.jpg\n",
            "IMG_1853_4.jpg\n",
            "IMG_1853_5.jpg\n",
            "[2023/07/31 20:12:40] ppocr DEBUG: dt_boxes num : 15, elapse : 0.05516839027404785\n",
            "[2023/07/31 20:12:41] ppocr DEBUG: rec_res num  : 15, elapse : 0.052559852600097656\n",
            "gr_number_words  4 boxes  3\n",
            "IMG_1854_0.jpg\n",
            "IMG_1854_1.jpg\n",
            "IMG_1854_2.jpg\n",
            "[2023/07/31 20:12:42] ppocr DEBUG: dt_boxes num : 7, elapse : 0.05121326446533203\n",
            "[2023/07/31 20:12:42] ppocr DEBUG: rec_res num  : 7, elapse : 0.04355216026306152\n",
            "gr_number_words  5 boxes  5\n",
            "IMG_1855_0.jpg\n",
            "IMG_1855_1.jpg\n",
            "IMG_1855_2.jpg\n",
            "IMG_1855_3.jpg\n",
            "IMG_1855_4.jpg\n",
            "[2023/07/31 20:12:45] ppocr DEBUG: dt_boxes num : 2, elapse : 0.05883383750915527\n",
            "[2023/07/31 20:12:45] ppocr DEBUG: rec_res num  : 2, elapse : 0.034754037857055664\n",
            "gr_number_words  2 boxes  2\n",
            "IMG_1856_0.jpg\n",
            "IMG_1856_1.jpg\n",
            "[2023/07/31 20:12:47] ppocr DEBUG: dt_boxes num : 3, elapse : 0.03696703910827637\n",
            "[2023/07/31 20:12:47] ppocr DEBUG: rec_res num  : 3, elapse : 0.022764921188354492\n",
            "gr_number_words  3 boxes  3\n",
            "IMG_1857_0.jpg\n",
            "IMG_1857_1.jpg\n",
            "IMG_1857_2.jpg\n",
            "[2023/07/31 20:12:49] ppocr DEBUG: dt_boxes num : 6, elapse : 0.03843259811401367\n",
            "[2023/07/31 20:12:49] ppocr DEBUG: rec_res num  : 6, elapse : 0.01970386505126953\n",
            "gr_number_words  4 boxes  5\n",
            "IMG_1858_0.jpg\n",
            "IMG_1858_1.jpg\n",
            "IMG_1858_2.jpg\n",
            "IMG_1858_3.jpg\n",
            "IMG_1858_4.jpg\n",
            "[2023/07/31 20:12:51] ppocr DEBUG: dt_boxes num : 2, elapse : 0.05698251724243164\n",
            "[2023/07/31 20:12:51] ppocr DEBUG: rec_res num  : 2, elapse : 0.021240234375\n",
            "gr_number_words  2 boxes  0\n",
            "[2023/07/31 20:12:53] ppocr DEBUG: dt_boxes num : 4, elapse : 0.04158306121826172\n",
            "[2023/07/31 20:12:53] ppocr DEBUG: rec_res num  : 4, elapse : 0.011747360229492188\n",
            "gr_number_words  3 boxes  3\n",
            "IMG_1860_0.jpg\n",
            "IMG_1860_1.jpg\n",
            "IMG_1860_2.jpg\n",
            "[2023/07/31 20:12:54] ppocr DEBUG: dt_boxes num : 3, elapse : 0.03460288047790527\n",
            "[2023/07/31 20:12:54] ppocr DEBUG: rec_res num  : 3, elapse : 0.012108325958251953\n",
            "gr_number_words  5 boxes  2\n",
            "IMG_1861_0.jpg\n",
            "IMG_1861_1.jpg\n",
            "[2023/07/31 20:12:56] ppocr DEBUG: dt_boxes num : 3, elapse : 0.03360462188720703\n",
            "[2023/07/31 20:12:56] ppocr DEBUG: rec_res num  : 3, elapse : 0.0157015323638916\n",
            "gr_number_words  2 boxes  0\n",
            "[2023/07/31 20:12:58] ppocr DEBUG: dt_boxes num : 2, elapse : 0.049757957458496094\n",
            "[2023/07/31 20:12:58] ppocr DEBUG: rec_res num  : 2, elapse : 0.01825404167175293\n",
            "gr_number_words  2 boxes  0\n",
            "[2023/07/31 20:13:00] ppocr DEBUG: dt_boxes num : 5, elapse : 0.05018162727355957\n",
            "[2023/07/31 20:13:00] ppocr DEBUG: rec_res num  : 5, elapse : 0.021409273147583008\n",
            "gr_number_words  3 boxes  2\n",
            "IMG_1864_0.jpg\n",
            "IMG_1864_1.jpg\n",
            "[2023/07/31 20:13:03] ppocr DEBUG: dt_boxes num : 2, elapse : 0.033566951751708984\n",
            "[2023/07/31 20:13:03] ppocr DEBUG: rec_res num  : 2, elapse : 0.016936302185058594\n",
            "gr_number_words  1 boxes  1\n",
            "IMG_1865_0.jpg\n",
            "[2023/07/31 20:13:05] ppocr DEBUG: dt_boxes num : 6, elapse : 0.04318523406982422\n",
            "[2023/07/31 20:13:05] ppocr DEBUG: rec_res num  : 6, elapse : 0.016033172607421875\n",
            "gr_number_words  3 boxes  6\n",
            "IMG_1866_0.jpg\n",
            "IMG_1866_1.jpg\n",
            "IMG_1866_2.jpg\n",
            "IMG_1866_3.jpg\n",
            "IMG_1866_4.jpg\n",
            "IMG_1866_5.jpg\n",
            "[2023/07/31 20:13:06] ppocr DEBUG: dt_boxes num : 8, elapse : 0.04060721397399902\n",
            "[2023/07/31 20:13:07] ppocr DEBUG: rec_res num  : 8, elapse : 0.03269457817077637\n",
            "gr_number_words  7 boxes  1\n",
            "IMG_1867_0.jpg\n",
            "[2023/07/31 20:13:09] ppocr DEBUG: dt_boxes num : 4, elapse : 0.03609323501586914\n",
            "[2023/07/31 20:13:09] ppocr DEBUG: rec_res num  : 4, elapse : 0.017212867736816406\n",
            "gr_number_words  3 boxes  1\n",
            "IMG_1868_0.jpg\n",
            "[2023/07/31 20:13:10] ppocr DEBUG: dt_boxes num : 5, elapse : 0.03762388229370117\n",
            "[2023/07/31 20:13:10] ppocr DEBUG: rec_res num  : 5, elapse : 0.027229785919189453\n",
            "gr_number_words  3 boxes  3\n",
            "IMG_1869_0.jpg\n",
            "IMG_1869_1.jpg\n",
            "IMG_1869_2.jpg\n",
            "[2023/07/31 20:13:13] ppocr DEBUG: dt_boxes num : 3, elapse : 0.05153632164001465\n",
            "[2023/07/31 20:13:13] ppocr DEBUG: rec_res num  : 3, elapse : 0.022131919860839844\n",
            "gr_number_words  3 boxes  0\n",
            "[2023/07/31 20:13:15] ppocr DEBUG: dt_boxes num : 3, elapse : 0.0439763069152832\n",
            "[2023/07/31 20:13:15] ppocr DEBUG: rec_res num  : 3, elapse : 0.01589035987854004\n",
            "gr_number_words  2 boxes  1\n",
            "IMG_1871_0.jpg\n",
            "[2023/07/31 20:13:17] ppocr DEBUG: dt_boxes num : 1, elapse : 0.03333020210266113\n",
            "[2023/07/31 20:13:17] ppocr DEBUG: rec_res num  : 1, elapse : 0.02297687530517578\n",
            "gr_number_words  3 boxes  0\n",
            "[2023/07/31 20:13:18] ppocr DEBUG: dt_boxes num : 7, elapse : 0.03551983833312988\n",
            "[2023/07/31 20:13:18] ppocr DEBUG: rec_res num  : 7, elapse : 0.02602076530456543\n",
            "gr_number_words  3 boxes  1\n",
            "IMG_1873_0.jpg\n"
          ]
        }
      ]
    },
    {
      "cell_type": "code",
      "source": [
        "data_label"
      ],
      "metadata": {
        "colab": {
          "base_uri": "https://localhost:8080/"
        },
        "id": "Uh0Mm74mhUrM",
        "outputId": "68614f2d-42ca-43ef-d2a7-b120709ac861"
      },
      "execution_count": null,
      "outputs": [
        {
          "output_type": "execute_result",
          "data": {
            "text/plain": [
              "['IMG_1849_0.jpg', 'IMG_1849_1.jpg', 'IMG_1849_2.jpg', 'IMG_1849_3.jpg']"
            ]
          },
          "metadata": {},
          "execution_count": 51
        }
      ]
    },
    {
      "cell_type": "code",
      "source": [
        "import pandas as pd\n",
        "df = pd.DataFrame(data_label, columns=['image_id'])\n",
        "#df = pd.DataFrame({'image_id': data_label})\n",
        "df.to_csv(\"SpinesOnly_cropped_labeled.csv\", index=False)"
      ],
      "metadata": {
        "id": "5yddZrcTgo53"
      },
      "execution_count": null,
      "outputs": []
    },
    {
      "cell_type": "code",
      "execution_count": null,
      "metadata": {
        "id": "_f0sNCSWFjpz"
      },
      "outputs": [],
      "source": [
        "import os\n",
        "import time\n",
        "from tqdm import tqdm_notebook\n",
        "from paddleocr import PaddleOCR"
      ]
    },
    {
      "cell_type": "code",
      "execution_count": null,
      "metadata": {
        "id": "FhnCpXlwqM-B"
      },
      "outputs": [],
      "source": [
        "# binarization\n",
        "import cv2"
      ]
    },
    {
      "cell_type": "code",
      "execution_count": null,
      "metadata": {
        "colab": {
          "base_uri": "https://localhost:8080/",
          "height": 236
        },
        "id": "snTpdBQ9vc-7",
        "outputId": "136cb31d-ad56-4f93-f4b2-6bba41e1640e"
      },
      "outputs": [
        {
          "output_type": "error",
          "ename": "NameError",
          "evalue": "ignored",
          "traceback": [
            "\u001b[0;31m---------------------------------------------------------------------------\u001b[0m",
            "\u001b[0;31mNameError\u001b[0m                                 Traceback (most recent call last)",
            "\u001b[0;32m<ipython-input-5-d88317b77abd>\u001b[0m in \u001b[0;36m<cell line: 9>\u001b[0;34m()\u001b[0m\n\u001b[1;32m      7\u001b[0m \u001b[0mcan_recog_img\u001b[0m \u001b[0;34m=\u001b[0m \u001b[0;34m[\u001b[0m\u001b[0;34m]\u001b[0m\u001b[0;34m\u001b[0m\u001b[0;34m\u001b[0m\u001b[0m\n\u001b[1;32m      8\u001b[0m \u001b[0;34m\u001b[0m\u001b[0m\n\u001b[0;32m----> 9\u001b[0;31m \u001b[0mocr\u001b[0m \u001b[0;34m=\u001b[0m \u001b[0mPaddleOCR\u001b[0m\u001b[0;34m(\u001b[0m\u001b[0muse_angle_cls\u001b[0m\u001b[0;34m=\u001b[0m\u001b[0;32mFalse\u001b[0m\u001b[0;34m,\u001b[0m \u001b[0mlang\u001b[0m\u001b[0;34m=\u001b[0m\u001b[0;34m'en'\u001b[0m\u001b[0;34m,\u001b[0m \u001b[0muse_gpu\u001b[0m\u001b[0;34m=\u001b[0m\u001b[0;32mFalse\u001b[0m\u001b[0;34m,\u001b[0m \u001b[0mocr_version\u001b[0m\u001b[0;34m=\u001b[0m\u001b[0;34m'PP-OCRv3'\u001b[0m \u001b[0;34m)\u001b[0m\u001b[0;34m\u001b[0m\u001b[0;34m\u001b[0m\u001b[0m\n\u001b[0m\u001b[1;32m     10\u001b[0m \u001b[0;34m\u001b[0m\u001b[0m\n\u001b[1;32m     11\u001b[0m \u001b[0;31m#for i, name in tqdm_notebook(enumerate(sorted(os.listdir(img_folder)))):\u001b[0m\u001b[0;34m\u001b[0m\u001b[0;34m\u001b[0m\u001b[0m\n",
            "\u001b[0;31mNameError\u001b[0m: name 'PaddleOCR' is not defined"
          ]
        }
      ],
      "source": [
        "# FrontSideBack\n",
        "# SpinesOnly\n",
        "\n",
        "img_folder = '/content/drive/MyDrive/OCRBooks/Spines_Only5/'\n",
        "\n",
        "paddleocr_data = []\n",
        "can_recog_img = []\n",
        "\n",
        "ocr = PaddleOCR(use_angle_cls=False, lang='en', use_gpu=False, ocr_version='PP-OCRv3' )\n",
        "\n",
        "#for i, name in tqdm_notebook(enumerate(sorted(os.listdir(img_folder)))):\n",
        "for i, name in enumerate(sorted(os.listdir(img_folder))):\n",
        "  #print(\" \")\n",
        "  #if i== 1:\n",
        "  #  break\n",
        "  img_path = os.path.join(img_folder, name)\n",
        "  img = cv2.imread(img_path, cv2.IMREAD_GRAYSCALE)\n",
        "  #plt.imshow(img, 'gray')\n",
        "  #plt.show()\n",
        "\n",
        "  #break\n",
        "\n",
        "  t0 = time.time()\n",
        "  result = ocr.ocr(img, det=True, rec=True, cls=False)\n",
        "  print(name, \" \",  time.time()-t0, \" sec\")\n",
        "  t = time.time()-t0\n",
        "\n",
        "  #print(result)\n",
        "\n",
        "  show_boxe(img_path, result)\n",
        "\n",
        "  scores = []\n",
        "  text = []\n",
        "  for idx in range(len(result)):\n",
        "      res = result[idx]\n",
        "      for line in res:\n",
        "        scores.append(line[1][1])\n",
        "        text.append(line[1][0])\n",
        "        #if scores > 0.91:\n",
        "        print(line)\n",
        "  paddleocr_data.append([name, text, scores, t])\n",
        "  if text == []:\n",
        "    can_recog_img.append(name)\n"
      ]
    },
    {
      "cell_type": "code",
      "execution_count": null,
      "metadata": {
        "colab": {
          "base_uri": "https://localhost:8080/"
        },
        "id": "PA7d_WuaAq7T",
        "outputId": "923eb066-4603-4ca3-9df1-adc2ebfcd3fb"
      },
      "outputs": [
        {
          "data": {
            "text/plain": [
              "59"
            ]
          },
          "execution_count": 6,
          "metadata": {},
          "output_type": "execute_result"
        }
      ],
      "source": [
        "i+1"
      ]
    },
    {
      "cell_type": "code",
      "execution_count": null,
      "metadata": {
        "id": "3Hsn470B6faj"
      },
      "outputs": [],
      "source": [
        "import pandas as pd\n",
        "df = pd.DataFrame(paddleocr_data, columns=[\"img_id\", \"text\", \"score\", \"time_sec\"])\n",
        "#df.to_csv(\"SpinesOnly_paddleocr_gpu_cls_PP-OCRv2.csv\", index=False)"
      ]
    },
    {
      "cell_type": "code",
      "execution_count": null,
      "metadata": {
        "colab": {
          "base_uri": "https://localhost:8080/"
        },
        "id": "SKbr6nTx6ddm",
        "outputId": "ce985115-574f-4990-ebc3-592b330589ec"
      },
      "outputs": [
        {
          "name": "stdout",
          "output_type": "stream",
          "text": [
            "3\n"
          ]
        },
        {
          "data": {
            "text/plain": [
              "['IMG_1850.JPG', 'IMG_1870.JPG', 'IMG_1872.JPG']"
            ]
          },
          "execution_count": 23,
          "metadata": {},
          "output_type": "execute_result"
        }
      ],
      "source": [
        "print(len(can_recog_img))\n",
        "can_recog_img"
      ]
    },
    {
      "cell_type": "code",
      "execution_count": null,
      "metadata": {
        "id": "bGjMQui6vZA2"
      },
      "outputs": [],
      "source": [
        "df1 = pd.DataFrame(paddleocr_data, columns=[\"img_id\", \"text\", \"score\", \"time_sec\"])\n",
        "df1.head(5)"
      ]
    },
    {
      "cell_type": "code",
      "execution_count": null,
      "metadata": {
        "colab": {
          "base_uri": "https://localhost:8080/",
          "height": 206
        },
        "id": "MpLm82z97585",
        "outputId": "bbbf9d1b-a2e3-47b3-8b27-e6beb99909bd"
      },
      "outputs": [
        {
          "data": {
            "text/html": [
              "\n",
              "\n",
              "  <div id=\"df-d00bc749-e8b9-4c66-955e-f98832769c71\">\n",
              "    <div class=\"colab-df-container\">\n",
              "      <div>\n",
              "<style scoped>\n",
              "    .dataframe tbody tr th:only-of-type {\n",
              "        vertical-align: middle;\n",
              "    }\n",
              "\n",
              "    .dataframe tbody tr th {\n",
              "        vertical-align: top;\n",
              "    }\n",
              "\n",
              "    .dataframe thead th {\n",
              "        text-align: right;\n",
              "    }\n",
              "</style>\n",
              "<table border=\"1\" class=\"dataframe\">\n",
              "  <thead>\n",
              "    <tr style=\"text-align: right;\">\n",
              "      <th></th>\n",
              "      <th>img_id</th>\n",
              "      <th>text</th>\n",
              "      <th>score</th>\n",
              "      <th>time_sec</th>\n",
              "    </tr>\n",
              "  </thead>\n",
              "  <tbody>\n",
              "    <tr>\n",
              "      <th>0</th>\n",
              "      <td>IMG_1850.JPG</td>\n",
              "      <td>[]</td>\n",
              "      <td>[]</td>\n",
              "      <td>1.459487</td>\n",
              "    </tr>\n",
              "    <tr>\n",
              "      <th>1</th>\n",
              "      <td>IMG_1851.JPG</td>\n",
              "      <td>[THE, HEIR, HARPER, TEEN]</td>\n",
              "      <td>[0.9984220862388611, 0.957823634147644, 0.9969...</td>\n",
              "      <td>1.641039</td>\n",
              "    </tr>\n",
              "    <tr>\n",
              "      <th>2</th>\n",
              "      <td>IMG_1852.JPG</td>\n",
              "      <td>[Once ponaTimeRondy Jarabrell, WARNER, BOOKS]</td>\n",
              "      <td>[0.6718831062316895, 0.9684284329414368, 0.993...</td>\n",
              "      <td>1.475421</td>\n",
              "    </tr>\n",
              "    <tr>\n",
              "      <th>3</th>\n",
              "      <td>IMG_1853.JPG</td>\n",
              "      <td>[Baum/Furstenberg/Denslow, The WIZARD OF OZ, O...</td>\n",
              "      <td>[0.9897093176841736, 0.9515143632888794, 0.794...</td>\n",
              "      <td>1.846576</td>\n",
              "    </tr>\n",
              "    <tr>\n",
              "      <th>4</th>\n",
              "      <td>IMG_1854.JPG</td>\n",
              "      <td>[A THOUSAND DAYS  Arthur M. Schlesinger,Jr.449...</td>\n",
              "      <td>[0.9218770265579224, 0.5016233921051025, 0.551...</td>\n",
              "      <td>2.977052</td>\n",
              "    </tr>\n",
              "  </tbody>\n",
              "</table>\n",
              "</div>\n",
              "      <button class=\"colab-df-convert\" onclick=\"convertToInteractive('df-d00bc749-e8b9-4c66-955e-f98832769c71')\"\n",
              "              title=\"Convert this dataframe to an interactive table.\"\n",
              "              style=\"display:none;\">\n",
              "\n",
              "  <svg xmlns=\"http://www.w3.org/2000/svg\" height=\"24px\"viewBox=\"0 0 24 24\"\n",
              "       width=\"24px\">\n",
              "    <path d=\"M0 0h24v24H0V0z\" fill=\"none\"/>\n",
              "    <path d=\"M18.56 5.44l.94 2.06.94-2.06 2.06-.94-2.06-.94-.94-2.06-.94 2.06-2.06.94zm-11 1L8.5 8.5l.94-2.06 2.06-.94-2.06-.94L8.5 2.5l-.94 2.06-2.06.94zm10 10l.94 2.06.94-2.06 2.06-.94-2.06-.94-.94-2.06-.94 2.06-2.06.94z\"/><path d=\"M17.41 7.96l-1.37-1.37c-.4-.4-.92-.59-1.43-.59-.52 0-1.04.2-1.43.59L10.3 9.45l-7.72 7.72c-.78.78-.78 2.05 0 2.83L4 21.41c.39.39.9.59 1.41.59.51 0 1.02-.2 1.41-.59l7.78-7.78 2.81-2.81c.8-.78.8-2.07 0-2.86zM5.41 20L4 18.59l7.72-7.72 1.47 1.35L5.41 20z\"/>\n",
              "  </svg>\n",
              "      </button>\n",
              "\n",
              "\n",
              "\n",
              "    <div id=\"df-bd650cf4-0f67-4872-aa2e-a5a5cba5bc10\">\n",
              "      <button class=\"colab-df-quickchart\" onclick=\"quickchart('df-bd650cf4-0f67-4872-aa2e-a5a5cba5bc10')\"\n",
              "              title=\"Suggest charts.\"\n",
              "              style=\"display:none;\">\n",
              "\n",
              "<svg xmlns=\"http://www.w3.org/2000/svg\" height=\"24px\"viewBox=\"0 0 24 24\"\n",
              "     width=\"24px\">\n",
              "    <g>\n",
              "        <path d=\"M19 3H5c-1.1 0-2 .9-2 2v14c0 1.1.9 2 2 2h14c1.1 0 2-.9 2-2V5c0-1.1-.9-2-2-2zM9 17H7v-7h2v7zm4 0h-2V7h2v10zm4 0h-2v-4h2v4z\"/>\n",
              "    </g>\n",
              "</svg>\n",
              "      </button>\n",
              "    </div>\n",
              "\n",
              "<style>\n",
              "  .colab-df-quickchart {\n",
              "    background-color: #E8F0FE;\n",
              "    border: none;\n",
              "    border-radius: 50%;\n",
              "    cursor: pointer;\n",
              "    display: none;\n",
              "    fill: #1967D2;\n",
              "    height: 32px;\n",
              "    padding: 0 0 0 0;\n",
              "    width: 32px;\n",
              "  }\n",
              "\n",
              "  .colab-df-quickchart:hover {\n",
              "    background-color: #E2EBFA;\n",
              "    box-shadow: 0px 1px 2px rgba(60, 64, 67, 0.3), 0px 1px 3px 1px rgba(60, 64, 67, 0.15);\n",
              "    fill: #174EA6;\n",
              "  }\n",
              "\n",
              "  [theme=dark] .colab-df-quickchart {\n",
              "    background-color: #3B4455;\n",
              "    fill: #D2E3FC;\n",
              "  }\n",
              "\n",
              "  [theme=dark] .colab-df-quickchart:hover {\n",
              "    background-color: #434B5C;\n",
              "    box-shadow: 0px 1px 3px 1px rgba(0, 0, 0, 0.15);\n",
              "    filter: drop-shadow(0px 1px 2px rgba(0, 0, 0, 0.3));\n",
              "    fill: #FFFFFF;\n",
              "  }\n",
              "</style>\n",
              "\n",
              "    <script>\n",
              "      async function quickchart(key) {\n",
              "        const containerElement = document.querySelector('#' + key);\n",
              "        const charts = await google.colab.kernel.invokeFunction(\n",
              "            'suggestCharts', [key], {});\n",
              "      }\n",
              "    </script>\n",
              "\n",
              "      <script>\n",
              "\n",
              "function displayQuickchartButton(domScope) {\n",
              "  let quickchartButtonEl =\n",
              "    domScope.querySelector('#df-bd650cf4-0f67-4872-aa2e-a5a5cba5bc10 button.colab-df-quickchart');\n",
              "  quickchartButtonEl.style.display =\n",
              "    google.colab.kernel.accessAllowed ? 'block' : 'none';\n",
              "}\n",
              "\n",
              "        displayQuickchartButton(document);\n",
              "      </script>\n",
              "      <style>\n",
              "    .colab-df-container {\n",
              "      display:flex;\n",
              "      flex-wrap:wrap;\n",
              "      gap: 12px;\n",
              "    }\n",
              "\n",
              "    .colab-df-convert {\n",
              "      background-color: #E8F0FE;\n",
              "      border: none;\n",
              "      border-radius: 50%;\n",
              "      cursor: pointer;\n",
              "      display: none;\n",
              "      fill: #1967D2;\n",
              "      height: 32px;\n",
              "      padding: 0 0 0 0;\n",
              "      width: 32px;\n",
              "    }\n",
              "\n",
              "    .colab-df-convert:hover {\n",
              "      background-color: #E2EBFA;\n",
              "      box-shadow: 0px 1px 2px rgba(60, 64, 67, 0.3), 0px 1px 3px 1px rgba(60, 64, 67, 0.15);\n",
              "      fill: #174EA6;\n",
              "    }\n",
              "\n",
              "    [theme=dark] .colab-df-convert {\n",
              "      background-color: #3B4455;\n",
              "      fill: #D2E3FC;\n",
              "    }\n",
              "\n",
              "    [theme=dark] .colab-df-convert:hover {\n",
              "      background-color: #434B5C;\n",
              "      box-shadow: 0px 1px 3px 1px rgba(0, 0, 0, 0.15);\n",
              "      filter: drop-shadow(0px 1px 2px rgba(0, 0, 0, 0.3));\n",
              "      fill: #FFFFFF;\n",
              "    }\n",
              "  </style>\n",
              "\n",
              "      <script>\n",
              "        const buttonEl =\n",
              "          document.querySelector('#df-d00bc749-e8b9-4c66-955e-f98832769c71 button.colab-df-convert');\n",
              "        buttonEl.style.display =\n",
              "          google.colab.kernel.accessAllowed ? 'block' : 'none';\n",
              "\n",
              "        async function convertToInteractive(key) {\n",
              "          const element = document.querySelector('#df-d00bc749-e8b9-4c66-955e-f98832769c71');\n",
              "          const dataTable =\n",
              "            await google.colab.kernel.invokeFunction('convertToInteractive',\n",
              "                                                     [key], {});\n",
              "          if (!dataTable) return;\n",
              "\n",
              "          const docLinkHtml = 'Like what you see? Visit the ' +\n",
              "            '<a target=\"_blank\" href=https://colab.research.google.com/notebooks/data_table.ipynb>data table notebook</a>'\n",
              "            + ' to learn more about interactive tables.';\n",
              "          element.innerHTML = '';\n",
              "          dataTable['output_type'] = 'display_data';\n",
              "          await google.colab.output.renderOutput(dataTable, element);\n",
              "          const docLink = document.createElement('div');\n",
              "          docLink.innerHTML = docLinkHtml;\n",
              "          element.appendChild(docLink);\n",
              "        }\n",
              "      </script>\n",
              "    </div>\n",
              "  </div>\n"
            ],
            "text/plain": [
              "         img_id                                               text  \\\n",
              "0  IMG_1850.JPG                                                 []   \n",
              "1  IMG_1851.JPG                          [THE, HEIR, HARPER, TEEN]   \n",
              "2  IMG_1852.JPG      [Once ponaTimeRondy Jarabrell, WARNER, BOOKS]   \n",
              "3  IMG_1853.JPG  [Baum/Furstenberg/Denslow, The WIZARD OF OZ, O...   \n",
              "4  IMG_1854.JPG  [A THOUSAND DAYS  Arthur M. Schlesinger,Jr.449...   \n",
              "\n",
              "                                               score  time_sec  \n",
              "0                                                 []  1.459487  \n",
              "1  [0.9984220862388611, 0.957823634147644, 0.9969...  1.641039  \n",
              "2  [0.6718831062316895, 0.9684284329414368, 0.993...  1.475421  \n",
              "3  [0.9897093176841736, 0.9515143632888794, 0.794...  1.846576  \n",
              "4  [0.9218770265579224, 0.5016233921051025, 0.551...  2.977052  "
            ]
          },
          "execution_count": 15,
          "metadata": {},
          "output_type": "execute_result"
        }
      ],
      "source": [
        "df.head(5)"
      ]
    },
    {
      "cell_type": "code",
      "execution_count": null,
      "metadata": {
        "colab": {
          "base_uri": "https://localhost:8080/"
        },
        "id": "7OvbpOUSvlD8",
        "outputId": "461aca10-de82-47b6-857b-bf0dcf0e93ae"
      },
      "outputs": [
        {
          "data": {
            "text/plain": [
              "0.33436080932617185"
            ]
          },
          "execution_count": 24,
          "metadata": {},
          "output_type": "execute_result"
        }
      ],
      "source": [
        "df['time_sec'].mean()"
      ]
    },
    {
      "cell_type": "markdown",
      "metadata": {
        "id": "OGdVtDSHYAr4"
      },
      "source": [
        "## Labeling images"
      ]
    },
    {
      "cell_type": "code",
      "execution_count": null,
      "metadata": {
        "colab": {
          "base_uri": "https://localhost:8080/",
          "height": 254
        },
        "id": "KcYFeUE1CH17",
        "outputId": "ec1e8954-5b17-436e-8a8b-33cd1c2bcb1b"
      },
      "outputs": [
        {
          "output_type": "stream",
          "name": "stdout",
          "text": [
            "25\n"
          ]
        },
        {
          "output_type": "error",
          "ename": "FileNotFoundError",
          "evalue": "ignored",
          "traceback": [
            "\u001b[0;31m---------------------------------------------------------------------------\u001b[0m",
            "\u001b[0;31mFileNotFoundError\u001b[0m                         Traceback (most recent call last)",
            "\u001b[0;32m<ipython-input-1-20a290e0f233>\u001b[0m in \u001b[0;36m<cell line: 34>\u001b[0;34m()\u001b[0m\n\u001b[1;32m     32\u001b[0m \u001b[0mprint\u001b[0m\u001b[0;34m(\u001b[0m\u001b[0mlen\u001b[0m\u001b[0;34m(\u001b[0m\u001b[0ma\u001b[0m\u001b[0;34m)\u001b[0m\u001b[0;34m)\u001b[0m\u001b[0;34m\u001b[0m\u001b[0;34m\u001b[0m\u001b[0m\n\u001b[1;32m     33\u001b[0m \u001b[0mnames\u001b[0m \u001b[0;34m=\u001b[0m \u001b[0;34m[\u001b[0m\u001b[0;34m]\u001b[0m\u001b[0;34m\u001b[0m\u001b[0;34m\u001b[0m\u001b[0m\n\u001b[0;32m---> 34\u001b[0;31m \u001b[0;32mfor\u001b[0m \u001b[0mi\u001b[0m\u001b[0;34m,\u001b[0m \u001b[0mname\u001b[0m \u001b[0;32min\u001b[0m \u001b[0menumerate\u001b[0m\u001b[0;34m(\u001b[0m\u001b[0msorted\u001b[0m\u001b[0;34m(\u001b[0m\u001b[0mos\u001b[0m\u001b[0;34m.\u001b[0m\u001b[0mlistdir\u001b[0m\u001b[0;34m(\u001b[0m\u001b[0mimg_folder\u001b[0m\u001b[0;34m)\u001b[0m\u001b[0;34m)\u001b[0m\u001b[0;34m)\u001b[0m\u001b[0;34m:\u001b[0m\u001b[0;34m\u001b[0m\u001b[0;34m\u001b[0m\u001b[0m\n\u001b[0m\u001b[1;32m     35\u001b[0m   \u001b[0mnames\u001b[0m\u001b[0;34m.\u001b[0m\u001b[0mappend\u001b[0m\u001b[0;34m(\u001b[0m\u001b[0;34m[\u001b[0m\u001b[0mname\u001b[0m\u001b[0;34m,\u001b[0m \u001b[0ma\u001b[0m\u001b[0;34m[\u001b[0m\u001b[0mi\u001b[0m\u001b[0;34m]\u001b[0m\u001b[0;34m]\u001b[0m\u001b[0;34m)\u001b[0m\u001b[0;34m\u001b[0m\u001b[0;34m\u001b[0m\u001b[0m\n\u001b[1;32m     36\u001b[0m \u001b[0;34m\u001b[0m\u001b[0m\n",
            "\u001b[0;31mFileNotFoundError\u001b[0m: [Errno 2] No such file or directory: '/content/drive/MyDrive/OCRBooks/SpinesOnly'"
          ]
        }
      ],
      "source": [
        "import pandas as pd\n",
        "import os\n",
        "\n",
        "img_folder = '/content/drive/MyDrive/OCRBooks/SpinesOnly'\n",
        "a = [[\"Janet Evanovich\", \"Wicked Business\", \"Bantam\"],\n",
        "     [\"Light of hope\", \"Robert Vaughan\"],\n",
        "     [\"CASS\", \"The HEIR\", \"HARPER TEEN\"],\n",
        "     [\"Once Upon a Time\", \"J.Randy Jaraborelly\", \"Warner Books\"],\n",
        "     [\"Baum/Furstenberg, Denslow\", \"The Wizard of oz\", \"Weekly Reader Books\"],\n",
        "     [\"A Fawcett Premier Book\", \"A thousand days\", \"Arthur M.Schlensinger, Jr\", \"449-00731-250\"],\n",
        "     [\"Mystery\", \"Ministers wife\", \"To have and hold\", \"Jeffers\", \"Guideposts\"],\n",
        "     [\"Boynton\", \"Snuggle puppy\"],\n",
        "     [\"Comrades\", \"Stephen E. Ambrose\", \"Simon&Schuster\"],\n",
        "     [\"Shelly\", \"Frankenstein\", \"Norton\", \"Critical Editions\"],\n",
        "     [\"It gets dark sometimes\", \"Jeffrey Marx\"],\n",
        "     [\"J.D.Mackie\", \"A history of Scotland\", \"Dorset\"],\n",
        "     [\"Mystery\", \"Ministers wife\", \"Funny Money\", \"Depree\", \"Guideposts\"],\n",
        "     [\"Is God to blame?\", \"BOYD\"],\n",
        "     [\"Lord, Change Me\", \"Christenson\"],\n",
        "     [\"To let\", \"Galsworthy\", \"SL 207\"],\n",
        "     [\"Wit and Wisdom of kids\"],\n",
        "     [\"Houghton Miflin & Co\", \"Cabinet Edition\", \"Longfellows Poems\"],\n",
        "     [\"Signet\", \"9989\", \"Today we choose Faces bridge of ashes\", \"Roger Zelazny\", \"0-451-09989-3\", \"295\", \"double science fiction\"],\n",
        "     [\"What not to wear\", \"Trinny Woodall & Susanna\", \"Riverhead books\"],\n",
        "     [\"Pocket books health\", \"the healty heart food counter\", \"Natow and heslin\"],\n",
        "     [\"The power of a praying parent\", \"Omartian\", \"Harvest House\"],\n",
        "     [\"Michael Vey\", \"Richard Paul Evans\"],\n",
        "     [\"Messiah\", \"War in the middle east\", \"Grant R.Jeff\"],\n",
        "     [\"Those gay Middle Ages\", \"Kershner\", \"Willett, Clark & Company\"]\n",
        "     ]\n",
        "\n",
        "print(len(a))\n",
        "names = []\n",
        "for i, name in enumerate(sorted(os.listdir(img_folder))):\n",
        "  names.append([name, a[i]])\n",
        "\n",
        "\n",
        "df = pd.DataFrame(names, columns=[\"img_id\", \"text\"])\n",
        "df.to_csv(\"SpinesOnly_labeled.csv\", index=False)\n"
      ]
    },
    {
      "cell_type": "code",
      "execution_count": null,
      "metadata": {
        "colab": {
          "base_uri": "https://localhost:8080/",
          "height": 206
        },
        "id": "d5WKy_RZnfeB",
        "outputId": "c9b7a5b8-268a-488e-a239-8014c1a0cfb8"
      },
      "outputs": [
        {
          "data": {
            "text/html": [
              "\n",
              "\n",
              "  <div id=\"df-45d5bb87-5b06-4e69-a749-317f73780b73\">\n",
              "    <div class=\"colab-df-container\">\n",
              "      <div>\n",
              "<style scoped>\n",
              "    .dataframe tbody tr th:only-of-type {\n",
              "        vertical-align: middle;\n",
              "    }\n",
              "\n",
              "    .dataframe tbody tr th {\n",
              "        vertical-align: top;\n",
              "    }\n",
              "\n",
              "    .dataframe thead th {\n",
              "        text-align: right;\n",
              "    }\n",
              "</style>\n",
              "<table border=\"1\" class=\"dataframe\">\n",
              "  <thead>\n",
              "    <tr style=\"text-align: right;\">\n",
              "      <th></th>\n",
              "      <th>img_id</th>\n",
              "      <th>text</th>\n",
              "    </tr>\n",
              "  </thead>\n",
              "  <tbody>\n",
              "    <tr>\n",
              "      <th>0</th>\n",
              "      <td>IMG_1849.JPG</td>\n",
              "      <td>[Janet Evanovich, Wicked Business, Bantam]</td>\n",
              "    </tr>\n",
              "    <tr>\n",
              "      <th>1</th>\n",
              "      <td>IMG_1850.JPG</td>\n",
              "      <td>[Light of hope, Robert Vaughan]</td>\n",
              "    </tr>\n",
              "    <tr>\n",
              "      <th>2</th>\n",
              "      <td>IMG_1851.JPG</td>\n",
              "      <td>[CASS, The HEIR, HARPER TEEN]</td>\n",
              "    </tr>\n",
              "    <tr>\n",
              "      <th>3</th>\n",
              "      <td>IMG_1852.JPG</td>\n",
              "      <td>[Once Upon a Time, J.Randy Jaraborelly, Warner...</td>\n",
              "    </tr>\n",
              "    <tr>\n",
              "      <th>4</th>\n",
              "      <td>IMG_1853.JPG</td>\n",
              "      <td>[Baum/Furstenberg, Denslow, The Wizard of oz, ...</td>\n",
              "    </tr>\n",
              "  </tbody>\n",
              "</table>\n",
              "</div>\n",
              "      <button class=\"colab-df-convert\" onclick=\"convertToInteractive('df-45d5bb87-5b06-4e69-a749-317f73780b73')\"\n",
              "              title=\"Convert this dataframe to an interactive table.\"\n",
              "              style=\"display:none;\">\n",
              "\n",
              "  <svg xmlns=\"http://www.w3.org/2000/svg\" height=\"24px\"viewBox=\"0 0 24 24\"\n",
              "       width=\"24px\">\n",
              "    <path d=\"M0 0h24v24H0V0z\" fill=\"none\"/>\n",
              "    <path d=\"M18.56 5.44l.94 2.06.94-2.06 2.06-.94-2.06-.94-.94-2.06-.94 2.06-2.06.94zm-11 1L8.5 8.5l.94-2.06 2.06-.94-2.06-.94L8.5 2.5l-.94 2.06-2.06.94zm10 10l.94 2.06.94-2.06 2.06-.94-2.06-.94-.94-2.06-.94 2.06-2.06.94z\"/><path d=\"M17.41 7.96l-1.37-1.37c-.4-.4-.92-.59-1.43-.59-.52 0-1.04.2-1.43.59L10.3 9.45l-7.72 7.72c-.78.78-.78 2.05 0 2.83L4 21.41c.39.39.9.59 1.41.59.51 0 1.02-.2 1.41-.59l7.78-7.78 2.81-2.81c.8-.78.8-2.07 0-2.86zM5.41 20L4 18.59l7.72-7.72 1.47 1.35L5.41 20z\"/>\n",
              "  </svg>\n",
              "      </button>\n",
              "\n",
              "\n",
              "\n",
              "    <div id=\"df-fff0c877-e988-4037-a8ec-5edb673e4f5c\">\n",
              "      <button class=\"colab-df-quickchart\" onclick=\"quickchart('df-fff0c877-e988-4037-a8ec-5edb673e4f5c')\"\n",
              "              title=\"Suggest charts.\"\n",
              "              style=\"display:none;\">\n",
              "\n",
              "<svg xmlns=\"http://www.w3.org/2000/svg\" height=\"24px\"viewBox=\"0 0 24 24\"\n",
              "     width=\"24px\">\n",
              "    <g>\n",
              "        <path d=\"M19 3H5c-1.1 0-2 .9-2 2v14c0 1.1.9 2 2 2h14c1.1 0 2-.9 2-2V5c0-1.1-.9-2-2-2zM9 17H7v-7h2v7zm4 0h-2V7h2v10zm4 0h-2v-4h2v4z\"/>\n",
              "    </g>\n",
              "</svg>\n",
              "      </button>\n",
              "    </div>\n",
              "\n",
              "<style>\n",
              "  .colab-df-quickchart {\n",
              "    background-color: #E8F0FE;\n",
              "    border: none;\n",
              "    border-radius: 50%;\n",
              "    cursor: pointer;\n",
              "    display: none;\n",
              "    fill: #1967D2;\n",
              "    height: 32px;\n",
              "    padding: 0 0 0 0;\n",
              "    width: 32px;\n",
              "  }\n",
              "\n",
              "  .colab-df-quickchart:hover {\n",
              "    background-color: #E2EBFA;\n",
              "    box-shadow: 0px 1px 2px rgba(60, 64, 67, 0.3), 0px 1px 3px 1px rgba(60, 64, 67, 0.15);\n",
              "    fill: #174EA6;\n",
              "  }\n",
              "\n",
              "  [theme=dark] .colab-df-quickchart {\n",
              "    background-color: #3B4455;\n",
              "    fill: #D2E3FC;\n",
              "  }\n",
              "\n",
              "  [theme=dark] .colab-df-quickchart:hover {\n",
              "    background-color: #434B5C;\n",
              "    box-shadow: 0px 1px 3px 1px rgba(0, 0, 0, 0.15);\n",
              "    filter: drop-shadow(0px 1px 2px rgba(0, 0, 0, 0.3));\n",
              "    fill: #FFFFFF;\n",
              "  }\n",
              "</style>\n",
              "\n",
              "    <script>\n",
              "      async function quickchart(key) {\n",
              "        const containerElement = document.querySelector('#' + key);\n",
              "        const charts = await google.colab.kernel.invokeFunction(\n",
              "            'suggestCharts', [key], {});\n",
              "      }\n",
              "    </script>\n",
              "\n",
              "      <script>\n",
              "\n",
              "function displayQuickchartButton(domScope) {\n",
              "  let quickchartButtonEl =\n",
              "    domScope.querySelector('#df-fff0c877-e988-4037-a8ec-5edb673e4f5c button.colab-df-quickchart');\n",
              "  quickchartButtonEl.style.display =\n",
              "    google.colab.kernel.accessAllowed ? 'block' : 'none';\n",
              "}\n",
              "\n",
              "        displayQuickchartButton(document);\n",
              "      </script>\n",
              "      <style>\n",
              "    .colab-df-container {\n",
              "      display:flex;\n",
              "      flex-wrap:wrap;\n",
              "      gap: 12px;\n",
              "    }\n",
              "\n",
              "    .colab-df-convert {\n",
              "      background-color: #E8F0FE;\n",
              "      border: none;\n",
              "      border-radius: 50%;\n",
              "      cursor: pointer;\n",
              "      display: none;\n",
              "      fill: #1967D2;\n",
              "      height: 32px;\n",
              "      padding: 0 0 0 0;\n",
              "      width: 32px;\n",
              "    }\n",
              "\n",
              "    .colab-df-convert:hover {\n",
              "      background-color: #E2EBFA;\n",
              "      box-shadow: 0px 1px 2px rgba(60, 64, 67, 0.3), 0px 1px 3px 1px rgba(60, 64, 67, 0.15);\n",
              "      fill: #174EA6;\n",
              "    }\n",
              "\n",
              "    [theme=dark] .colab-df-convert {\n",
              "      background-color: #3B4455;\n",
              "      fill: #D2E3FC;\n",
              "    }\n",
              "\n",
              "    [theme=dark] .colab-df-convert:hover {\n",
              "      background-color: #434B5C;\n",
              "      box-shadow: 0px 1px 3px 1px rgba(0, 0, 0, 0.15);\n",
              "      filter: drop-shadow(0px 1px 2px rgba(0, 0, 0, 0.3));\n",
              "      fill: #FFFFFF;\n",
              "    }\n",
              "  </style>\n",
              "\n",
              "      <script>\n",
              "        const buttonEl =\n",
              "          document.querySelector('#df-45d5bb87-5b06-4e69-a749-317f73780b73 button.colab-df-convert');\n",
              "        buttonEl.style.display =\n",
              "          google.colab.kernel.accessAllowed ? 'block' : 'none';\n",
              "\n",
              "        async function convertToInteractive(key) {\n",
              "          const element = document.querySelector('#df-45d5bb87-5b06-4e69-a749-317f73780b73');\n",
              "          const dataTable =\n",
              "            await google.colab.kernel.invokeFunction('convertToInteractive',\n",
              "                                                     [key], {});\n",
              "          if (!dataTable) return;\n",
              "\n",
              "          const docLinkHtml = 'Like what you see? Visit the ' +\n",
              "            '<a target=\"_blank\" href=https://colab.research.google.com/notebooks/data_table.ipynb>data table notebook</a>'\n",
              "            + ' to learn more about interactive tables.';\n",
              "          element.innerHTML = '';\n",
              "          dataTable['output_type'] = 'display_data';\n",
              "          await google.colab.output.renderOutput(dataTable, element);\n",
              "          const docLink = document.createElement('div');\n",
              "          docLink.innerHTML = docLinkHtml;\n",
              "          element.appendChild(docLink);\n",
              "        }\n",
              "      </script>\n",
              "    </div>\n",
              "  </div>\n"
            ],
            "text/plain": [
              "         img_id                                               text\n",
              "0  IMG_1849.JPG         [Janet Evanovich, Wicked Business, Bantam]\n",
              "1  IMG_1850.JPG                    [Light of hope, Robert Vaughan]\n",
              "2  IMG_1851.JPG                      [CASS, The HEIR, HARPER TEEN]\n",
              "3  IMG_1852.JPG  [Once Upon a Time, J.Randy Jaraborelly, Warner...\n",
              "4  IMG_1853.JPG  [Baum/Furstenberg, Denslow, The Wizard of oz, ..."
            ]
          },
          "execution_count": 5,
          "metadata": {},
          "output_type": "execute_result"
        }
      ],
      "source": [
        "df.head(5)"
      ]
    },
    {
      "cell_type": "code",
      "execution_count": null,
      "metadata": {
        "id": "u3qeDphrpgvF",
        "colab": {
          "base_uri": "https://localhost:8080/"
        },
        "outputId": "2a236cb7-69df-40b4-dd45-f3613c1fe6b2"
      },
      "outputs": [
        {
          "output_type": "execute_result",
          "data": {
            "text/plain": [
              "25"
            ]
          },
          "metadata": {},
          "execution_count": 2
        }
      ],
      "source": [
        "b = [['EVANOVICH', 'WICKED', 'BUSINESS', 'BANTAM'],\n",
        "     ['Light of hope', 'ROBERT VAUGHAM'],\n",
        "     ['$cheir', 'Harper', 'Teen'],\n",
        "     ['Once Upon a Sime| 8.Band, Seraborelli', 'Warner'],\n",
        "     ['Baum/Furstenberg/Denslow', 'The wizard of oz', 'Weekly readers Books'],\n",
        "     ['A rawcen', 'Premier Book', 'A thousand days Arthur M.Schlensinger', 'Jr.449-00731-250'],\n",
        "     ['To have and hold', 'Jeffers', 'Guideposts'],\n",
        "     ['Pounton', 'Snuggle puppy!'],\n",
        "     ['Comrades', 'Stephen E.Ambrose'],\n",
        "     ['Shelly', 'Frankenstein', 'Norton', 'Critical'],\n",
        "     ['It gets dark sometimes', 'Jeffry Mary'],\n",
        "     ['Tid Mockie', 'A history of Scotland', 'DORSET'],\n",
        "     ['Funny Money', 'Depree', 'Guideposts'],\n",
        "     ['Is god to blame', 'BOYD'],\n",
        "     ['Lord, change me', 'Christenson'],\n",
        "     ['To let', 'Galsworthy', 'SL 207'],\n",
        "     ['WIT AND WISDOM of kids'],\n",
        "     ['Longfellow', 'Poems', 'Cabinet', 'Edition', 'Houghton', 'Mifflin B/. CO.'],\n",
        "     ['Today we choose faces', 'Roger Zelazny', '0-451-09', 'Tence Fiction'],\n",
        "     ['What not to wear', 'Trinny Woodal & Susana'],\n",
        "     ['The healthy heart food counter', 'HATOW on a', 'HESLIN'],\n",
        "     ['The power of a praying parent', 'Omartian'],\n",
        "     ['Michel VEY', 'Richard Paul Evans'],\n",
        "     ['Messiah war', 'Inte', 'Addle', 'EAST', 'Grant R.'],\n",
        "     ['Those', 'gay', 'Middle', 'Ages', 'Kershner', 'Williott', 'Clark']\n",
        "\n",
        "]\n",
        "len(b)"
      ]
    },
    {
      "cell_type": "code",
      "source": [
        "names = []\n",
        "for i, name in enumerate(sorted(os.listdir(img_folder))):\n",
        "  names.append([name, b[i]])\n",
        "\n",
        "\n",
        "df = pd.DataFrame(names, columns=[\"img_id\", \"text\"])\n",
        "df.to_csv(\"SpinesOnly_IphoneOCR.csv\", index=False)"
      ],
      "metadata": {
        "id": "oKioinEri7Di"
      },
      "execution_count": null,
      "outputs": []
    },
    {
      "cell_type": "markdown",
      "source": [
        "## performance of the OCR model"
      ],
      "metadata": {
        "id": "TA0XCRLYjkKS"
      }
    },
    {
      "cell_type": "code",
      "source": [
        "#  Character error rate (CER) and word error rate (WER) are\n",
        "# quantitative metrics that measure the percentage of characters or words that are incorrectly recognized by the OCR system"
      ],
      "metadata": {
        "id": "nm9kDdXXjCia"
      },
      "execution_count": null,
      "outputs": []
    },
    {
      "cell_type": "code",
      "source": [],
      "metadata": {
        "id": "M6pgh1uVvME7"
      },
      "execution_count": null,
      "outputs": []
    },
    {
      "cell_type": "code",
      "source": [
        "import itertools\n",
        "\n",
        "def calculate_correct_words(gr, pred):\n",
        "\n",
        "  corr_words = 0\n",
        "  total_number_of_words = 0\n",
        "  for i in range(0, len(gr)):\n",
        "    gr_lower = [x.lower().split() for x in gr[i]]\n",
        "    gr_lower = set(list(itertools.chain(*gr_lower)))\n",
        "    print(gr_lower)\n",
        "    total_number_of_words += len(gr_lower)\n",
        "    #for x in gr[i]:\n",
        "    #  print(x.lower().split())\n",
        "    pred_lower = [x.lower().split() for x in pred[i]]\n",
        "    pred_lower = set(list(itertools.chain(*pred_lower)))\n",
        "    #print(gr_lower)\n",
        "    print(pred_lower)\n",
        "    print(len(pred_lower.intersection(gr_lower)))\n",
        "    corr_words += len(pred_lower.intersection(gr_lower))\n",
        "\n",
        "  return corr_words, total_number_of_words\n"
      ],
      "metadata": {
        "id": "nJs5yOOHkssy"
      },
      "execution_count": null,
      "outputs": []
    },
    {
      "cell_type": "code",
      "source": [
        "correct_words, total_number_of_words = calculate_correct_words(a[:5],b[:5])\n",
        "#print(correct_words)\n",
        "\n",
        "print(\"Total words\", total_number_of_words, \"Predicted words \", correct_words, \"Percentage \", correct_words/total_number_of_words)"
      ],
      "metadata": {
        "colab": {
          "base_uri": "https://localhost:8080/"
        },
        "id": "CoO65AB2mcIx",
        "outputId": "cacb5190-f7c5-4927-c191-cb756791cb98"
      },
      "execution_count": null,
      "outputs": [
        {
          "output_type": "stream",
          "name": "stdout",
          "text": [
            "{'business', 'janet', 'bantam', 'evanovich', 'wicked'}\n",
            "{'business', 'wicked', 'evanovich', 'bantam'}\n",
            "4\n",
            "{'light', 'vaughan', 'robert', 'of', 'hope'}\n",
            "{'light', 'vaugham', 'robert', 'of', 'hope'}\n",
            "4\n",
            "{'heir', 'cass', 'teen', 'the', 'harper'}\n",
            "{'teen', '$cheir', 'harper'}\n",
            "2\n",
            "{'once', 'time', 'books', 'jaraborelly', 'j.randy', 'a', 'warner', 'upon'}\n",
            "{'seraborelli', 'once', 'sime|', '8.band,', 'a', 'warner', 'upon'}\n",
            "4\n",
            "{'wizard', 'oz', 'weekly', 'books', 'reader', 'baum/furstenberg,', 'denslow', 'of', 'the'}\n",
            "{'wizard', 'oz', 'weekly', 'readers', 'books', 'baum/furstenberg/denslow', 'of', 'the'}\n",
            "6\n",
            "Total words 32 Predicted words  20 Percentage  0.625\n"
          ]
        }
      ]
    },
    {
      "cell_type": "markdown",
      "source": [
        "## improve your OCR results"
      ],
      "metadata": {
        "id": "1Kw2OQASoSU3"
      }
    },
    {
      "cell_type": "markdown",
      "source": [
        "**pre-processing images**:\n",
        "cropping, resizing, rotating, enhancing, binarizing and de-skewing the images to improve clarity and readability\n",
        "\n",
        "**Post-processing**\n",
        "spell-checking, grammar-checking, hyphenation, segmentation, alignment and formatting\n"
      ],
      "metadata": {
        "id": "730KQWanoXdm"
      }
    },
    {
      "cell_type": "code",
      "source": [
        "# https://www.linkedin.com/advice/0/how-do-you-evaluate-accuracy-quality-ocr-results"
      ],
      "metadata": {
        "id": "no5PGCFEosL0"
      },
      "execution_count": null,
      "outputs": []
    },
    {
      "cell_type": "code",
      "source": [],
      "metadata": {
        "id": "p_N3ZlMMm7D_"
      },
      "execution_count": null,
      "outputs": []
    },
    {
      "cell_type": "markdown",
      "source": [
        "Iterate and improve: Based on the analysis, iterate on your OCR model and evaluation process. You can consider fine-tuning the off-the-shelf model on your specific dataset, augmenting the dataset, exploring different preprocessing techniques, or even trying different OCR models to improve the overall performance."
      ],
      "metadata": {
        "id": "RcJ_5N56sXQZ"
      }
    },
    {
      "cell_type": "code",
      "source": [],
      "metadata": {
        "id": "AJ5pwucUsXxj"
      },
      "execution_count": null,
      "outputs": []
    },
    {
      "cell_type": "markdown",
      "source": [
        "## Tuning PaddleOCR"
      ],
      "metadata": {
        "id": "umeLb5p77_Ir"
      }
    },
    {
      "cell_type": "code",
      "source": [
        "# https://github.com/PaddlePaddle/PaddleOCR/blob/release/2.6/doc/doc_en/finetune_en.md"
      ],
      "metadata": {
        "id": "kb9nGmzT_MAG"
      },
      "execution_count": null,
      "outputs": []
    },
    {
      "cell_type": "code",
      "source": [
        "!git clone https://github.com/PaddlePaddle/PaddleOCR.git"
      ],
      "metadata": {
        "colab": {
          "base_uri": "https://localhost:8080/"
        },
        "id": "RW0iVs_R8Cl1",
        "outputId": "8ce00888-8995-4738-e700-b7b1b0b49ffe"
      },
      "execution_count": null,
      "outputs": [
        {
          "output_type": "stream",
          "name": "stdout",
          "text": [
            "fatal: destination path 'PaddleOCR' already exists and is not an empty directory.\n"
          ]
        }
      ]
    },
    {
      "cell_type": "code",
      "source": [
        "!pip install -qqq paddlepaddle pyclipper attrdict\n",
        "!cd PaddleOCR\n",
        "!pip install -e ."
      ],
      "metadata": {
        "id": "qulIGy-58JMk"
      },
      "execution_count": null,
      "outputs": []
    },
    {
      "cell_type": "markdown",
      "source": [
        "1. Prepare data and labels"
      ],
      "metadata": {
        "id": "dm9R5FGsXYdJ"
      }
    },
    {
      "cell_type": "code",
      "source": [
        "ocr = PaddleOCR(use_angle_cls=True, lang='en') # need to run only once to download and load model into memory\n",
        "img_path = '/content/drive/MyDrive/OCRBooks/Spines_Only5/'\n",
        "result = ocr.ocr(img_path, cls=True)\n",
        "for idx in range(len(result)):\n",
        "    res = result[idx]\n",
        "    for line in res:\n",
        "        print(line)"
      ],
      "metadata": {
        "id": "tRETU9iNXbjP"
      },
      "execution_count": null,
      "outputs": []
    }
  ],
  "metadata": {
    "colab": {
      "provenance": [],
      "gpuType": "T4"
    },
    "kernelspec": {
      "display_name": "Python 3",
      "name": "python3"
    },
    "language_info": {
      "name": "python"
    }
  },
  "nbformat": 4,
  "nbformat_minor": 0
}