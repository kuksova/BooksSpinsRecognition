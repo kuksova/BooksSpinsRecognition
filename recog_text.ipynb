{
 "cells": [
  {
   "cell_type": "code",
   "execution_count": 1,
   "id": "1a2a0b94-de97-4683-8000-a2b95d4572fa",
   "metadata": {},
   "outputs": [],
   "source": [
    "from PIL import Image\n",
    "import torch\n",
    "from torch.utils.data import Dataset,TensorDataset, DataLoader,  SubsetRandomSampler\n",
    "from torchvision import transforms\n",
    "import numpy as np\n",
    "import os\n",
    "from matplotlib import pyplot as plt\n",
    "from sklearn.preprocessing import LabelEncoder"
   ]
  },
  {
   "cell_type": "code",
   "execution_count": 194,
   "id": "041fd61a",
   "metadata": {},
   "outputs": [],
   "source": [
    "\n",
    "\n",
    "class textDataset(Dataset):\n",
    "    def __init__(self, imgdir, label_encoding, transforms=False):\n",
    "        #super(SynthDataset, self).__init__()\n",
    "        self.path = imgdir\n",
    "        self.images = os.listdir(self.path)\n",
    "        self.nSamples = len(self.images)\n",
    "        self.label_encoding = label_encoding\n",
    "        self.transform = transforms\n",
    "        \n",
    "        #f = lambda x: os.path.join(self.path, x)\n",
    "        #self.imagepaths = list(map(f, self.images))\n",
    "\n",
    "        #self.collate_fn = SynthCollator()\n",
    "\n",
    "    def __len__(self):\n",
    "        return len(self.images)\n",
    "\n",
    "    def __getitem__(self, index):\n",
    "        assert index <= len(self), 'index range error'\n",
    "        image_name = self.images[index]\n",
    " \n",
    "        imagepath = os.path.join(self.path, image_name)\n",
    "\n",
    "        img = Image.open(imagepath).convert('RGB') # 4d (+transparency layer) -> 3d \n",
    "        #img = np.array(img) # 3d -> 2d\n",
    "        if self.transform:\n",
    "            img = self.transform(img)\n",
    "        item = {'img': img, 'idx':index}\n",
    "\n",
    "        label = image_name.split('.')[0] #label has 5 symbols always\n",
    "        label = torch.from_numpy(self.label_encoding.transform(list(label))).type(torch.long)\n",
    "        item['label'] = label\n",
    "        \n",
    "        return item"
   ]
  },
  {
   "cell_type": "code",
   "execution_count": 61,
   "id": "0058883d-c416-4c5d-a9ec-2af7d12232be",
   "metadata": {},
   "outputs": [
    {
     "data": {
      "text/html": [
       "<style>#sk-container-id-2 {color: black;}#sk-container-id-2 pre{padding: 0;}#sk-container-id-2 div.sk-toggleable {background-color: white;}#sk-container-id-2 label.sk-toggleable__label {cursor: pointer;display: block;width: 100%;margin-bottom: 0;padding: 0.3em;box-sizing: border-box;text-align: center;}#sk-container-id-2 label.sk-toggleable__label-arrow:before {content: \"▸\";float: left;margin-right: 0.25em;color: #696969;}#sk-container-id-2 label.sk-toggleable__label-arrow:hover:before {color: black;}#sk-container-id-2 div.sk-estimator:hover label.sk-toggleable__label-arrow:before {color: black;}#sk-container-id-2 div.sk-toggleable__content {max-height: 0;max-width: 0;overflow: hidden;text-align: left;background-color: #f0f8ff;}#sk-container-id-2 div.sk-toggleable__content pre {margin: 0.2em;color: black;border-radius: 0.25em;background-color: #f0f8ff;}#sk-container-id-2 input.sk-toggleable__control:checked~div.sk-toggleable__content {max-height: 200px;max-width: 100%;overflow: auto;}#sk-container-id-2 input.sk-toggleable__control:checked~label.sk-toggleable__label-arrow:before {content: \"▾\";}#sk-container-id-2 div.sk-estimator input.sk-toggleable__control:checked~label.sk-toggleable__label {background-color: #d4ebff;}#sk-container-id-2 div.sk-label input.sk-toggleable__control:checked~label.sk-toggleable__label {background-color: #d4ebff;}#sk-container-id-2 input.sk-hidden--visually {border: 0;clip: rect(1px 1px 1px 1px);clip: rect(1px, 1px, 1px, 1px);height: 1px;margin: -1px;overflow: hidden;padding: 0;position: absolute;width: 1px;}#sk-container-id-2 div.sk-estimator {font-family: monospace;background-color: #f0f8ff;border: 1px dotted black;border-radius: 0.25em;box-sizing: border-box;margin-bottom: 0.5em;}#sk-container-id-2 div.sk-estimator:hover {background-color: #d4ebff;}#sk-container-id-2 div.sk-parallel-item::after {content: \"\";width: 100%;border-bottom: 1px solid gray;flex-grow: 1;}#sk-container-id-2 div.sk-label:hover label.sk-toggleable__label {background-color: #d4ebff;}#sk-container-id-2 div.sk-serial::before {content: \"\";position: absolute;border-left: 1px solid gray;box-sizing: border-box;top: 0;bottom: 0;left: 50%;z-index: 0;}#sk-container-id-2 div.sk-serial {display: flex;flex-direction: column;align-items: center;background-color: white;padding-right: 0.2em;padding-left: 0.2em;position: relative;}#sk-container-id-2 div.sk-item {position: relative;z-index: 1;}#sk-container-id-2 div.sk-parallel {display: flex;align-items: stretch;justify-content: center;background-color: white;position: relative;}#sk-container-id-2 div.sk-item::before, #sk-container-id-2 div.sk-parallel-item::before {content: \"\";position: absolute;border-left: 1px solid gray;box-sizing: border-box;top: 0;bottom: 0;left: 50%;z-index: -1;}#sk-container-id-2 div.sk-parallel-item {display: flex;flex-direction: column;z-index: 1;position: relative;background-color: white;}#sk-container-id-2 div.sk-parallel-item:first-child::after {align-self: flex-end;width: 50%;}#sk-container-id-2 div.sk-parallel-item:last-child::after {align-self: flex-start;width: 50%;}#sk-container-id-2 div.sk-parallel-item:only-child::after {width: 0;}#sk-container-id-2 div.sk-dashed-wrapped {border: 1px dashed gray;margin: 0 0.4em 0.5em 0.4em;box-sizing: border-box;padding-bottom: 0.4em;background-color: white;}#sk-container-id-2 div.sk-label label {font-family: monospace;font-weight: bold;display: inline-block;line-height: 1.2em;}#sk-container-id-2 div.sk-label-container {text-align: center;}#sk-container-id-2 div.sk-container {/* jupyter's `normalize.less` sets `[hidden] { display: none; }` but bootstrap.min.css set `[hidden] { display: none !important; }` so we also need the `!important` here to be able to override the default hidden behavior on the sphinx rendered scikit-learn.org. See: https://github.com/scikit-learn/scikit-learn/issues/21755 */display: inline-block !important;position: relative;}#sk-container-id-2 div.sk-text-repr-fallback {display: none;}</style><div id=\"sk-container-id-2\" class=\"sk-top-container\"><div class=\"sk-text-repr-fallback\"><pre>LabelEncoder()</pre><b>In a Jupyter environment, please rerun this cell to show the HTML representation or trust the notebook. <br />On GitHub, the HTML representation is unable to render, please try loading this page with nbviewer.org.</b></div><div class=\"sk-container\" hidden><div class=\"sk-item\"><div class=\"sk-estimator sk-toggleable\"><input class=\"sk-toggleable__control sk-hidden--visually\" id=\"sk-estimator-id-2\" type=\"checkbox\" checked><label for=\"sk-estimator-id-2\" class=\"sk-toggleable__label sk-toggleable__label-arrow\">LabelEncoder</label><div class=\"sk-toggleable__content\"><pre>LabelEncoder()</pre></div></div></div></div></div>"
      ],
      "text/plain": [
       "LabelEncoder()"
      ]
     },
     "execution_count": 61,
     "metadata": {},
     "output_type": "execute_result"
    }
   ],
   "source": [
    "\n",
    "unique_chars = [line.strip() for line in open(\"EN_symbol_dict.txt\", 'r')]\n",
    "VOCAB_SIZE = len(unique_chars) #  62 symbols\n",
    "id_to_ch = dict(enumerate(unique_chars))\n",
    "ch_to_id = {ch: i for i, ch in id_to_ch.items()}\n",
    "\n",
    "encoder = LabelEncoder()\n",
    "encoder.fit(unique_chars)"
   ]
  },
  {
   "cell_type": "code",
   "execution_count": 195,
   "id": "f3dac9af",
   "metadata": {},
   "outputs": [],
   "source": [
    "\n",
    "transform_list = transforms.Compose([\n",
    "               #transforms.Grayscale(1),\n",
    "               transforms.Resize((25, 100)),\n",
    "               transforms.ToTensor()])\n",
    "\n",
    "#transform_list = transforms.Compose([transforms.Grayscale(1),\n",
    "#               transforms.Resize((64, 700)),\n",
    "#               transforms.ToTensor()])\n",
    "                #transforms.Normalize((0.5,), (0.5,))]\n",
    "\n",
    "img_path = \"./samples/\"\n",
    "\n",
    "dataset = textDataset(img_path,label_encoding=encoder, transforms=transform_list)\n",
    "\n",
    "data_size = len(dataset)\n",
    "validation_fraction = .25\n",
    "\n",
    "\n",
    "val_split = int(np.floor((validation_fraction) * data_size))\n",
    "indices = list(range(data_size))\n",
    "np.random.seed(42)\n",
    "np.random.shuffle(indices)\n",
    "\n",
    "val_indices, train_indices = indices[:val_split], indices[val_split:]\n",
    "\n",
    "train_sampler = SubsetRandomSampler(train_indices)\n",
    "val_sampler = SubsetRandomSampler(val_indices)\n",
    "\n",
    "# Notice that we create test data loader in a different way. We don't have the labels.\n",
    "#test_loader = torch.utils.data.DataLoader(test_dataset, batch_size=batch_size)\n",
    "\n",
    "\n",
    "#transform_list =  [transforms.Grayscale(1),\n",
    "#                    transforms.Resize((28, 28))]\n",
    "#                    #transforms.ToTensor()]\n",
    "                    #transforms.Normalize((0.5,), (0.5,))]\n",
    "#transform2 = transforms.Compose(transform_list)\n",
    "\n",
    "\n",
    "train_loader = torch.utils.data.DataLoader(dataset, batch_size=4,sampler=train_sampler, num_workers=0)\n",
    "val_loader = torch.utils.data.DataLoader(dataset, batch_size=4, sampler=val_sampler, num_workers=0)"
   ]
  },
  {
   "cell_type": "code",
   "execution_count": 123,
   "id": "d9fa2317-7cbf-4cdb-8cfa-8ea841a03444",
   "metadata": {},
   "outputs": [
    {
     "name": "stdout",
     "output_type": "stream",
     "text": [
      "torch.Size([4, 3, 25, 100]) tensor([[60., 41., 49., 61., 43.],\n",
      "        [60.,  4.,  7.,  3., 43.],\n",
      "        [ 7., 59., 43.,  5., 50.],\n",
      "        [59., 61., 39.,  3.,  6.]])\n",
      "torch.Size([4, 3, 25, 100]) tensor([[40.,  8., 41., 50.,  4.],\n",
      "        [60., 42.,  6., 43.,  8.],\n",
      "        [40., 61., 52.,  8., 50.],\n",
      "        [59., 61., 41.,  9.,  6.]])\n"
     ]
    }
   ],
   "source": [
    "for x in train_loader:\n",
    "    print(x['img'].shape, x['label'])\n",
    "    break\n",
    "for x in val_loader:\n",
    "    print(x['img'].shape, x['label'])\n",
    "    break"
   ]
  },
  {
   "cell_type": "code",
   "execution_count": 64,
   "id": "c4209cb9-3ae8-42fb-a520-6b14b58562ef",
   "metadata": {},
   "outputs": [
    {
     "name": "stdout",
     "output_type": "stream",
     "text": [
      "torch.Size([1, 25, 100])\n",
      "torch.Size([1, 25, 100])\n",
      "torch.Size([1, 25, 100])\n",
      "torch.Size([1, 25, 100])\n"
     ]
    }
   ],
   "source": [
    "for i in range(len(dataset)):\n",
    "    print(dataset[1]['img'].shape)\n",
    "    if i == 3:\n",
    "        break"
   ]
  },
  {
   "cell_type": "code",
   "execution_count": 87,
   "id": "3afa34d6-3e83-4f6c-b23e-f593f606a7f3",
   "metadata": {},
   "outputs": [
    {
     "name": "stdout",
     "output_type": "stream",
     "text": [
      "0 torch.Size([1, 25, 100]) tensor([ 3.,  3.,  7., 49., 40.])\n"
     ]
    },
    {
     "data": {
      "image/png": "[encoded data removed]",
      "text/plain": [
       "<Figure size 640x480 with 1 Axes>"
      ]
     },
     "metadata": {},
     "output_type": "display_data"
    }
   ],
   "source": [
    "from torchvision.transforms.functional import to_pil_image\n",
    "from matplotlib import pyplot as plt\n",
    "\n",
    "for i, sample in enumerate(dataset):\n",
    "    x = sample['img']\n",
    "    y = sample['label']\n",
    "    print(i, x.shape, y)\n",
    "    #x = x.view(1,28,28)\n",
    "    img_pil = to_pil_image(x)\n",
    "    plt.imshow(img_pil, 'gray')\n",
    "    plt.show()\n",
    "    #img_pil.show()\n",
    "    break"
   ]
  },
  {
   "cell_type": "code",
   "execution_count": 188,
   "id": "4008024a-8a02-4635-8c65-0c117e29fd82",
   "metadata": {},
   "outputs": [
    {
     "name": "stdout",
     "output_type": "stream",
     "text": [
      "[50 60 60 42  9]\n",
      "['n' 'x' 'x' 'f' '8']\n",
      "(200, 50)\n"
     ]
    },
    {
     "data": {
      "image/png": "[encoded data removed]",
      "text/plain": [
       "<Figure size 640x480 with 1 Axes>"
      ]
     },
     "metadata": {},
     "output_type": "display_data"
    }
   ],
   "source": [
    "img = Image.open(\"./samples/nxxf8.png\")\n",
    "label = 'nxxf8'\n",
    "encod_label = encoder.transform(list(label))\n",
    "print(encod_label)\n",
    "print(encoder.inverse_transform(encod_label))\n",
    "print(img.size)\n",
    "plt.imshow(img, 'gray')\n",
    "plt.show()"
   ]
  },
  {
   "cell_type": "markdown",
   "id": "5a137f89-44b7-4158-9482-337cf7f7be8b",
   "metadata": {},
   "source": [
    "## Model"
   ]
  },
  {
   "cell_type": "code",
   "execution_count": 124,
   "id": "252df335-cc40-4921-a935-98d4855a0bd4",
   "metadata": {},
   "outputs": [],
   "source": [
    "import torch.nn as nn\n",
    "import torch.optim as optim\n",
    "import time\n",
    "# import torch.nn.functional as F F.relu() for forward() \n",
    "\n",
    "#multi-layer perceptron (MLP) \n",
    "# MLPs cannot handle two or three-dimensional data\n",
    "# Bidirectional Long Short Term Memory networks (LSTM)  model is a type of recurrent neural network (RNN) architecture that's particularly well-suited for sequence data\n",
    "class MNISTLogistic(nn.Module):\n",
    "    def __init__(self, N, N1, N2):\n",
    "        super().__init__()\n",
    "        self.fc1 = nn.Linear(2500, N)  # pytorch finds the nn.Parameters inside this nn.Module\n",
    "        self.relu1 = nn.ReLU()\n",
    "        self.fc2 = nn.Linear(N, N1)\n",
    "        self.relu2 = nn.ReLU()\n",
    "        self.fc3 = nn.Linear(N1, N2)  # pytorch finds the nn.Parameters inside this nn.Module\n",
    "        self.relu3 = nn.ReLU()\n",
    "        #self.fc4 = nn.Linear(N2, 10)\n",
    "        #self.softmax = nn.Softmax(dim=1)\n",
    "        \n",
    "\n",
    "    def forward(self, xb):\n",
    "        out = self.fc1(xb)\n",
    "        out = self.relu1(out)\n",
    "        out = self.fc2(out)\n",
    "        out = self.relu2(out)\n",
    "        out = self.fc3(out)\n",
    "        out = self.relu3(out)\n",
    "        #out = self.fc4(out)\n",
    "        #out = self.softmax(out)\n",
    "        return out \n",
    "\n",
    "class LSTMModel(nn.Module):\n",
    "    def __init__(self, input_dim, hidden_dim, layer_dim, output_dim):\n",
    "        super(LSTMModel, self).__init__()\n",
    "        self.hidden_dim = hidden_dim\n",
    "        self.layer_dim = layer_dim\n",
    "\n",
    "        self.LSTM = nn.LSTM(input_dim, hidden_dim, layer_dim, batch_first=True, bidirectional=False)\n",
    "        self.fc = nn.Linear(hidden_dim, output_dim)\n",
    "        #self.softmax = nn.Softmax(dim=1)\n",
    "        self.pool = nn.AdaptiveAvgPool1d(5)\n",
    "\n",
    "    def forward(self, x):\n",
    "        # Initialize hidden state with zeros\n",
    "        h0 = torch.zeros(self.layer_dim, x.size(0), self.hidden_dim).requires_grad_()\n",
    "        # Initialize cell state\n",
    "        c0 = torch.zeros(self.layer_dim, x.size(0), self.hidden_dim).requires_grad_()\n",
    "\n",
    "        #h0 = torch.zeros(self.num_layers * 2, x.size(0), self.hidden_size).to(x.device)  # *2 for bidirectional\n",
    "        #c0 = torch.zeros(self.num_layers * 2, x.size(0), self.hidden_size).to(x.device)\n",
    "\n",
    "        #out, (hn, cn) = self.bilstm(x, (h0, c0))\n",
    "        out, (hn, cn) = self.LSTM(x, (h0, c0))\n",
    "\n",
    "        # Index hidden state of last time step\n",
    "        # out.size() --> 100, 28, 100\n",
    "        # out[:, -1, :] --> 100, 100 --> just want last time step hidden states! \n",
    "        out = self.fc(out[:, -1, :])\n",
    "        # out.size() --> 100, 10\n",
    "        #out = self.softmax(out)\n",
    "        out = self.pool(out)\n",
    "        \n",
    "\n",
    "        return out\n",
    "        "
   ]
  },
  {
   "cell_type": "code",
   "execution_count": 66,
   "id": "d62de873-5f00-4d18-bb70-4acc58cbe7e7",
   "metadata": {},
   "outputs": [
    {
     "name": "stdout",
     "output_type": "stream",
     "text": [
      "The model has 125,887 trainable parameters\n"
     ]
    }
   ],
   "source": [
    "#28 (assuming you're processing one row of pixels at a time)\n",
    "input_dim = 100 # img size 25*100\n",
    "hidden_dim = 128\n",
    "layer_dim = 1 # Number of hidden recurrent layers.\n",
    "output_dim = VOCAB_SIZE # 63;  26 for en characters only \n",
    "\n",
    "model = LSTMModel(input_dim, hidden_dim, layer_dim, output_dim)\n",
    "\n",
    "count_parameters = sum(p.numel() for p in model.parameters() if p.requires_grad) #to calculate the number of trainable parameters (weights and biases) in our model\n",
    "print(f'The model has {count_parameters:,} trainable parameters')"
   ]
  },
  {
   "cell_type": "code",
   "execution_count": 29,
   "id": "49c28a8f-fd0d-4f80-9a42-70888374ae92",
   "metadata": {},
   "outputs": [
    {
     "name": "stdout",
     "output_type": "stream",
     "text": [
      "<class 'torch.Tensor'> torch.Size([512, 100])\n",
      "<class 'torch.Tensor'> torch.Size([512, 128])\n",
      "<class 'torch.Tensor'> torch.Size([512])\n",
      "<class 'torch.Tensor'> torch.Size([512])\n",
      "<class 'torch.Tensor'> torch.Size([63, 128])\n",
      "<class 'torch.Tensor'> torch.Size([63])\n"
     ]
    }
   ],
   "source": [
    "for param in model.parameters():\n",
    "    print(type(param.data), param.size())"
   ]
  },
  {
   "cell_type": "code",
   "execution_count": 54,
   "id": "b5a2fcad-95eb-47bb-a583-4bbfe51d0640",
   "metadata": {},
   "outputs": [
    {
     "data": {
      "text/plain": [
       "LSTMModel(\n",
       "  (LSTM): LSTM(100, 128, batch_first=True)\n",
       "  (fc): Linear(in_features=128, out_features=63, bias=True)\n",
       "  (pool): AdaptiveAvgPool1d(output_size=5)\n",
       ")"
      ]
     },
     "execution_count": 54,
     "metadata": {},
     "output_type": "execute_result"
    }
   ],
   "source": [
    "model"
   ]
  },
  {
   "cell_type": "code",
   "execution_count": 55,
   "id": "ddd82cbd-48e2-4162-8dbd-42866140427e",
   "metadata": {},
   "outputs": [],
   "source": [
    "\n",
    "#model = model.to(device)\n",
    "optimizer = torch.optim.SGD(model.parameters(), lr=0.1) \n",
    "loss_fn = nn.CrossEntropyLoss()"
   ]
  },
  {
   "cell_type": "code",
   "execution_count": 189,
   "id": "49572337-8e22-4456-b56b-8339012cf7ae",
   "metadata": {},
   "outputs": [],
   "source": [
    "import torch.nn.functional as F\n",
    "class Model1(torch.nn.Module):\n",
    "    def __init__(self, dim, dim_out):\n",
    "        super(Model1, self).__init__()\n",
    "        self.conv = nn.Sequential(\n",
    "            nn.Conv2d(3, dim, 5, stride=2, padding=2), # (N-F)/stride +1\n",
    "            nn.BatchNorm2d(dim),\n",
    "            nn.MaxPool2d(3, stride=2, padding=1),\n",
    "            nn.Conv2d(dim, dim*2, 3, padding=1),\n",
    "            nn.BatchNorm2d(dim*2),\n",
    "            nn.Dropout(0.1),\n",
    "            nn.Conv2d(dim*2, dim*4, 3, padding=1),\n",
    "            nn.BatchNorm2d(dim*4),\n",
    "            nn.Dropout(0.1),\n",
    "            nn.Conv2d(dim*4, dim*8, 3, padding=1)\n",
    "        )\n",
    "        self.fc1 = nn.Linear(dim*8*7, dim*4)\n",
    "        self.rnn = nn.LSTM(dim*4, dim*2, 2, bidirectional=True, batch_first=True)\n",
    "        self.fc2 = nn.Linear(dim*2*2, dim_out)\n",
    "        self.pool = nn.AdaptiveAvgPool1d(5)\n",
    "\n",
    "    def forward(self, x):\n",
    "        bs, _, _, _ = x.size()\n",
    "        x = self.conv(x)\n",
    "        x = x.permute(0, 3, 1, 2)\n",
    "        x = x.view(bs, x.size(1), -1)\n",
    "        x = self.fc1(x)\n",
    "        x = F.relu(x)\n",
    "        x, _ = self.rnn(x)\n",
    "        x = self.fc2(x).transpose(1, 2)\n",
    "        x = self.pool(x)\n",
    "\n",
    "        return x\n",
    "model = Model1(dim=64, dim_out=63)"
   ]
  },
  {
   "cell_type": "code",
   "execution_count": 118,
   "id": "48f82eea-09b3-4ccf-a37f-0534910f84c3",
   "metadata": {},
   "outputs": [
    {
     "data": {
      "text/plain": [
       "torch.Size([4, 1, 25, 100])"
      ]
     },
     "execution_count": 118,
     "metadata": {},
     "output_type": "execute_result"
    }
   ],
   "source": [
    "x.size()"
   ]
  },
  {
   "cell_type": "code",
   "execution_count": 197,
   "id": "8ed365e0-8ac7-4756-b798-79608405d0bb",
   "metadata": {},
   "outputs": [
    {
     "name": "stdout",
     "output_type": "stream",
     "text": [
      "torch.Size([4, 3, 25, 100])\n",
      "tensor(4.1551, grad_fn=<NllLoss2DBackward0>)\n",
      "torch.Size([4, 63, 5])\n",
      "torch.Size([4, 5])\n"
     ]
    }
   ],
   "source": [
    "predictions = []\n",
    "targets = []\n",
    "for i, batch in enumerate(train_loader):\n",
    "    x, y = batch['img'], batch['label']\n",
    "    \n",
    "    #x = x.view(x.size(0), x.size(2), x.size(3))\n",
    "    print(x.shape)\n",
    "    pred = model(x)\n",
    "    loss_value = loss_fn(pred, y)\n",
    "    print(loss_value)\n",
    "    print(pred.shape)\n",
    "    out = pred.argmax(1)\n",
    "    print(out.shape)\n",
    "    #accuracy = \n",
    "    #encoder.inverse_transform(prediction)\n",
    "\n",
    "    #print(list(y[0]))\n",
    "    #print(y)\n",
    "    break\n",
    "\n",
    "#pred[0:]\n",
    "#pred[0,:,:]\n",
    "#pred"
   ]
  },
  {
   "cell_type": "code",
   "execution_count": 176,
   "id": "0dc934da-9a33-4b58-84ec-52ed13316bdf",
   "metadata": {},
   "outputs": [
    {
     "data": {
      "text/plain": [
       "256"
      ]
     },
     "execution_count": 176,
     "metadata": {},
     "output_type": "execute_result"
    }
   ],
   "source": [
    "64*2*2"
   ]
  },
  {
   "cell_type": "code",
   "execution_count": 44,
   "id": "2f263cf4-b61f-441f-a6dd-07b66378b793",
   "metadata": {},
   "outputs": [
    {
     "data": {
      "text/plain": [
       "tensor([[-0.1108,  0.1330, -0.0094, -0.1640,  0.2175,  0.2231, -0.1106,  0.0860,\n",
       "         -0.0360,  0.1636],\n",
       "        [-0.1288,  0.0996, -0.0513, -0.1652,  0.2145,  0.2460, -0.1010,  0.0735,\n",
       "         -0.0532,  0.1434],\n",
       "        [-0.1101,  0.0821, -0.0456, -0.1347,  0.2189,  0.2388, -0.1025,  0.0455,\n",
       "         -0.0802,  0.1400],\n",
       "        [-0.1321,  0.1055, -0.0285, -0.1437,  0.2355,  0.2677, -0.1201,  0.0609,\n",
       "         -0.0257,  0.1537]], grad_fn=<AddmmBackward0>)"
      ]
     },
     "execution_count": 44,
     "metadata": {},
     "output_type": "execute_result"
    }
   ],
   "source": [
    "pred"
   ]
  },
  {
   "cell_type": "markdown",
   "id": "3bac215e-6d9a-4485-93b6-375105f9f7b7",
   "metadata": {},
   "source": [
    "## Train model"
   ]
  },
  {
   "cell_type": "code",
   "execution_count": 200,
   "id": "3a23fbc9-2587-4e4d-a84e-6d759ed75a84",
   "metadata": {},
   "outputs": [],
   "source": [
    "device = 'cpu'\n",
    "def accuracy(out: torch.Tensor, yb: torch.Tensor) -> torch.Tensor:\n",
    "    preds = torch.argmax(out, dim=1)\n",
    "    return (preds == yb).float().mean()\n",
    "\n",
    "def compute_val_accuracy(model, val_loader):\n",
    "    val_acc = 0\n",
    "    for i, batch in enumerate(val_loader):\n",
    "        x, y = batch['img'], batch['label']\n",
    "        #x = x.view(x.size(0), x.size(2), x.size(3))\n",
    "        x = x.to(device)\n",
    "        y = y.to(device)\n",
    "        \n",
    "        pred = model(x)\n",
    "        val_acc += accuracy(pred, y)\n",
    "    return (val_acc.float()/i)\n",
    "\n",
    "def train(model, dataloader, val_loader, loss_fn, opt, num_epoch, report_accuracy=True):\n",
    "    loss_history = []\n",
    "    train_history = []\n",
    "    val_history = []\n",
    "    \n",
    "    for epoch in range(num_epoch):\n",
    "        model.train()\n",
    "\n",
    "        train_acc = 0\n",
    "        train_loss_accum = 0\n",
    "        \n",
    "        for i, batch in enumerate(dataloader):\n",
    "            x, y = batch['img'], batch['label']\n",
    "            #x = x.view(x.size(0), x.size(2), x.size(3))\n",
    "\n",
    "            x = x.to(device)\n",
    "            y = y.to(device)\n",
    "\n",
    "            opt.zero_grad()\n",
    "\n",
    "            pred = model(x)\n",
    "            loss_value = loss_fn(pred, y)\n",
    "            train_loss_accum += loss_value.item()\n",
    "\n",
    "            loss_value.backward()\n",
    "            opt.step()\n",
    "            \n",
    "            if report_accuracy:\n",
    "                train_acc += accuracy(pred, y)\n",
    "\n",
    "        \n",
    "        model.eval()\n",
    "        with torch.no_grad():\n",
    "            val_accuracy = compute_val_accuracy(model, val_loader)\n",
    "\n",
    "        ave_loss = train_loss_accum / i\n",
    "        train_accuracy = float(train_acc) / i\n",
    "        \n",
    "        loss_history.append(float(ave_loss))  \n",
    "        train_history.append(float(train_accuracy))\n",
    "        val_history.append(float(val_accuracy))\n",
    "            \n",
    "            \n",
    "        print(\"Epoch: %d, Average loss: %f, Train accuracy: %f, Val accuracy: %f\" % (epoch, ave_loss, train_accuracy, val_accuracy))"
   ]
  },
  {
   "cell_type": "code",
   "execution_count": 201,
   "id": "474c5faf-4421-43d4-abb8-7ac8fcc237a2",
   "metadata": {},
   "outputs": [
    {
     "name": "stdout",
     "output_type": "stream",
     "text": [
      "Epoch: 0, Average loss: 4.170709, Train accuracy: 0.000000, Val accuracy: 0.000000\n",
      "Epoch: 1, Average loss: 4.170676, Train accuracy: 0.000000, Val accuracy: 0.000000\n",
      "Epoch: 2, Average loss: 4.170805, Train accuracy: 0.000000, Val accuracy: 0.000000\n",
      "Epoch: 3, Average loss: 4.170847, Train accuracy: 0.000000, Val accuracy: 0.000000\n",
      "Epoch: 4, Average loss: 4.170756, Train accuracy: 0.000000, Val accuracy: 0.000000\n"
     ]
    }
   ],
   "source": [
    "\n",
    "train(model, train_loader, val_loader, loss_fn, optimizer, num_epoch=5)"
   ]
  },
  {
   "cell_type": "code",
   "execution_count": null,
   "id": "f2507cab-7029-4b82-9732-2e6d57275d7f",
   "metadata": {},
   "outputs": [],
   "source": []
  }
 ],
 "metadata": {
  "kernelspec": {
   "display_name": "Python 3 (ipykernel)",
   "language": "python",
   "name": "python3"
  },
  "language_info": {
   "codemirror_mode": {
    "name": "ipython",
    "version": 3
   },
   "file_extension": ".py",
   "mimetype": "text/x-python",
   "name": "python",
   "nbconvert_exporter": "python",
   "pygments_lexer": "ipython3",
   "version": "3.9.13"
  }
 },
 "nbformat": 4,
 "nbformat_minor": 5
}
