{
 "cells": [
  {
   "cell_type": "code",
   "execution_count": 11,
   "id": "1a2a0b94-de97-4683-8000-a2b95d4572fa",
   "metadata": {},
   "outputs": [],
   "source": [
    "from PIL import Image\n",
    "import torch\n",
    "from torch.utils.data import Dataset,TensorDataset, DataLoader,  SubsetRandomSampler\n",
    "from torchvision import transforms\n",
    "import torch.nn as nn\n",
    "import torch.optim as optim\n",
    "import time\n",
    "\n",
    "import numpy as np\n",
    "import os\n",
    "from matplotlib import pyplot as plt\n",
    "from sklearn.preprocessing import LabelEncoder"
   ]
  },
  {
   "cell_type": "code",
   "execution_count": 43,
   "id": "15c7ed9d-564b-453f-ac65-2ac73134a5d7",
   "metadata": {},
   "outputs": [
    {
     "name": "stdout",
     "output_type": "stream",
     "text": [
      "NVIDIA GeForce GTX 1660 Ti with Max-Q Design\n"
     ]
    }
   ],
   "source": [
    "device = 'cuda' if torch.cuda.is_available() else 'cpu'\n",
    "print(torch.cuda.get_device_name())"
   ]
  },
  {
   "cell_type": "code",
   "execution_count": 2,
   "id": "041fd61a",
   "metadata": {},
   "outputs": [],
   "source": [
    "\n",
    "\n",
    "class textDataset(Dataset):\n",
    "    def __init__(self, imgdir, label_encoding, transforms=False):\n",
    "        #super(SynthDataset, self).__init__()\n",
    "        self.path = imgdir\n",
    "        self.images = os.listdir(self.path)\n",
    "        self.nSamples = len(self.images)\n",
    "        self.label_encoding = label_encoding\n",
    "        self.transform = transforms\n",
    "        \n",
    "        #f = lambda x: os.path.join(self.path, x)\n",
    "        #self.imagepaths = list(map(f, self.images))\n",
    "\n",
    "        #self.collate_fn = SynthCollator()\n",
    "\n",
    "    def __len__(self):\n",
    "        return len(self.images)\n",
    "\n",
    "    def __getitem__(self, index):\n",
    "        assert index <= len(self), 'index range error'\n",
    "        image_name = self.images[index]\n",
    " \n",
    "        imagepath = os.path.join(self.path, image_name)\n",
    "\n",
    "        img = Image.open(imagepath).convert('RGB') # 4d (+transparency layer) -> 3d \n",
    "        #img = np.array(img) # 3d -> 2d\n",
    "        if self.transform:\n",
    "            img = self.transform(img)\n",
    "        item = {'img': img, 'idx':index}\n",
    "\n",
    "        label = image_name.split('.')[0] #label has 5 symbols always\n",
    "        label = torch.from_numpy(self.label_encoding.transform(list(label))).type(torch.long)\n",
    "        item['label'] = label\n",
    "        \n",
    "        return item"
   ]
  },
  {
   "cell_type": "code",
   "execution_count": 3,
   "id": "0058883d-c416-4c5d-a9ec-2af7d12232be",
   "metadata": {},
   "outputs": [
    {
     "data": {
      "text/html": [
       "<style>#sk-container-id-1 {color: black;}#sk-container-id-1 pre{padding: 0;}#sk-container-id-1 div.sk-toggleable {background-color: white;}#sk-container-id-1 label.sk-toggleable__label {cursor: pointer;display: block;width: 100%;margin-bottom: 0;padding: 0.3em;box-sizing: border-box;text-align: center;}#sk-container-id-1 label.sk-toggleable__label-arrow:before {content: \"▸\";float: left;margin-right: 0.25em;color: #696969;}#sk-container-id-1 label.sk-toggleable__label-arrow:hover:before {color: black;}#sk-container-id-1 div.sk-estimator:hover label.sk-toggleable__label-arrow:before {color: black;}#sk-container-id-1 div.sk-toggleable__content {max-height: 0;max-width: 0;overflow: hidden;text-align: left;background-color: #f0f8ff;}#sk-container-id-1 div.sk-toggleable__content pre {margin: 0.2em;color: black;border-radius: 0.25em;background-color: #f0f8ff;}#sk-container-id-1 input.sk-toggleable__control:checked~div.sk-toggleable__content {max-height: 200px;max-width: 100%;overflow: auto;}#sk-container-id-1 input.sk-toggleable__control:checked~label.sk-toggleable__label-arrow:before {content: \"▾\";}#sk-container-id-1 div.sk-estimator input.sk-toggleable__control:checked~label.sk-toggleable__label {background-color: #d4ebff;}#sk-container-id-1 div.sk-label input.sk-toggleable__control:checked~label.sk-toggleable__label {background-color: #d4ebff;}#sk-container-id-1 input.sk-hidden--visually {border: 0;clip: rect(1px 1px 1px 1px);clip: rect(1px, 1px, 1px, 1px);height: 1px;margin: -1px;overflow: hidden;padding: 0;position: absolute;width: 1px;}#sk-container-id-1 div.sk-estimator {font-family: monospace;background-color: #f0f8ff;border: 1px dotted black;border-radius: 0.25em;box-sizing: border-box;margin-bottom: 0.5em;}#sk-container-id-1 div.sk-estimator:hover {background-color: #d4ebff;}#sk-container-id-1 div.sk-parallel-item::after {content: \"\";width: 100%;border-bottom: 1px solid gray;flex-grow: 1;}#sk-container-id-1 div.sk-label:hover label.sk-toggleable__label {background-color: #d4ebff;}#sk-container-id-1 div.sk-serial::before {content: \"\";position: absolute;border-left: 1px solid gray;box-sizing: border-box;top: 0;bottom: 0;left: 50%;z-index: 0;}#sk-container-id-1 div.sk-serial {display: flex;flex-direction: column;align-items: center;background-color: white;padding-right: 0.2em;padding-left: 0.2em;position: relative;}#sk-container-id-1 div.sk-item {position: relative;z-index: 1;}#sk-container-id-1 div.sk-parallel {display: flex;align-items: stretch;justify-content: center;background-color: white;position: relative;}#sk-container-id-1 div.sk-item::before, #sk-container-id-1 div.sk-parallel-item::before {content: \"\";position: absolute;border-left: 1px solid gray;box-sizing: border-box;top: 0;bottom: 0;left: 50%;z-index: -1;}#sk-container-id-1 div.sk-parallel-item {display: flex;flex-direction: column;z-index: 1;position: relative;background-color: white;}#sk-container-id-1 div.sk-parallel-item:first-child::after {align-self: flex-end;width: 50%;}#sk-container-id-1 div.sk-parallel-item:last-child::after {align-self: flex-start;width: 50%;}#sk-container-id-1 div.sk-parallel-item:only-child::after {width: 0;}#sk-container-id-1 div.sk-dashed-wrapped {border: 1px dashed gray;margin: 0 0.4em 0.5em 0.4em;box-sizing: border-box;padding-bottom: 0.4em;background-color: white;}#sk-container-id-1 div.sk-label label {font-family: monospace;font-weight: bold;display: inline-block;line-height: 1.2em;}#sk-container-id-1 div.sk-label-container {text-align: center;}#sk-container-id-1 div.sk-container {/* jupyter's `normalize.less` sets `[hidden] { display: none; }` but bootstrap.min.css set `[hidden] { display: none !important; }` so we also need the `!important` here to be able to override the default hidden behavior on the sphinx rendered scikit-learn.org. See: https://github.com/scikit-learn/scikit-learn/issues/21755 */display: inline-block !important;position: relative;}#sk-container-id-1 div.sk-text-repr-fallback {display: none;}</style><div id=\"sk-container-id-1\" class=\"sk-top-container\"><div class=\"sk-text-repr-fallback\"><pre>LabelEncoder()</pre><b>In a Jupyter environment, please rerun this cell to show the HTML representation or trust the notebook. <br />On GitHub, the HTML representation is unable to render, please try loading this page with nbviewer.org.</b></div><div class=\"sk-container\" hidden><div class=\"sk-item\"><div class=\"sk-estimator sk-toggleable\"><input class=\"sk-toggleable__control sk-hidden--visually\" id=\"sk-estimator-id-1\" type=\"checkbox\" checked><label for=\"sk-estimator-id-1\" class=\"sk-toggleable__label sk-toggleable__label-arrow\">LabelEncoder</label><div class=\"sk-toggleable__content\"><pre>LabelEncoder()</pre></div></div></div></div></div>"
      ],
      "text/plain": [
       "LabelEncoder()"
      ]
     },
     "execution_count": 3,
     "metadata": {},
     "output_type": "execute_result"
    }
   ],
   "source": [
    "\n",
    "unique_chars = [line.strip() for line in open(\"EN_symbol_dict.txt\", 'r')]\n",
    "VOCAB_SIZE = len(unique_chars) #  62 symbols\n",
    "id_to_ch = dict(enumerate(unique_chars))\n",
    "ch_to_id = {ch: i for i, ch in id_to_ch.items()}\n",
    "\n",
    "encoder = LabelEncoder()\n",
    "encoder.fit(unique_chars)"
   ]
  },
  {
   "cell_type": "code",
   "execution_count": 87,
   "id": "f3dac9af",
   "metadata": {},
   "outputs": [
    {
     "name": "stdout",
     "output_type": "stream",
     "text": [
      "201\n",
      "67\n"
     ]
    }
   ],
   "source": [
    "\n",
    "transform_list = transforms.Compose([\n",
    "               transforms.Grayscale(1),\n",
    "               #transforms.Resize((25, 100)),\n",
    "               transforms.ToTensor(), \n",
    "               transforms.Normalize([0.5], [0.5]) \n",
    "])\n",
    "\n",
    "#transform_list = transforms.Compose([transforms.Grayscale(1),\n",
    "#               transforms.Resize((64, 700)),\n",
    "#               transforms.ToTensor()])\n",
    "                #transforms.Normalize((0.5,), (0.5,))]\n",
    "\n",
    "img_path = \"./samples/\"\n",
    "\n",
    "dataset = textDataset(img_path,label_encoding=encoder, transforms=transform_list)\n",
    "\n",
    "data_size = len(dataset) # 1070\n",
    "validation_fraction = .25\n",
    "\n",
    "\n",
    "val_split = int(np.floor((validation_fraction) * data_size))\n",
    "indices = list(range(data_size))\n",
    "np.random.seed(42)\n",
    "np.random.shuffle(indices)\n",
    "\n",
    "val_indices, train_indices = indices[:val_split], indices[val_split:]\n",
    "\n",
    "train_sampler = SubsetRandomSampler(train_indices)\n",
    "val_sampler = SubsetRandomSampler(val_indices)\n",
    "\n",
    "# Notice that we create test data loader in a different way. We don't have the labels.\n",
    "#test_loader = torch.utils.data.DataLoader(test_dataset, batch_size=batch_size)\n",
    "\n",
    "\n",
    "#transform_list =  [transforms.Grayscale(1),\n",
    "#                    transforms.Resize((28, 28))]\n",
    "#                    #transforms.ToTensor()]\n",
    "                    #transforms.Normalize((0.5,), (0.5,))]\n",
    "#transform2 = transforms.Compose(transform_list)\n",
    "\n",
    "\n",
    "train_loader = torch.utils.data.DataLoader(dataset, batch_size=4,sampler=train_sampler, num_workers=0)\n",
    "val_loader = torch.utils.data.DataLoader(dataset, batch_size=4, sampler=val_sampler, num_workers=0)\n",
    "\n",
    "print(len(train_loader))\n",
    "print(len(val_loader))"
   ]
  },
  {
   "cell_type": "code",
   "execution_count": 7,
   "id": "d9fa2317-7cbf-4cdb-8cfa-8ea841a03444",
   "metadata": {},
   "outputs": [
    {
     "name": "stdout",
     "output_type": "stream",
     "text": [
      "torch.Size([4, 1, 50, 200]) torch.Size([4, 5])\n",
      "torch.Size([4, 1, 50, 200]) torch.Size([4, 5])\n"
     ]
    }
   ],
   "source": [
    "for x in train_loader:\n",
    "    print(x['img'].shape, x['label'].shape)\n",
    "    break\n",
    "for x in val_loader:\n",
    "    print(x['img'].shape, x['label'].shape)\n",
    "    break"
   ]
  },
  {
   "cell_type": "code",
   "execution_count": 8,
   "id": "c4209cb9-3ae8-42fb-a520-6b14b58562ef",
   "metadata": {},
   "outputs": [
    {
     "name": "stdout",
     "output_type": "stream",
     "text": [
      "torch.Size([1, 50, 200])\n",
      "torch.Size([1, 50, 200])\n",
      "torch.Size([1, 50, 200])\n",
      "torch.Size([1, 50, 200])\n"
     ]
    }
   ],
   "source": [
    "for i in range(len(dataset)):\n",
    "    print(dataset[1]['img'].shape)\n",
    "    if i == 3:\n",
    "        break"
   ]
  },
  {
   "cell_type": "code",
   "execution_count": 9,
   "id": "3afa34d6-3e83-4f6c-b23e-f593f606a7f3",
   "metadata": {},
   "outputs": [
    {
     "name": "stdout",
     "output_type": "stream",
     "text": [
      "0 torch.Size([1, 50, 200]) tensor([ 3,  3,  7, 49, 40])\n"
     ]
    },
    {
     "data": {
      "image/png": "[encoded data removed]",
      "text/plain": [
       "<Figure size 640x480 with 1 Axes>"
      ]
     },
     "metadata": {},
     "output_type": "display_data"
    }
   ],
   "source": [
    "from torchvision.transforms.functional import to_pil_image\n",
    "from matplotlib import pyplot as plt\n",
    "\n",
    "for i, sample in enumerate(dataset):\n",
    "    x = sample['img']\n",
    "    y = sample['label']\n",
    "    print(i, x.shape, y)\n",
    "    #x = x.view(1,28,28)\n",
    "    img_pil = to_pil_image(x)\n",
    "    img_pil = img_pil.resize((50, 13), Image.BILINEAR)\n",
    "    plt.imshow(img_pil, 'gray')\n",
    "    plt.show()\n",
    "    #img_pil.show()\n",
    "    break"
   ]
  },
  {
   "cell_type": "code",
   "execution_count": 188,
   "id": "4008024a-8a02-4635-8c65-0c117e29fd82",
   "metadata": {},
   "outputs": [
    {
     "name": "stdout",
     "output_type": "stream",
     "text": [
      "[50 60 60 42  9]\n",
      "['n' 'x' 'x' 'f' '8']\n",
      "(200, 50)\n"
     ]
    },
    {
     "data": {
      "image/png": "[encoded data removed]",
      "text/plain": [
       "<Figure size 640x480 with 1 Axes>"
      ]
     },
     "metadata": {},
     "output_type": "display_data"
    }
   ],
   "source": [
    "img = Image.open(\"./samples/nxxf8.png\")\n",
    "label = 'nxxf8'\n",
    "encod_label = encoder.transform(list(label))\n",
    "print(encod_label)\n",
    "print(encoder.inverse_transform(encod_label))\n",
    "print(img.size)\n",
    "plt.imshow(img, 'gray')\n",
    "plt.show()"
   ]
  },
  {
   "cell_type": "markdown",
   "id": "5a137f89-44b7-4158-9482-337cf7f7be8b",
   "metadata": {},
   "source": [
    "## Model"
   ]
  },
  {
   "cell_type": "markdown",
   "id": "3888ceb2-9372-403f-ae7e-1eab5c94d811",
   "metadata": {
    "jp-MarkdownHeadingCollapsed": true
   },
   "source": [
    "### MLP_LSTM model (does not work)"
   ]
  },
  {
   "cell_type": "code",
   "execution_count": 350,
   "id": "252df335-cc40-4921-a935-98d4855a0bd4",
   "metadata": {},
   "outputs": [],
   "source": [
    "import torch.nn as nn\n",
    "import torch.optim as optim\n",
    "import time\n",
    "# import torch.nn.functional as F F.relu() for forward() \n",
    "\n",
    "#multi-layer perceptron (MLP) does not work for this problem!! \n",
    "# MLPs cannot handle two or three-dimensional data\n",
    "# Bidirectional Long Short Term Memory networks (LSTM)  model is a type of recurrent neural network (RNN) architecture that's particularly well-suited for sequence data\n",
    "class MLP_LSTM(nn.Module):\n",
    "    def __init__(self, dim, output_dim, hidden_dim, layer_dim):\n",
    "        super(MLP_LSTM, self).__init__()\n",
    "        self.mlp = nn.Sequential( \n",
    "            nn.Linear(10000, dim),  # pytorch finds the nn.Parameters inside this nn.Module\n",
    "            nn.ReLU(),\n",
    "            nn.Linear(dim, dim*2),\n",
    "            nn.ReLU(),\n",
    "            nn.Linear(dim*2, dim*4),  # pytorch finds the nn.Parameters inside this nn.Module\n",
    "            #nn.ReLU(),\n",
    "            #nn.Linear(dim*4, 10),\n",
    "            #self.softmax = nn.Softmax(dim=1)\n",
    "        )\n",
    "\n",
    "        self.rnn = nn.LSTM(dim*4, hidden_dim, layer_dim, batch_first=True, bidirectional=False)\n",
    "        self.fc = nn.Linear(hidden_dim, output_dim)\n",
    "        #self.pool = nn.AdaptiveAvgPool1d(5)\n",
    "\n",
    "    def forward(self, x):\n",
    "        #x = x.permute(0, 3, 1, 2)\n",
    "        x = x.view(x.size(0), x.size(2)*x.size(3))\n",
    "        #print(x.shape)\n",
    "        x = self.mlp(x)\n",
    "        x, _ = self.rnn(x)\n",
    "        x = self.fc(x)#.transpose(1, 2)\n",
    "        #x = self.pool(x)\n",
    "        \n",
    "        return x \n",
    "\n",
    "class LSTMModel(nn.Module):\n",
    "    def __init__(self, input_dim, hidden_dim, layer_dim, output_dim):\n",
    "        super(LSTMModel, self).__init__()\n",
    "        self.hidden_dim = hidden_dim\n",
    "        self.layer_dim = layer_dim\n",
    "\n",
    "        self.LSTM = nn.LSTM(input_dim, hidden_dim, layer_dim, batch_first=True, bidirectional=False)\n",
    "        self.fc = nn.Linear(hidden_dim, output_dim)\n",
    "        #self.softmax = nn.Softmax(dim=1)\n",
    "        self.pool = nn.AdaptiveAvgPool1d(5)\n",
    "\n",
    "    def forward(self, x):\n",
    "        # Initialize hidden state with zeros\n",
    "        h0 = torch.zeros(self.layer_dim, x.size(0), self.hidden_dim).requires_grad_()\n",
    "        # Initialize cell state\n",
    "        c0 = torch.zeros(self.layer_dim, x.size(0), self.hidden_dim).requires_grad_()\n",
    "\n",
    "        #h0 = torch.zeros(self.num_layers * 2, x.size(0), self.hidden_size).to(x.device)  # *2 for bidirectional\n",
    "        #c0 = torch.zeros(self.num_layers * 2, x.size(0), self.hidden_size).to(x.device)\n",
    "\n",
    "        #out, (hn, cn) = self.bilstm(x, (h0, c0))\n",
    "        out, (hn, cn) = self.LSTM(x, (h0, c0))\n",
    "\n",
    "        # Index hidden state of last time step\n",
    "        # out.size() --> 100, 28, 100\n",
    "        # out[:, -1, :] --> 100, 100 --> just want last time step hidden states! \n",
    "        out = self.fc(out[:, -1, :])\n",
    "        # out.size() --> 100, 10\n",
    "        #out = self.softmax(out)\n",
    "        out = self.pool(out)\n",
    "        \n",
    "\n",
    "        return out\n",
    "        "
   ]
  },
  {
   "cell_type": "markdown",
   "id": "c929c995-85f9-49c5-a91e-fb2e83ba019b",
   "metadata": {},
   "source": [
    "### FCNN + LSTM model"
   ]
  },
  {
   "cell_type": "code",
   "execution_count": 211,
   "id": "49572337-8e22-4456-b56b-8339012cf7ae",
   "metadata": {},
   "outputs": [],
   "source": [
    "import torch.nn.functional as F\n",
    "class Model1(torch.nn.Module):\n",
    "    def __init__(self, dim, dim_out):\n",
    "        super(Model1, self).__init__()\n",
    "        self.conv = nn.Sequential(\n",
    "            nn.Conv2d(3, dim, 5, stride=2, padding=2), # (N-F)/stride +1\n",
    "            nn.BatchNorm2d(dim),\n",
    "            nn.MaxPool2d(3, stride=2, padding=1),\n",
    "            nn.Conv2d(dim, dim*2, 3, padding=1),\n",
    "            nn.BatchNorm2d(dim*2),\n",
    "            nn.Dropout(0.1),\n",
    "            nn.Conv2d(dim*2, dim*4, 3, padding=1),\n",
    "            nn.BatchNorm2d(dim*4),\n",
    "            nn.Dropout(0.1),\n",
    "            nn.Conv2d(dim*4, dim*8, 3, padding=1)\n",
    "        )\n",
    "        self.fc1 = nn.Linear(dim*8*7, dim*4)\n",
    "        self.rnn = nn.LSTM(dim*4, dim*2, 2, bidirectional=True, batch_first=True)\n",
    "        self.fc2 = nn.Linear(dim*2*2, dim_out)\n",
    "        self.pool = nn.AdaptiveAvgPool1d(5)\n",
    "\n",
    "    def forward(self, x):\n",
    "        bs, _, _, _ = x.size()\n",
    "        x = self.conv(x)\n",
    "        x = x.permute(0, 3, 1, 2)\n",
    "        x = x.view(bs, x.size(1), -1)\n",
    "        x = self.fc1(x)\n",
    "        x = F.relu(x)\n",
    "        x, _ = self.rnn(x)\n",
    "        x = self.fc2(x).transpose(1, 2)\n",
    "        x = self.pool(x)\n",
    "\n",
    "        return x\n",
    "model = Model1(dim=64, dim_out=63)"
   ]
  },
  {
   "cell_type": "code",
   "execution_count": 46,
   "id": "a8e87bdb-af2a-4b6f-a901-71e10a5f822c",
   "metadata": {},
   "outputs": [],
   "source": [
    "import torch.nn.functional as F\n",
    "# for grayscale \n",
    "class Model2(torch.nn.Module):\n",
    "    def __init__(self, dim, dim_out):\n",
    "        super(Model2, self).__init__()\n",
    "        self.conv = nn.Sequential(\n",
    "            nn.Conv2d(1, dim, 5, stride=2, padding=2), # (N-F)/stride +1\n",
    "            nn.BatchNorm2d(dim),\n",
    "            nn.MaxPool2d(3, stride=2, padding=1),\n",
    "            nn.Conv2d(dim, dim*2, 3, padding=1),\n",
    "            nn.BatchNorm2d(dim*2),\n",
    "            nn.Dropout(0.1),\n",
    "            nn.Conv2d(dim*2, dim*4, 3, padding=1),\n",
    "            nn.BatchNorm2d(dim*4),\n",
    "            nn.Dropout(0.1),\n",
    "            nn.Conv2d(dim*4, dim*8, 3, padding=1)\n",
    "        )\n",
    "        self.fc1 = nn.Linear(dim*8*13, dim*4)\n",
    "        self.rnn = nn.LSTM(dim*4, dim*2, 2, bidirectional=True, batch_first=True)\n",
    "        self.fc2 = nn.Linear(dim*2*2, dim_out)\n",
    "        self.pool = nn.AdaptiveAvgPool1d(5)\n",
    "\n",
    "    def forward(self, x):\n",
    "        bs, _, _, _ = x.size()\n",
    "        x = self.conv(x)\n",
    "        #print(\"after FCNN \", x.shape)\n",
    "        x = x.permute(0, 3, 1, 2)\n",
    "        x = x.view(bs, x.size(1), -1)\n",
    "        x = self.fc1(x)\n",
    "        x = F.relu(x)\n",
    "        x, _ = self.rnn(x)\n",
    "        x = self.fc2(x).transpose(1, 2)\n",
    "        x = self.pool(x)\n",
    "\n",
    "        return x\n"
   ]
  },
  {
   "cell_type": "markdown",
   "id": "d05f39ea-53ae-4c61-8f26-399b9e524056",
   "metadata": {},
   "source": [
    "### Setup model parameters"
   ]
  },
  {
   "cell_type": "code",
   "execution_count": 47,
   "id": "d62de873-5f00-4d18-bb70-4acc58cbe7e7",
   "metadata": {},
   "outputs": [
    {
     "name": "stdout",
     "output_type": "stream",
     "text": [
      "The model has 4,062,655 trainable parameters\n"
     ]
    }
   ],
   "source": [
    "#28 (assuming you're processing one row of pixels at a time)\n",
    "input_dim = 100 # img size 25*100\n",
    "hidden_dim = 64\n",
    "layer_dim = 1 # Number of hidden recurrent layers.\n",
    "output_dim = VOCAB_SIZE # 63;  26 for en characters only \n",
    "\n",
    "#model = LSTMModel(input_dim, hidden_dim, layer_dim, output_dim)\n",
    "#model = MLP_LSTM(hidden_dim, output_dim, hidden_dim, layer_dim)\n",
    "model = Model2(dim=64, dim_out=63)\n",
    "\n",
    "\n",
    "optimizer = torch.optim.SGD(model.parameters(), lr=0.1) \n",
    "loss_fn = nn.CrossEntropyLoss()\n",
    "\n",
    "\n",
    "count_parameters = sum(p.numel() for p in model.parameters() if p.requires_grad) #to calculate the number of trainable parameters (weights and biases) in our model\n",
    "print(f'The model has {count_parameters:,} trainable parameters')"
   ]
  },
  {
   "cell_type": "code",
   "execution_count": 353,
   "id": "8ed365e0-8ac7-4756-b798-79608405d0bb",
   "metadata": {},
   "outputs": [
    {
     "name": "stdout",
     "output_type": "stream",
     "text": [
      "torch.Size([4, 1, 50, 200])\n",
      "torch.Size([4, 63])\n"
     ]
    }
   ],
   "source": [
    "predictions = []\n",
    "targets = []\n",
    "for i, batch in enumerate(train_loader):\n",
    "    x, y = batch['img'], batch['label']\n",
    "    \n",
    "    #x = x.view(x.size(0), x.size(2), x.size(3))\n",
    "    print(x.shape)\n",
    "    pred = model(x)\n",
    "    #loss_value = loss_fn(pred, y)\n",
    "    #print(loss_value)\n",
    "    print(pred.shape)\n",
    "    #out = pred.argmax(1)\n",
    "    #print(out)\n",
    "    #print(list(y[0]))\n",
    "    #print(y)\n",
    "    break\n",
    "\n",
    "#pred[0:]\n",
    "#pred[0,:,:]\n",
    "#pred\n",
    "#for prediction in out:\n",
    "#    print(encoder.inverse_transform(prediction)) \n",
    "#print(\"gr_tr\")\n",
    "#for gr_tr in y:\n",
    "#    print(encoder.inverse_transform(gr_tr)) "
   ]
  },
  {
   "cell_type": "code",
   "execution_count": 311,
   "id": "49c28a8f-fd0d-4f80-9a42-70888374ae92",
   "metadata": {},
   "outputs": [],
   "source": [
    "#for param in model.parameters():\n",
    "#    print(type(param.data), param.size())"
   ]
  },
  {
   "cell_type": "code",
   "execution_count": 48,
   "id": "b5a2fcad-95eb-47bb-a583-4bbfe51d0640",
   "metadata": {},
   "outputs": [
    {
     "data": {
      "text/plain": [
       "Model2(\n",
       "  (conv): Sequential(\n",
       "    (0): Conv2d(1, 64, kernel_size=(5, 5), stride=(2, 2), padding=(2, 2))\n",
       "    (1): BatchNorm2d(64, eps=1e-05, momentum=0.1, affine=True, track_running_stats=True)\n",
       "    (2): MaxPool2d(kernel_size=3, stride=2, padding=1, dilation=1, ceil_mode=False)\n",
       "    (3): Conv2d(64, 128, kernel_size=(3, 3), stride=(1, 1), padding=(1, 1))\n",
       "    (4): BatchNorm2d(128, eps=1e-05, momentum=0.1, affine=True, track_running_stats=True)\n",
       "    (5): Dropout(p=0.1, inplace=False)\n",
       "    (6): Conv2d(128, 256, kernel_size=(3, 3), stride=(1, 1), padding=(1, 1))\n",
       "    (7): BatchNorm2d(256, eps=1e-05, momentum=0.1, affine=True, track_running_stats=True)\n",
       "    (8): Dropout(p=0.1, inplace=False)\n",
       "    (9): Conv2d(256, 512, kernel_size=(3, 3), stride=(1, 1), padding=(1, 1))\n",
       "  )\n",
       "  (fc1): Linear(in_features=6656, out_features=256, bias=True)\n",
       "  (rnn): LSTM(256, 128, num_layers=2, batch_first=True, bidirectional=True)\n",
       "  (fc2): Linear(in_features=256, out_features=63, bias=True)\n",
       "  (pool): AdaptiveAvgPool1d(output_size=5)\n",
       ")"
      ]
     },
     "execution_count": 48,
     "metadata": {},
     "output_type": "execute_result"
    }
   ],
   "source": [
    "model"
   ]
  },
  {
   "cell_type": "code",
   "execution_count": 176,
   "id": "0dc934da-9a33-4b58-84ec-52ed13316bdf",
   "metadata": {},
   "outputs": [
    {
     "data": {
      "text/plain": [
       "256"
      ]
     },
     "execution_count": 176,
     "metadata": {},
     "output_type": "execute_result"
    }
   ],
   "source": [
    "64*2*2"
   ]
  },
  {
   "cell_type": "code",
   "execution_count": 44,
   "id": "2f263cf4-b61f-441f-a6dd-07b66378b793",
   "metadata": {},
   "outputs": [
    {
     "data": {
      "text/plain": [
       "tensor([[-0.1108,  0.1330, -0.0094, -0.1640,  0.2175,  0.2231, -0.1106,  0.0860,\n",
       "         -0.0360,  0.1636],\n",
       "        [-0.1288,  0.0996, -0.0513, -0.1652,  0.2145,  0.2460, -0.1010,  0.0735,\n",
       "         -0.0532,  0.1434],\n",
       "        [-0.1101,  0.0821, -0.0456, -0.1347,  0.2189,  0.2388, -0.1025,  0.0455,\n",
       "         -0.0802,  0.1400],\n",
       "        [-0.1321,  0.1055, -0.0285, -0.1437,  0.2355,  0.2677, -0.1201,  0.0609,\n",
       "         -0.0257,  0.1537]], grad_fn=<AddmmBackward0>)"
      ]
     },
     "execution_count": 44,
     "metadata": {},
     "output_type": "execute_result"
    }
   ],
   "source": [
    "pred"
   ]
  },
  {
   "cell_type": "markdown",
   "id": "3bac215e-6d9a-4485-93b6-375105f9f7b7",
   "metadata": {},
   "source": [
    "## Train model"
   ]
  },
  {
   "cell_type": "code",
   "execution_count": 49,
   "id": "3a23fbc9-2587-4e4d-a84e-6d759ed75a84",
   "metadata": {},
   "outputs": [],
   "source": [
    "\n",
    "def accuracy(out: torch.Tensor, yb: torch.Tensor) -> torch.Tensor:\n",
    "    preds = torch.argmax(out.detach().cpu(), dim=1)\n",
    "    return (preds == yb.detach().cpu()).float().mean()\n",
    "\n",
    "def compute_val_accuracy(model, val_loader):\n",
    "    val_acc = 0\n",
    "    for i, batch in enumerate(val_loader):\n",
    "        x, y = batch['img'], batch['label']\n",
    "        #x = x.view(x.size(0), x.size(2), x.size(3))\n",
    "        x = x.to(device)\n",
    "        y = y.to(device)\n",
    "        \n",
    "        pred = model(x)\n",
    "        val_acc += accuracy(pred, y)\n",
    "    return (val_acc.float()/i)\n",
    "\n",
    "def train(model, dataloader, val_loader, loss_fn, opt, num_epoch, report_accuracy=True):\n",
    "    loss_history = []\n",
    "    train_history = []\n",
    "    val_history = []\n",
    "    model = model.to(device)\n",
    "    \n",
    "    for epoch in range(num_epoch):\n",
    "        model.train()\n",
    "\n",
    "        train_acc = 0\n",
    "        train_loss_accum = 0\n",
    "        \n",
    "        for i, batch in enumerate(dataloader):\n",
    "            x, y = batch['img'], batch['label']\n",
    "            #x = x.view(x.size(0), x.size(2), x.size(3))\n",
    "\n",
    "            x = x.to(device)\n",
    "            y = y.to(device)\n",
    "\n",
    "            opt.zero_grad()\n",
    "\n",
    "            pred = model(x)\n",
    "            loss_value = loss_fn(pred, y)\n",
    "            train_loss_accum += loss_value.item()\n",
    "\n",
    "            loss_value.backward()\n",
    "            opt.step()\n",
    "            \n",
    "            if report_accuracy:\n",
    "                train_acc += accuracy(pred, y)\n",
    "\n",
    "        \n",
    "        model.eval()\n",
    "        with torch.no_grad():\n",
    "            val_accuracy = compute_val_accuracy(model, val_loader)\n",
    "\n",
    "        ave_loss = train_loss_accum / i\n",
    "        train_accuracy = float(train_acc) / i\n",
    "        \n",
    "        loss_history.append(float(ave_loss))  \n",
    "        train_history.append(float(train_accuracy))\n",
    "        val_history.append(float(val_accuracy))\n",
    "\n",
    "        print(\"Epoch:\", epoch, \"Loss \", ave_loss)\n",
    "            \n",
    "            \n",
    "    print(\"Epoch: %d, Average loss: %f, Train accuracy: %f, Val accuracy: %f\" % (epoch, ave_loss, train_accuracy, val_accuracy))"
   ]
  },
  {
   "cell_type": "code",
   "execution_count": 50,
   "id": "5dd55d93-e14a-427e-a318-5f0f1e210b78",
   "metadata": {},
   "outputs": [
    {
     "name": "stdout",
     "output_type": "stream",
     "text": [
      "cuda\n"
     ]
    },
    {
     "data": {
      "text/plain": [
       "0"
      ]
     },
     "execution_count": 50,
     "metadata": {},
     "output_type": "execute_result"
    }
   ],
   "source": [
    "print(device)\n",
    "torch.cuda.current_device()"
   ]
  },
  {
   "cell_type": "code",
   "execution_count": 51,
   "id": "474c5faf-4421-43d4-abb8-7ac8fcc237a2",
   "metadata": {},
   "outputs": [
    {
     "name": "stdout",
     "output_type": "stream",
     "text": [
      "Epoch: 0 Loss  3.160610122680664\n",
      "Epoch: 1 Loss  2.7558185720443724\n",
      "Epoch: 2 Loss  2.412718094587326\n",
      "Epoch: 3 Loss  2.024904127120972\n",
      "Epoch: 4 Loss  1.5488023030757905\n",
      "Epoch: 5 Loss  1.0476752224564552\n",
      "Epoch: 6 Loss  0.7252323894947768\n",
      "Epoch: 7 Loss  0.5405438980460167\n",
      "Epoch: 8 Loss  0.39598247975111006\n",
      "Epoch: 9 Loss  0.3398954224586487\n",
      "Epoch: 10 Loss  0.2654195274785161\n",
      "Epoch: 11 Loss  0.1822983526624739\n",
      "Epoch: 12 Loss  0.11209394344128669\n",
      "Epoch: 13 Loss  0.09144859520718455\n",
      "Epoch: 14 Loss  0.09314340916927905\n",
      "Epoch: 14, Average loss: 0.093143, Train accuracy: 0.978666, Val accuracy: 0.899748\n",
      "CPU times: total: 50.4 s\n",
      "Wall time: 52.9 s\n"
     ]
    }
   ],
   "source": [
    "%%time\n",
    "train(model, train_loader, val_loader, loss_fn, optimizer, num_epoch=15)"
   ]
  },
  {
   "cell_type": "code",
   "execution_count": 52,
   "id": "f2507cab-7029-4b82-9732-2e6d57275d7f",
   "metadata": {},
   "outputs": [
    {
     "data": {
      "text/plain": [
       "67"
      ]
     },
     "execution_count": 52,
     "metadata": {},
     "output_type": "execute_result"
    }
   ],
   "source": [
    "len(val_loader)"
   ]
  },
  {
   "cell_type": "markdown",
   "id": "ea0c2f90-6836-49d7-b07f-8a25909b193e",
   "metadata": {},
   "source": [
    "### Metrics, Analysis"
   ]
  },
  {
   "cell_type": "code",
   "execution_count": 53,
   "id": "4cb99414-8c35-4767-9f5f-974fec9b42a5",
   "metadata": {},
   "outputs": [
    {
     "data": {
      "text/plain": [
       "tensor(0.8997)"
      ]
     },
     "execution_count": 53,
     "metadata": {},
     "output_type": "execute_result"
    }
   ],
   "source": [
    "val_accuracy = compute_val_accuracy(model, val_loader)\n",
    "val_accuracy"
   ]
  },
  {
   "cell_type": "code",
   "execution_count": 65,
   "id": "94e27e6f-f3b0-49ce-8fe5-136c48e72e23",
   "metadata": {},
   "outputs": [],
   "source": [
    "# Character Error Rate (CER)\n",
    "def character_error_rate(predicted_text, ground_truth_text):\n",
    "    insertion = 0\n",
    "    deletion = 0\n",
    "    substitution = 0\n",
    "    \n",
    "    # Calculate edit operations\n",
    "    for i in range(len(predicted_text)):\n",
    "        if i >= len(ground_truth_text):\n",
    "            insertion += 1\n",
    "        elif predicted_text[i] != ground_truth_text[i]:\n",
    "            substitution += 1\n",
    "            \n",
    "    deletion = len(ground_truth_text) - len(predicted_text)\n",
    "    cer = (insertion + deletion + substitution) / len(ground_truth_text)\n",
    "    return cer \n",
    "            "
   ]
  },
  {
   "cell_type": "code",
   "execution_count": 91,
   "id": "3ca9c9bd-9fa1-440c-abaf-38f7d0e5c2aa",
   "metadata": {},
   "outputs": [],
   "source": [
    "# The lower the value, the better the performance of the system\n",
    "def cer_metrics(val_indices, dataset, model, encoder):\n",
    "    model.eval()\n",
    "    cer_val = {}\n",
    "    for i in val_indices:\n",
    "        sample = dataset[i]\n",
    "    \n",
    "        x = sample['img']\n",
    "        y = sample['label']\n",
    "    \n",
    "        x = torch.unsqueeze(x, 0) \n",
    "        #print(i, x.shape, y)\n",
    "        \n",
    "        x = x.to(device)\n",
    "    \n",
    "        pred = model(x).detach().cpu()\n",
    "        pred = torch.argmax(pred, dim=1)\n",
    "        pred = pred.tolist()[0]\n",
    "    \n",
    "        y = y.tolist()\n",
    "    \n",
    "        cer = character_error_rate(pred, y)\n",
    "        y = encoder.inverse_transform(y)\n",
    "        pred = encoder.inverse_transform(pred)\n",
    "        \n",
    "        cer_val[i] = [cer, y, pred]\n",
    "    return cer_val\n",
    "        "
   ]
  },
  {
   "cell_type": "code",
   "execution_count": 93,
   "id": "0a7feffa-0108-473f-9d15-cdc1e1016f2f",
   "metadata": {},
   "outputs": [
    {
     "name": "stdout",
     "output_type": "stream",
     "text": [
      "ind  1064   [0.2, array(['y', 'w', 'n', '6', 'f'], dtype='<U1'), array(['y', 'w', 'm', '6', 'f'], dtype='<U1')]\n"
     ]
    }
   ],
   "source": [
    "cer_val = cer_metrics(val_indices, dataset, model, encoder)\n",
    "#wrong_pred = np.argsort(cer_val.key())[:10]\n",
    "wrong_pred = sorted(cer_val.items(), reverse=True)\n",
    "\n",
    "for ind, values in wrong_pred:\n",
    "    print(\"ind \", ind, \" \", values)\n",
    "    break\n",
    "\n",
    "    \n",
    "    "
   ]
  },
  {
   "cell_type": "code",
   "execution_count": 99,
   "id": "ec2213a5-8a0c-4875-a8ae-3819e01471d5",
   "metadata": {},
   "outputs": [
    {
     "data": {
      "image/png": "[encoded data removed]",
      "text/plain": [
       "<Figure size 640x480 with 1 Axes>"
      ]
     },
     "metadata": {},
     "output_type": "display_data"
    }
   ],
   "source": [
    "plt.imshow(val_loader.dataset[ind]['img'].permute(1, 2, 0) / 2 + .5, 'gray')\n",
    "plt.show()"
   ]
  },
  {
   "cell_type": "code",
   "execution_count": 97,
   "id": "aa87b4fe-0b26-401d-b29f-fdc725e4b814",
   "metadata": {},
   "outputs": [
    {
     "data": {
      "text/plain": [
       "{'img': tensor([[[0.5059, 0.5059, 0.5059,  ..., 0.9686, 0.9686, 0.9686],\n",
       "          [0.5059, 0.5059, 0.5059,  ..., 0.9686, 0.9686, 0.9686],\n",
       "          [0.5059, 0.5059, 0.5059,  ..., 0.9686, 0.9686, 0.9686],\n",
       "          ...,\n",
       "          [0.5294, 0.5294, 0.5294,  ..., 0.9922, 0.9922, 0.9922],\n",
       "          [0.5294, 0.5294, 0.5294,  ..., 0.9922, 0.9922, 0.9922],\n",
       "          [0.5294, 0.5294, 0.5294,  ..., 0.9922, 0.9922, 0.9922]]]),\n",
       " 'idx': 1064,\n",
       " 'label': tensor([61, 59, 50,  7, 42])}"
      ]
     },
     "execution_count": 97,
     "metadata": {},
     "output_type": "execute_result"
    }
   ],
   "source": [
    "val_loader.dataset[ind]['img']"
   ]
  },
  {
   "cell_type": "code",
   "execution_count": null,
   "id": "added2e9-ab73-4e60-93ef-c5f7aaf7a15a",
   "metadata": {},
   "outputs": [],
   "source": []
  }
 ],
 "metadata": {
  "kernelspec": {
   "display_name": "Python 3 (ipykernel)",
   "language": "python",
   "name": "python3"
  },
  "language_info": {
   "codemirror_mode": {
    "name": "ipython",
    "version": 3
   },
   "file_extension": ".py",
   "mimetype": "text/x-python",
   "name": "python",
   "nbconvert_exporter": "python",
   "pygments_lexer": "ipython3",
   "version": "3.9.13"
  }
 },
 "nbformat": 4,
 "nbformat_minor": 5
}
